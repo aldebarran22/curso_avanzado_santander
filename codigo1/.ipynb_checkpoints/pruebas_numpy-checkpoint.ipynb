{
 "cells": [
  {
   "cell_type": "markdown",
   "id": "6957195b-ea6c-42c6-b34a-acd1501a2e95",
   "metadata": {},
   "source": [
    "### Pruebas con la librería numpy"
   ]
  },
  {
   "cell_type": "code",
   "execution_count": 1,
   "id": "dfcc1e03-8ea8-4f17-b819-ecc87d70566d",
   "metadata": {},
   "outputs": [],
   "source": [
    "import numpy as np"
   ]
  },
  {
   "cell_type": "code",
   "execution_count": 2,
   "id": "18e1c5b6-a539-42a3-8079-f2e6088bcd05",
   "metadata": {},
   "outputs": [],
   "source": [
    "L = list(range(1000000))\n",
    "arr = np.arange(1000000)"
   ]
  },
  {
   "cell_type": "code",
   "execution_count": 4,
   "id": "b6b0ddc7-89f1-4e00-8e04-07cff6ee43c0",
   "metadata": {},
   "outputs": [
    {
     "name": "stdout",
     "output_type": "stream",
     "text": [
      "654 ms ± 31.1 ms per loop (mean ± std. dev. of 7 runs, 1 loop each)\n"
     ]
    }
   ],
   "source": [
    "%%timeit\n",
    "for _ in range(10): L2 = [i * 2 for i in L]\n"
   ]
  },
  {
   "cell_type": "code",
   "execution_count": 5,
   "id": "db163318-039d-43d0-916d-538e1ed819b6",
   "metadata": {},
   "outputs": [
    {
     "name": "stdout",
     "output_type": "stream",
     "text": [
      "14.6 ms ± 199 μs per loop (mean ± std. dev. of 7 runs, 100 loops each)\n"
     ]
    }
   ],
   "source": [
    "%%timeit\n",
    "for _ in range(10): arr2 = arr * 2"
   ]
  },
  {
   "cell_type": "code",
   "execution_count": null,
   "id": "74beb595-d6de-4fa8-9a88-1b96c74bca7c",
   "metadata": {},
   "outputs": [],
   "source": []
  }
 ],
 "metadata": {
  "kernelspec": {
   "display_name": "Python 3 (ipykernel)",
   "language": "python",
   "name": "python3"
  },
  "language_info": {
   "codemirror_mode": {
    "name": "ipython",
    "version": 3
   },
   "file_extension": ".py",
   "mimetype": "text/x-python",
   "name": "python",
   "nbconvert_exporter": "python",
   "pygments_lexer": "ipython3",
   "version": "3.12.7"
  }
 },
 "nbformat": 4,
 "nbformat_minor": 5
}
