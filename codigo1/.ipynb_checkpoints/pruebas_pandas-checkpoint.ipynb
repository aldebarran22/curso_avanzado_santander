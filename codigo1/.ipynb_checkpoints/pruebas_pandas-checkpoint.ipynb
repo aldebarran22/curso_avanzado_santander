{
 "cells": [
  {
   "cell_type": "markdown",
   "id": "5113299f-32e9-4998-9aec-e6bb8ce5eaf1",
   "metadata": {},
   "source": [
    "### Pruebas con pandas: Series y DataFrame"
   ]
  },
  {
   "cell_type": "code",
   "execution_count": 1,
   "id": "ffbcfbfd-42e5-41f4-9f21-7a104a1c49f4",
   "metadata": {},
   "outputs": [],
   "source": [
    "import pandas as pd\n",
    "import numpy as np\n",
    "from pandas import Series, DataFrame"
   ]
  },
  {
   "cell_type": "markdown",
   "id": "78a2ff7c-61e0-43b7-b1d2-f57256e09488",
   "metadata": {},
   "source": [
    "#### Objeto Series"
   ]
  },
  {
   "cell_type": "code",
   "execution_count": 12,
   "id": "af08cfb6-e5df-4a35-8737-14067dc68888",
   "metadata": {},
   "outputs": [],
   "source": [
    "s1 = Series(np.arange(10,21,2))\n",
    "s2 = Series(range(5), index=list(\"abcde\"))"
   ]
  },
  {
   "cell_type": "code",
   "execution_count": 13,
   "id": "994a3621-1db7-430d-80b5-736ccdf1ab83",
   "metadata": {},
   "outputs": [
    {
     "name": "stdout",
     "output_type": "stream",
     "text": [
      "0    10\n",
      "1    12\n",
      "2    14\n",
      "3    16\n",
      "4    18\n",
      "5    20\n",
      "dtype: int32\n"
     ]
    }
   ],
   "source": [
    "print(s1)"
   ]
  },
  {
   "cell_type": "code",
   "execution_count": 14,
   "id": "3193162d-2f43-4e2e-a4cb-06811f5a54f5",
   "metadata": {},
   "outputs": [
    {
     "data": {
      "text/plain": [
       "a    0\n",
       "b    1\n",
       "c    2\n",
       "d    3\n",
       "e    4\n",
       "dtype: int64"
      ]
     },
     "execution_count": 14,
     "metadata": {},
     "output_type": "execute_result"
    }
   ],
   "source": [
    "s2"
   ]
  },
  {
   "cell_type": "code",
   "execution_count": 9,
   "id": "4b6576a0-1144-46fe-968e-7bbce47095b9",
   "metadata": {},
   "outputs": [
    {
     "name": "stdout",
     "output_type": "stream",
     "text": [
      "0\n",
      "0\n"
     ]
    },
    {
     "name": "stderr",
     "output_type": "stream",
     "text": [
      "C:\\Users\\Anton\\AppData\\Local\\Temp\\ipykernel_13108\\2148135950.py:2: FutureWarning: Series.__getitem__ treating keys as positions is deprecated. In a future version, integer keys will always be treated as labels (consistent with DataFrame behavior). To access a value by position, use `ser.iloc[pos]`\n",
      "  print(s2[0])\n"
     ]
    }
   ],
   "source": [
    "print(s2['a'])\n",
    "print(s2[0])"
   ]
  },
  {
   "cell_type": "code",
   "execution_count": 15,
   "id": "5872f216-4d3a-45d1-951d-eeec8a23d065",
   "metadata": {},
   "outputs": [
    {
     "data": {
      "text/plain": [
       "a    0\n",
       "d    3\n",
       "e    4\n",
       "dtype: int64"
      ]
     },
     "execution_count": 15,
     "metadata": {},
     "output_type": "execute_result"
    }
   ],
   "source": [
    "s2[['a','d','e']]"
   ]
  },
  {
   "cell_type": "code",
   "execution_count": 16,
   "id": "bbb514f8-d531-4ddb-9eae-13df848bbc0d",
   "metadata": {},
   "outputs": [
    {
     "data": {
      "text/plain": [
       "a    False\n",
       "b    False\n",
       "c    False\n",
       "d     True\n",
       "e     True\n",
       "dtype: bool"
      ]
     },
     "execution_count": 16,
     "metadata": {},
     "output_type": "execute_result"
    }
   ],
   "source": [
    "s2 > 2"
   ]
  },
  {
   "cell_type": "code",
   "execution_count": 17,
   "id": "06559ecd-c671-4106-952e-e373a5d00811",
   "metadata": {},
   "outputs": [
    {
     "data": {
      "text/plain": [
       "a    10\n",
       "e    11\n",
       "i    12\n",
       "o    13\n",
       "u    14\n",
       "dtype: int64"
      ]
     },
     "execution_count": 17,
     "metadata": {},
     "output_type": "execute_result"
    }
   ],
   "source": [
    "s3 = Series(range(10,15), index=list('aeiou'))\n",
    "s3"
   ]
  },
  {
   "cell_type": "code",
   "execution_count": 29,
   "id": "e31c2468-262e-44ef-bf74-42a40ed09928",
   "metadata": {},
   "outputs": [
    {
     "data": {
      "text/plain": [
       "a    10.0\n",
       "b     NaN\n",
       "c     NaN\n",
       "d     NaN\n",
       "e    15.0\n",
       "i     NaN\n",
       "o     NaN\n",
       "u     NaN\n",
       "dtype: float64"
      ]
     },
     "execution_count": 29,
     "metadata": {},
     "output_type": "execute_result"
    }
   ],
   "source": [
    "suma = s2 + s3\n",
    "suma"
   ]
  },
  {
   "cell_type": "code",
   "execution_count": 30,
   "id": "7ed9c4fc-c407-4348-8d55-6c1791ebe850",
   "metadata": {},
   "outputs": [
    {
     "data": {
      "text/plain": [
       "a    False\n",
       "b     True\n",
       "c     True\n",
       "d     True\n",
       "e    False\n",
       "i     True\n",
       "o     True\n",
       "u     True\n",
       "dtype: bool"
      ]
     },
     "execution_count": 30,
     "metadata": {},
     "output_type": "execute_result"
    }
   ],
   "source": [
    "suma.isnull()"
   ]
  },
  {
   "cell_type": "code",
   "execution_count": 20,
   "id": "af88209a-c7ce-4f60-8aab-6f135f85254d",
   "metadata": {},
   "outputs": [
    {
     "data": {
      "text/plain": [
       "a    10.0\n",
       "b     1.0\n",
       "c     2.0\n",
       "d     3.0\n",
       "e    15.0\n",
       "i    12.0\n",
       "o    13.0\n",
       "u    14.0\n",
       "dtype: float64"
      ]
     },
     "execution_count": 20,
     "metadata": {},
     "output_type": "execute_result"
    }
   ],
   "source": [
    "total = s2.add(s3, fill_value=0)\n",
    "total"
   ]
  },
  {
   "cell_type": "code",
   "execution_count": 21,
   "id": "2b489ac0-79d2-43cf-acd7-9ac18e4f3822",
   "metadata": {},
   "outputs": [
    {
     "data": {
      "text/plain": [
       "b    1.0\n",
       "c    2.0\n",
       "d    3.0\n",
       "dtype: float64"
      ]
     },
     "execution_count": 21,
     "metadata": {},
     "output_type": "execute_result"
    }
   ],
   "source": [
    "total[total < 10]"
   ]
  },
  {
   "cell_type": "code",
   "execution_count": 22,
   "id": "7990ab53-6134-4cf5-b62b-e30334091abd",
   "metadata": {},
   "outputs": [
    {
     "data": {
      "text/plain": [
       "3"
      ]
     },
     "execution_count": 22,
     "metadata": {},
     "output_type": "execute_result"
    }
   ],
   "source": [
    "(total < 10).sum()"
   ]
  },
  {
   "cell_type": "code",
   "execution_count": 23,
   "id": "7f3e7e59-66c7-48eb-9752-9e54fe168ab7",
   "metadata": {},
   "outputs": [
    {
     "data": {
      "text/plain": [
       "70.0"
      ]
     },
     "execution_count": 23,
     "metadata": {},
     "output_type": "execute_result"
    }
   ],
   "source": [
    "total.sum()"
   ]
  },
  {
   "cell_type": "code",
   "execution_count": 24,
   "id": "0becb902-ec68-4703-9680-0f9cafe488d4",
   "metadata": {},
   "outputs": [
    {
     "data": {
      "text/plain": [
       "a    10.0\n",
       "b    10.0\n",
       "c    10.0\n",
       "d    10.0\n",
       "e    15.0\n",
       "i    12.0\n",
       "o    13.0\n",
       "u    14.0\n",
       "dtype: float64"
      ]
     },
     "execution_count": 24,
     "metadata": {},
     "output_type": "execute_result"
    }
   ],
   "source": [
    "total[total < 10] = 10\n",
    "total"
   ]
  },
  {
   "cell_type": "code",
   "execution_count": 26,
   "id": "ac463bfd-a06a-4d4c-b1a3-281cb81fdb8a",
   "metadata": {},
   "outputs": [
    {
     "data": {
      "text/plain": [
       "array([10, 11, 12, 13, 14], dtype=int64)"
      ]
     },
     "execution_count": 26,
     "metadata": {},
     "output_type": "execute_result"
    }
   ],
   "source": [
    "np.maximum(s2.values, s3.values)"
   ]
  },
  {
   "cell_type": "code",
   "execution_count": 27,
   "id": "e209fcff-e9ad-4334-b855-1bfebbb63387",
   "metadata": {},
   "outputs": [
    {
     "data": {
      "text/plain": [
       "{'a': 0, 'b': 3, 'c': 2, 'd': 4, 'e': 5}"
      ]
     },
     "execution_count": 27,
     "metadata": {},
     "output_type": "execute_result"
    }
   ],
   "source": [
    "dicc = {clave:valor for valor, clave in enumerate(\"abcbde\")}\n",
    "dicc"
   ]
  },
  {
   "cell_type": "code",
   "execution_count": 28,
   "id": "78ab4165-2ec8-41ce-95be-8f1854ba48db",
   "metadata": {},
   "outputs": [
    {
     "data": {
      "text/plain": [
       "a    0\n",
       "b    3\n",
       "c    2\n",
       "d    4\n",
       "e    5\n",
       "dtype: int64"
      ]
     },
     "execution_count": 28,
     "metadata": {},
     "output_type": "execute_result"
    }
   ],
   "source": [
    "s4 = Series(dicc)\n",
    "s4"
   ]
  },
  {
   "cell_type": "markdown",
   "id": "ef10184b-6ae4-4720-9275-fbaf9d2d83dc",
   "metadata": {},
   "source": [
    "#### DataFrame"
   ]
  },
  {
   "cell_type": "code",
   "execution_count": 31,
   "id": "ea1b8680-482e-4a2a-a7cf-cffbac4f89c5",
   "metadata": {},
   "outputs": [
    {
     "data": {
      "text/html": [
       "<div>\n",
       "<style scoped>\n",
       "    .dataframe tbody tr th:only-of-type {\n",
       "        vertical-align: middle;\n",
       "    }\n",
       "\n",
       "    .dataframe tbody tr th {\n",
       "        vertical-align: top;\n",
       "    }\n",
       "\n",
       "    .dataframe thead th {\n",
       "        text-align: right;\n",
       "    }\n",
       "</style>\n",
       "<table border=\"1\" class=\"dataframe\">\n",
       "  <thead>\n",
       "    <tr style=\"text-align: right;\">\n",
       "      <th></th>\n",
       "      <th>a</th>\n",
       "      <th>b</th>\n",
       "      <th>c</th>\n",
       "      <th>d</th>\n",
       "      <th>e</th>\n",
       "    </tr>\n",
       "  </thead>\n",
       "  <tbody>\n",
       "    <tr>\n",
       "      <th>0</th>\n",
       "      <td>3</td>\n",
       "      <td>5</td>\n",
       "      <td>5</td>\n",
       "      <td>1</td>\n",
       "      <td>2</td>\n",
       "    </tr>\n",
       "    <tr>\n",
       "      <th>1</th>\n",
       "      <td>0</td>\n",
       "      <td>1</td>\n",
       "      <td>2</td>\n",
       "      <td>9</td>\n",
       "      <td>8</td>\n",
       "    </tr>\n",
       "    <tr>\n",
       "      <th>2</th>\n",
       "      <td>5</td>\n",
       "      <td>3</td>\n",
       "      <td>5</td>\n",
       "      <td>6</td>\n",
       "      <td>6</td>\n",
       "    </tr>\n",
       "    <tr>\n",
       "      <th>3</th>\n",
       "      <td>2</td>\n",
       "      <td>1</td>\n",
       "      <td>4</td>\n",
       "      <td>9</td>\n",
       "      <td>7</td>\n",
       "    </tr>\n",
       "    <tr>\n",
       "      <th>4</th>\n",
       "      <td>9</td>\n",
       "      <td>4</td>\n",
       "      <td>4</td>\n",
       "      <td>3</td>\n",
       "      <td>0</td>\n",
       "    </tr>\n",
       "    <tr>\n",
       "      <th>5</th>\n",
       "      <td>3</td>\n",
       "      <td>8</td>\n",
       "      <td>7</td>\n",
       "      <td>6</td>\n",
       "      <td>5</td>\n",
       "    </tr>\n",
       "    <tr>\n",
       "      <th>6</th>\n",
       "      <td>7</td>\n",
       "      <td>8</td>\n",
       "      <td>7</td>\n",
       "      <td>5</td>\n",
       "      <td>4</td>\n",
       "    </tr>\n",
       "    <tr>\n",
       "      <th>7</th>\n",
       "      <td>7</td>\n",
       "      <td>2</td>\n",
       "      <td>3</td>\n",
       "      <td>2</td>\n",
       "      <td>9</td>\n",
       "    </tr>\n",
       "  </tbody>\n",
       "</table>\n",
       "</div>"
      ],
      "text/plain": [
       "   a  b  c  d  e\n",
       "0  3  5  5  1  2\n",
       "1  0  1  2  9  8\n",
       "2  5  3  5  6  6\n",
       "3  2  1  4  9  7\n",
       "4  9  4  4  3  0\n",
       "5  3  8  7  6  5\n",
       "6  7  8  7  5  4\n",
       "7  7  2  3  2  9"
      ]
     },
     "execution_count": 31,
     "metadata": {},
     "output_type": "execute_result"
    }
   ],
   "source": [
    "# Crear un dataframe con un dict\n",
    "d = {clave: np.random.randint(0,10,8) for clave in \"abcde\"}\n",
    "df = DataFrame(d)\n",
    "df"
   ]
  },
  {
   "cell_type": "code",
   "execution_count": 32,
   "id": "a885e30d-a537-4bb7-aa06-35fda132874e",
   "metadata": {},
   "outputs": [
    {
     "data": {
      "text/plain": [
       "0    5\n",
       "1    1\n",
       "2    3\n",
       "3    1\n",
       "4    4\n",
       "5    8\n",
       "6    8\n",
       "7    2\n",
       "Name: b, dtype: int32"
      ]
     },
     "execution_count": 32,
     "metadata": {},
     "output_type": "execute_result"
    }
   ],
   "source": [
    "df['b']"
   ]
  },
  {
   "cell_type": "code",
   "execution_count": 33,
   "id": "a071a672-4a6d-4ddc-a77c-7c7223a40da9",
   "metadata": {},
   "outputs": [
    {
     "data": {
      "text/plain": [
       "3"
      ]
     },
     "execution_count": 33,
     "metadata": {},
     "output_type": "execute_result"
    }
   ],
   "source": [
    "df['b'][2]"
   ]
  },
  {
   "cell_type": "code",
   "execution_count": 34,
   "id": "88d7cee5-8f1e-412c-99e0-84e81985dda5",
   "metadata": {},
   "outputs": [
    {
     "data": {
      "text/plain": [
       "a    3\n",
       "b    8\n",
       "c    7\n",
       "d    6\n",
       "e    5\n",
       "Name: 5, dtype: int32"
      ]
     },
     "execution_count": 34,
     "metadata": {},
     "output_type": "execute_result"
    }
   ],
   "source": [
    "df.loc[5]"
   ]
  },
  {
   "cell_type": "code",
   "execution_count": 35,
   "id": "beead743-4f4a-48ca-9c5e-1acc9f34e90a",
   "metadata": {},
   "outputs": [
    {
     "data": {
      "text/plain": [
       "8"
      ]
     },
     "execution_count": 35,
     "metadata": {},
     "output_type": "execute_result"
    }
   ],
   "source": [
    "df.loc[5]['b']"
   ]
  },
  {
   "cell_type": "code",
   "execution_count": 36,
   "id": "c54e4724-ab2e-4052-b032-071b8043b6a8",
   "metadata": {},
   "outputs": [
    {
     "data": {
      "text/html": [
       "<div>\n",
       "<style scoped>\n",
       "    .dataframe tbody tr th:only-of-type {\n",
       "        vertical-align: middle;\n",
       "    }\n",
       "\n",
       "    .dataframe tbody tr th {\n",
       "        vertical-align: top;\n",
       "    }\n",
       "\n",
       "    .dataframe thead th {\n",
       "        text-align: right;\n",
       "    }\n",
       "</style>\n",
       "<table border=\"1\" class=\"dataframe\">\n",
       "  <thead>\n",
       "    <tr style=\"text-align: right;\">\n",
       "      <th></th>\n",
       "      <th>0</th>\n",
       "      <th>1</th>\n",
       "      <th>2</th>\n",
       "      <th>3</th>\n",
       "      <th>4</th>\n",
       "    </tr>\n",
       "  </thead>\n",
       "  <tbody>\n",
       "    <tr>\n",
       "      <th>0</th>\n",
       "      <td>0</td>\n",
       "      <td>1</td>\n",
       "      <td>2</td>\n",
       "      <td>3</td>\n",
       "      <td>4</td>\n",
       "    </tr>\n",
       "    <tr>\n",
       "      <th>1</th>\n",
       "      <td>5</td>\n",
       "      <td>6</td>\n",
       "      <td>7</td>\n",
       "      <td>8</td>\n",
       "      <td>9</td>\n",
       "    </tr>\n",
       "    <tr>\n",
       "      <th>2</th>\n",
       "      <td>10</td>\n",
       "      <td>11</td>\n",
       "      <td>12</td>\n",
       "      <td>13</td>\n",
       "      <td>14</td>\n",
       "    </tr>\n",
       "    <tr>\n",
       "      <th>3</th>\n",
       "      <td>15</td>\n",
       "      <td>16</td>\n",
       "      <td>17</td>\n",
       "      <td>18</td>\n",
       "      <td>19</td>\n",
       "    </tr>\n",
       "    <tr>\n",
       "      <th>4</th>\n",
       "      <td>20</td>\n",
       "      <td>21</td>\n",
       "      <td>22</td>\n",
       "      <td>23</td>\n",
       "      <td>24</td>\n",
       "    </tr>\n",
       "  </tbody>\n",
       "</table>\n",
       "</div>"
      ],
      "text/plain": [
       "    0   1   2   3   4\n",
       "0   0   1   2   3   4\n",
       "1   5   6   7   8   9\n",
       "2  10  11  12  13  14\n",
       "3  15  16  17  18  19\n",
       "4  20  21  22  23  24"
      ]
     },
     "execution_count": 36,
     "metadata": {},
     "output_type": "execute_result"
    }
   ],
   "source": [
    "df2 = DataFrame(np.arange(25).reshape(5,5))\n",
    "df2"
   ]
  },
  {
   "cell_type": "code",
   "execution_count": null,
   "id": "685f2445-2066-465e-9f7d-df6a5426ced3",
   "metadata": {},
   "outputs": [],
   "source": []
  }
 ],
 "metadata": {
  "kernelspec": {
   "display_name": "Python 3 (ipykernel)",
   "language": "python",
   "name": "python3"
  },
  "language_info": {
   "codemirror_mode": {
    "name": "ipython",
    "version": 3
   },
   "file_extension": ".py",
   "mimetype": "text/x-python",
   "name": "python",
   "nbconvert_exporter": "python",
   "pygments_lexer": "ipython3",
   "version": "3.12.7"
  }
 },
 "nbformat": 4,
 "nbformat_minor": 5
}
