{
 "cells": [
  {
   "cell_type": "markdown",
   "id": "76870628-d99a-431f-9be3-c1922937ace7",
   "metadata": {},
   "source": [
    "### Pruebas con ficheros"
   ]
  },
  {
   "cell_type": "code",
   "execution_count": 1,
   "id": "283527eb-a352-4c27-a087-15cee8ebd6d1",
   "metadata": {},
   "outputs": [],
   "source": [
    "import pandas as pd\n",
    "import numpy as np\n",
    "from pandas import Series, DataFrame"
   ]
  },
  {
   "cell_type": "code",
   "execution_count": 2,
   "id": "7010a1e2-e0ef-46f2-8fd1-079365b049ff",
   "metadata": {},
   "outputs": [
    {
     "data": {
      "text/html": [
       "<div>\n",
       "<style scoped>\n",
       "    .dataframe tbody tr th:only-of-type {\n",
       "        vertical-align: middle;\n",
       "    }\n",
       "\n",
       "    .dataframe tbody tr th {\n",
       "        vertical-align: top;\n",
       "    }\n",
       "\n",
       "    .dataframe thead th {\n",
       "        text-align: right;\n",
       "    }\n",
       "</style>\n",
       "<table border=\"1\" class=\"dataframe\">\n",
       "  <thead>\n",
       "    <tr style=\"text-align: right;\">\n",
       "      <th></th>\n",
       "      <th>idpedido</th>\n",
       "      <th>cliente</th>\n",
       "      <th>idempleado</th>\n",
       "      <th>idempresa</th>\n",
       "      <th>importe</th>\n",
       "      <th>pais</th>\n",
       "    </tr>\n",
       "  </thead>\n",
       "  <tbody>\n",
       "    <tr>\n",
       "      <th>0</th>\n",
       "      <td>10248</td>\n",
       "      <td>WILMK</td>\n",
       "      <td>5</td>\n",
       "      <td>3</td>\n",
       "      <td>32.38</td>\n",
       "      <td>Finlandia</td>\n",
       "    </tr>\n",
       "    <tr>\n",
       "      <th>1</th>\n",
       "      <td>10249</td>\n",
       "      <td>TOMSP</td>\n",
       "      <td>6</td>\n",
       "      <td>1</td>\n",
       "      <td>11.61</td>\n",
       "      <td>Alemania</td>\n",
       "    </tr>\n",
       "    <tr>\n",
       "      <th>2</th>\n",
       "      <td>10250</td>\n",
       "      <td>HANAR</td>\n",
       "      <td>4</td>\n",
       "      <td>2</td>\n",
       "      <td>65.83</td>\n",
       "      <td>Brasil</td>\n",
       "    </tr>\n",
       "    <tr>\n",
       "      <th>3</th>\n",
       "      <td>10251</td>\n",
       "      <td>VICTE</td>\n",
       "      <td>3</td>\n",
       "      <td>1</td>\n",
       "      <td>41.34</td>\n",
       "      <td>Francia</td>\n",
       "    </tr>\n",
       "    <tr>\n",
       "      <th>4</th>\n",
       "      <td>10252</td>\n",
       "      <td>SUPRD</td>\n",
       "      <td>4</td>\n",
       "      <td>2</td>\n",
       "      <td>51.30</td>\n",
       "      <td>Belgica</td>\n",
       "    </tr>\n",
       "  </tbody>\n",
       "</table>\n",
       "</div>"
      ],
      "text/plain": [
       "   idpedido cliente  idempleado  idempresa  importe       pais\n",
       "0     10248   WILMK           5          3    32.38  Finlandia\n",
       "1     10249   TOMSP           6          1    11.61   Alemania\n",
       "2     10250   HANAR           4          2    65.83     Brasil\n",
       "3     10251   VICTE           3          1    41.34    Francia\n",
       "4     10252   SUPRD           4          2    51.30    Belgica"
      ]
     },
     "execution_count": 2,
     "metadata": {},
     "output_type": "execute_result"
    }
   ],
   "source": [
    "df = pd.read_csv(\"../ficheros_curso/merge/Pedidos.txt\", sep=\";\")\n",
    "df.head()"
   ]
  },
  {
   "cell_type": "code",
   "execution_count": 3,
   "id": "1ff83cce-c811-489f-929b-0b819780f192",
   "metadata": {},
   "outputs": [
    {
     "data": {
      "text/html": [
       "<div>\n",
       "<style scoped>\n",
       "    .dataframe tbody tr th:only-of-type {\n",
       "        vertical-align: middle;\n",
       "    }\n",
       "\n",
       "    .dataframe tbody tr th {\n",
       "        vertical-align: top;\n",
       "    }\n",
       "\n",
       "    .dataframe thead th {\n",
       "        text-align: right;\n",
       "    }\n",
       "</style>\n",
       "<table border=\"1\" class=\"dataframe\">\n",
       "  <thead>\n",
       "    <tr style=\"text-align: right;\">\n",
       "      <th></th>\n",
       "      <th>idpedido</th>\n",
       "      <th>cliente</th>\n",
       "      <th>idempleado</th>\n",
       "      <th>idempresa</th>\n",
       "      <th>importe</th>\n",
       "      <th>pais</th>\n",
       "    </tr>\n",
       "  </thead>\n",
       "  <tbody>\n",
       "    <tr>\n",
       "      <th>825</th>\n",
       "      <td>11073</td>\n",
       "      <td>PERIC</td>\n",
       "      <td>2</td>\n",
       "      <td>2</td>\n",
       "      <td>24.95</td>\n",
       "      <td>Mexico</td>\n",
       "    </tr>\n",
       "    <tr>\n",
       "      <th>826</th>\n",
       "      <td>11074</td>\n",
       "      <td>SIMOB</td>\n",
       "      <td>7</td>\n",
       "      <td>2</td>\n",
       "      <td>18.44</td>\n",
       "      <td>Dinamarca</td>\n",
       "    </tr>\n",
       "    <tr>\n",
       "      <th>827</th>\n",
       "      <td>11075</td>\n",
       "      <td>RICSU</td>\n",
       "      <td>8</td>\n",
       "      <td>2</td>\n",
       "      <td>6.19</td>\n",
       "      <td>Suiza</td>\n",
       "    </tr>\n",
       "    <tr>\n",
       "      <th>828</th>\n",
       "      <td>11076</td>\n",
       "      <td>BONAP</td>\n",
       "      <td>4</td>\n",
       "      <td>2</td>\n",
       "      <td>38.28</td>\n",
       "      <td>Francia</td>\n",
       "    </tr>\n",
       "    <tr>\n",
       "      <th>829</th>\n",
       "      <td>11077</td>\n",
       "      <td>RATTC</td>\n",
       "      <td>1</td>\n",
       "      <td>2</td>\n",
       "      <td>8.53</td>\n",
       "      <td>Estados Unidos</td>\n",
       "    </tr>\n",
       "  </tbody>\n",
       "</table>\n",
       "</div>"
      ],
      "text/plain": [
       "     idpedido cliente  idempleado  idempresa  importe            pais\n",
       "825     11073   PERIC           2          2    24.95          Mexico\n",
       "826     11074   SIMOB           7          2    18.44       Dinamarca\n",
       "827     11075   RICSU           8          2     6.19           Suiza\n",
       "828     11076   BONAP           4          2    38.28         Francia\n",
       "829     11077   RATTC           1          2     8.53  Estados Unidos"
      ]
     },
     "execution_count": 3,
     "metadata": {},
     "output_type": "execute_result"
    }
   ],
   "source": [
    "df.tail()"
   ]
  },
  {
   "cell_type": "code",
   "execution_count": 4,
   "id": "695bda9c-6683-4b93-8289-f5a7463509cb",
   "metadata": {},
   "outputs": [
    {
     "data": {
      "text/plain": [
       "(830, 6)"
      ]
     },
     "execution_count": 4,
     "metadata": {},
     "output_type": "execute_result"
    }
   ],
   "source": [
    "df.shape"
   ]
  },
  {
   "cell_type": "code",
   "execution_count": 5,
   "id": "429a885a-81dd-47d1-bfbc-6e85287c1e5b",
   "metadata": {},
   "outputs": [
    {
     "name": "stdout",
     "output_type": "stream",
     "text": [
      "<class 'pandas.core.frame.DataFrame'>\n",
      "RangeIndex: 830 entries, 0 to 829\n",
      "Data columns (total 6 columns):\n",
      " #   Column      Non-Null Count  Dtype  \n",
      "---  ------      --------------  -----  \n",
      " 0   idpedido    830 non-null    int64  \n",
      " 1   cliente     830 non-null    object \n",
      " 2   idempleado  830 non-null    int64  \n",
      " 3   idempresa   830 non-null    int64  \n",
      " 4   importe     830 non-null    float64\n",
      " 5   pais        830 non-null    object \n",
      "dtypes: float64(1), int64(3), object(2)\n",
      "memory usage: 39.0+ KB\n"
     ]
    }
   ],
   "source": [
    "df.info()"
   ]
  },
  {
   "cell_type": "code",
   "execution_count": 6,
   "id": "49194a7e-5395-4549-b12b-00fd94336655",
   "metadata": {},
   "outputs": [
    {
     "data": {
      "text/html": [
       "<div>\n",
       "<style scoped>\n",
       "    .dataframe tbody tr th:only-of-type {\n",
       "        vertical-align: middle;\n",
       "    }\n",
       "\n",
       "    .dataframe tbody tr th {\n",
       "        vertical-align: top;\n",
       "    }\n",
       "\n",
       "    .dataframe thead th {\n",
       "        text-align: right;\n",
       "    }\n",
       "</style>\n",
       "<table border=\"1\" class=\"dataframe\">\n",
       "  <thead>\n",
       "    <tr style=\"text-align: right;\">\n",
       "      <th></th>\n",
       "      <th>idpedido</th>\n",
       "      <th>idempleado</th>\n",
       "      <th>idempresa</th>\n",
       "      <th>importe</th>\n",
       "    </tr>\n",
       "  </thead>\n",
       "  <tbody>\n",
       "    <tr>\n",
       "      <th>count</th>\n",
       "      <td>830.000000</td>\n",
       "      <td>830.000000</td>\n",
       "      <td>830.000000</td>\n",
       "      <td>830.000000</td>\n",
       "    </tr>\n",
       "    <tr>\n",
       "      <th>mean</th>\n",
       "      <td>10662.500000</td>\n",
       "      <td>4.403614</td>\n",
       "      <td>2.008434</td>\n",
       "      <td>78.244205</td>\n",
       "    </tr>\n",
       "    <tr>\n",
       "      <th>std</th>\n",
       "      <td>239.744656</td>\n",
       "      <td>2.499648</td>\n",
       "      <td>0.778899</td>\n",
       "      <td>116.779294</td>\n",
       "    </tr>\n",
       "    <tr>\n",
       "      <th>min</th>\n",
       "      <td>10248.000000</td>\n",
       "      <td>1.000000</td>\n",
       "      <td>1.000000</td>\n",
       "      <td>0.020000</td>\n",
       "    </tr>\n",
       "    <tr>\n",
       "      <th>25%</th>\n",
       "      <td>10455.250000</td>\n",
       "      <td>2.000000</td>\n",
       "      <td>1.000000</td>\n",
       "      <td>13.380000</td>\n",
       "    </tr>\n",
       "    <tr>\n",
       "      <th>50%</th>\n",
       "      <td>10662.500000</td>\n",
       "      <td>4.000000</td>\n",
       "      <td>2.000000</td>\n",
       "      <td>41.360000</td>\n",
       "    </tr>\n",
       "    <tr>\n",
       "      <th>75%</th>\n",
       "      <td>10869.750000</td>\n",
       "      <td>7.000000</td>\n",
       "      <td>3.000000</td>\n",
       "      <td>91.430000</td>\n",
       "    </tr>\n",
       "    <tr>\n",
       "      <th>max</th>\n",
       "      <td>11077.000000</td>\n",
       "      <td>9.000000</td>\n",
       "      <td>3.000000</td>\n",
       "      <td>1007.640000</td>\n",
       "    </tr>\n",
       "  </tbody>\n",
       "</table>\n",
       "</div>"
      ],
      "text/plain": [
       "           idpedido  idempleado   idempresa      importe\n",
       "count    830.000000  830.000000  830.000000   830.000000\n",
       "mean   10662.500000    4.403614    2.008434    78.244205\n",
       "std      239.744656    2.499648    0.778899   116.779294\n",
       "min    10248.000000    1.000000    1.000000     0.020000\n",
       "25%    10455.250000    2.000000    1.000000    13.380000\n",
       "50%    10662.500000    4.000000    2.000000    41.360000\n",
       "75%    10869.750000    7.000000    3.000000    91.430000\n",
       "max    11077.000000    9.000000    3.000000  1007.640000"
      ]
     },
     "execution_count": 6,
     "metadata": {},
     "output_type": "execute_result"
    }
   ],
   "source": [
    "df.describe()"
   ]
  },
  {
   "cell_type": "code",
   "execution_count": 7,
   "id": "db0bef4f-e288-406b-be7f-5cbaef2f1ec1",
   "metadata": {},
   "outputs": [
    {
     "data": {
      "text/plain": [
       "Index(['idpedido', 'cliente', 'idempleado', 'idempresa', 'importe', 'pais'], dtype='object')"
      ]
     },
     "execution_count": 7,
     "metadata": {},
     "output_type": "execute_result"
    }
   ],
   "source": [
    "df.columns"
   ]
  },
  {
   "cell_type": "code",
   "execution_count": 9,
   "id": "d6a8ce4c-b5cb-4a54-8538-4b12619df32c",
   "metadata": {},
   "outputs": [
    {
     "data": {
      "text/plain": [
       "pais\n",
       "Estados Unidos    123\n",
       "Alemania          122\n",
       "Brasil             83\n",
       "Francia            76\n",
       "Reino Unido        55\n",
       "Venezuela          46\n",
       "Austria            40\n",
       "Suecia             38\n",
       "Canada             30\n",
       "Mexico             28\n",
       "Italia             28\n",
       "Espanya            23\n",
       "Finlandia          23\n",
       "Irlanda            19\n",
       "Belgica            19\n",
       "Suiza              18\n",
       "Dinamarca          18\n",
       "Argentina          16\n",
       "Portugal           13\n",
       "Polonia             6\n",
       "Noruega             6\n",
       "Name: count, dtype: int64"
      ]
     },
     "execution_count": 9,
     "metadata": {},
     "output_type": "execute_result"
    }
   ],
   "source": [
    "df.pais.value_counts()"
   ]
  },
  {
   "cell_type": "code",
   "execution_count": 11,
   "id": "56c19b65-c900-47b8-9380-482d68b1ca0e",
   "metadata": {},
   "outputs": [
    {
     "data": {
      "text/plain": [
       "['Alemania',\n",
       " 'Argentina',\n",
       " 'Austria',\n",
       " 'Belgica',\n",
       " 'Brasil',\n",
       " 'Canada',\n",
       " 'Dinamarca',\n",
       " 'Espanya',\n",
       " 'Estados Unidos',\n",
       " 'Finlandia',\n",
       " 'Francia',\n",
       " 'Irlanda',\n",
       " 'Italia',\n",
       " 'Mexico',\n",
       " 'Noruega',\n",
       " 'Polonia',\n",
       " 'Portugal',\n",
       " 'Reino Unido',\n",
       " 'Suecia',\n",
       " 'Suiza',\n",
       " 'Venezuela']"
      ]
     },
     "execution_count": 11,
     "metadata": {},
     "output_type": "execute_result"
    }
   ],
   "source": [
    "paises = sorted(df.pais.unique())\n",
    "paises"
   ]
  },
  {
   "cell_type": "code",
   "execution_count": null,
   "id": "e0ab5388-6d14-4d90-beb4-f6d083cea0e9",
   "metadata": {},
   "outputs": [],
   "source": []
  }
 ],
 "metadata": {
  "kernelspec": {
   "display_name": "Python 3 (ipykernel)",
   "language": "python",
   "name": "python3"
  },
  "language_info": {
   "codemirror_mode": {
    "name": "ipython",
    "version": 3
   },
   "file_extension": ".py",
   "mimetype": "text/x-python",
   "name": "python",
   "nbconvert_exporter": "python",
   "pygments_lexer": "ipython3",
   "version": "3.12.7"
  }
 },
 "nbformat": 4,
 "nbformat_minor": 5
}
