{
 "cells": [
  {
   "cell_type": "markdown",
   "id": "6957195b-ea6c-42c6-b34a-acd1501a2e95",
   "metadata": {},
   "source": [
    "### Pruebas con la librería numpy"
   ]
  },
  {
   "cell_type": "code",
   "execution_count": 1,
   "id": "dfcc1e03-8ea8-4f17-b819-ecc87d70566d",
   "metadata": {},
   "outputs": [],
   "source": [
    "import numpy as np"
   ]
  },
  {
   "cell_type": "code",
   "execution_count": 2,
   "id": "18e1c5b6-a539-42a3-8079-f2e6088bcd05",
   "metadata": {},
   "outputs": [],
   "source": [
    "L = list(range(1000000))\n",
    "arr = np.arange(1000000)"
   ]
  },
  {
   "cell_type": "code",
   "execution_count": 4,
   "id": "b6b0ddc7-89f1-4e00-8e04-07cff6ee43c0",
   "metadata": {},
   "outputs": [
    {
     "name": "stdout",
     "output_type": "stream",
     "text": [
      "654 ms ± 31.1 ms per loop (mean ± std. dev. of 7 runs, 1 loop each)\n"
     ]
    }
   ],
   "source": [
    "%%timeit\n",
    "for _ in range(10): L2 = [i * 2 for i in L]\n"
   ]
  },
  {
   "cell_type": "code",
   "execution_count": 5,
   "id": "db163318-039d-43d0-916d-538e1ed819b6",
   "metadata": {},
   "outputs": [
    {
     "name": "stdout",
     "output_type": "stream",
     "text": [
      "14.6 ms ± 199 μs per loop (mean ± std. dev. of 7 runs, 100 loops each)\n"
     ]
    }
   ],
   "source": [
    "%%timeit\n",
    "for _ in range(10): arr2 = arr * 2"
   ]
  },
  {
   "cell_type": "code",
   "execution_count": 9,
   "id": "74beb595-d6de-4fa8-9a88-1b96c74bca7c",
   "metadata": {},
   "outputs": [
    {
     "data": {
      "text/plain": [
       "array([1.8, 5. , 7. , 2.3, 1. ])"
      ]
     },
     "execution_count": 9,
     "metadata": {},
     "output_type": "execute_result"
    }
   ],
   "source": [
    "arr1 = np.array([1.8, 5, 7.0, 2.3, 1])\n",
    "arr1"
   ]
  },
  {
   "cell_type": "code",
   "execution_count": 10,
   "id": "adcd63dd-5452-4323-8ef3-97f850b55237",
   "metadata": {},
   "outputs": [
    {
     "data": {
      "text/plain": [
       "dtype('float64')"
      ]
     },
     "execution_count": 10,
     "metadata": {},
     "output_type": "execute_result"
    }
   ],
   "source": [
    "arr1.dtype"
   ]
  },
  {
   "cell_type": "code",
   "execution_count": 11,
   "id": "46afb44e-ea10-438c-bd1a-1bb32c07d513",
   "metadata": {},
   "outputs": [],
   "source": [
    "arr2 = np.array([1,2,3,4,5], dtype=np.uint8)\n",
    "arr3 = np.array([1,2,3,4,5], dtype=\"u2\")"
   ]
  },
  {
   "cell_type": "code",
   "execution_count": 12,
   "id": "e8a9fdb4-2fb2-45c3-8901-e6a2bf4104c0",
   "metadata": {},
   "outputs": [
    {
     "name": "stdout",
     "output_type": "stream",
     "text": [
      "uint8\n",
      "uint16\n"
     ]
    }
   ],
   "source": [
    "print(arr2.dtype)\n",
    "print(arr3.dtype)"
   ]
  },
  {
   "cell_type": "code",
   "execution_count": 13,
   "id": "145b99be-5dee-445d-8a33-4485b75e2f05",
   "metadata": {},
   "outputs": [
    {
     "data": {
      "text/plain": [
       "array([1, 2, 3, 4, 5], dtype=uint16)"
      ]
     },
     "execution_count": 13,
     "metadata": {},
     "output_type": "execute_result"
    }
   ],
   "source": [
    "arr3 = np.array(['1','2','3','4','5'], dtype=\"u2\")\n",
    "arr3"
   ]
  },
  {
   "cell_type": "code",
   "execution_count": 14,
   "id": "2c97e8ff-7632-4a23-9601-ba3d78814ae0",
   "metadata": {},
   "outputs": [
    {
     "data": {
      "text/plain": [
       "array([1., 2., 3., 4., 5.])"
      ]
     },
     "execution_count": 14,
     "metadata": {},
     "output_type": "execute_result"
    }
   ],
   "source": [
    "arr4 = arr3.astype(np.float64)\n",
    "arr4"
   ]
  },
  {
   "cell_type": "code",
   "execution_count": 15,
   "id": "e330fde5-6df6-46f5-a2dd-158fa35301b5",
   "metadata": {},
   "outputs": [
    {
     "data": {
      "text/plain": [
       "array([[[0., 0., 0., 0.],\n",
       "        [0., 0., 0., 0.],\n",
       "        [0., 0., 0., 0.]],\n",
       "\n",
       "       [[0., 0., 0., 0.],\n",
       "        [0., 0., 0., 0.],\n",
       "        [0., 0., 0., 0.]]])"
      ]
     },
     "execution_count": 15,
     "metadata": {},
     "output_type": "execute_result"
    }
   ],
   "source": [
    "m = np.zeros((2,3,4))\n",
    "m"
   ]
  },
  {
   "cell_type": "code",
   "execution_count": 16,
   "id": "fcf0dcde-0785-4a2a-ba54-afd002abaad1",
   "metadata": {},
   "outputs": [
    {
     "data": {
      "text/plain": [
       "array([[[1., 1., 1., 1.],\n",
       "        [1., 1., 1., 1.],\n",
       "        [1., 1., 1., 1.]],\n",
       "\n",
       "       [[1., 1., 1., 1.],\n",
       "        [1., 1., 1., 1.],\n",
       "        [1., 1., 1., 1.]]])"
      ]
     },
     "execution_count": 16,
     "metadata": {},
     "output_type": "execute_result"
    }
   ],
   "source": [
    "m2 = np.ones_like(m)\n",
    "m2"
   ]
  },
  {
   "cell_type": "code",
   "execution_count": 18,
   "id": "3754d0bf-b05d-4d46-a126-7725fe8b7cc3",
   "metadata": {},
   "outputs": [
    {
     "data": {
      "text/plain": [
       "array([63, 25, 42, 19, 59, 50, 97,  8, 26, 58,  5, 66, 45, 32, 18, 76, 15,\n",
       "       59, 15, 77])"
      ]
     },
     "execution_count": 18,
     "metadata": {},
     "output_type": "execute_result"
    }
   ],
   "source": [
    "m =  np.random.randint(1,100,20)\n",
    "m"
   ]
  },
  {
   "cell_type": "code",
   "execution_count": 19,
   "id": "6ea8156e-6cba-491f-b48a-c79e832b6e2b",
   "metadata": {},
   "outputs": [
    {
     "data": {
      "text/plain": [
       "array([ True,  True,  True,  True,  True,  True,  True, False,  True,\n",
       "        True, False,  True,  True,  True,  True,  True, False,  True,\n",
       "       False,  True])"
      ]
     },
     "execution_count": 19,
     "metadata": {},
     "output_type": "execute_result"
    }
   ],
   "source": [
    "m > 15"
   ]
  },
  {
   "cell_type": "code",
   "execution_count": 21,
   "id": "8f232702-d7da-4c4a-a2fd-db39daa2471f",
   "metadata": {},
   "outputs": [
    {
     "data": {
      "text/plain": [
       "19"
      ]
     },
     "execution_count": 21,
     "metadata": {},
     "output_type": "execute_result"
    }
   ],
   "source": [
    "(m > 5).sum()"
   ]
  },
  {
   "cell_type": "code",
   "execution_count": 22,
   "id": "53dc737e-9aac-4fc6-a3ec-1c43fd55047b",
   "metadata": {},
   "outputs": [
    {
     "data": {
      "text/plain": [
       "array([60, 25, 42, 19, 59, 50, 60,  8, 26, 58,  5, 60, 45, 32, 18, 60, 15,\n",
       "       59, 15, 60])"
      ]
     },
     "execution_count": 22,
     "metadata": {},
     "output_type": "execute_result"
    }
   ],
   "source": [
    "m[m > 60] =  60\n",
    "m"
   ]
  },
  {
   "cell_type": "code",
   "execution_count": 23,
   "id": "b901e9f3-e619-4392-8d17-7d10a8b35318",
   "metadata": {},
   "outputs": [
    {
     "data": {
      "text/plain": [
       "array([25, 19, 26, 32, 18, 15, 15])"
      ]
     },
     "execution_count": 23,
     "metadata": {},
     "output_type": "execute_result"
    }
   ],
   "source": [
    "m[(m > 10) & (m < 40)]"
   ]
  },
  {
   "cell_type": "code",
   "execution_count": 25,
   "id": "a37f5876-2810-405c-aec4-1872eddbf8d9",
   "metadata": {},
   "outputs": [
    {
     "data": {
      "text/plain": [
       "array([[ 0,  1,  2,  3,  4],\n",
       "       [ 5,  6,  7,  8,  9],\n",
       "       [10, 11, 12, 13, 14],\n",
       "       [15, 16, 17, 18, 19],\n",
       "       [20, 21, 22, 23, 24]])"
      ]
     },
     "execution_count": 25,
     "metadata": {},
     "output_type": "execute_result"
    }
   ],
   "source": [
    "m = np.arange(25).reshape(-1, 5)\n",
    "m"
   ]
  },
  {
   "cell_type": "code",
   "execution_count": 26,
   "id": "9ff42437-4d3b-4417-bf74-a2da5f356d60",
   "metadata": {},
   "outputs": [
    {
     "data": {
      "text/plain": [
       "array([[ 6,  7,  8],\n",
       "       [11, 12, 13],\n",
       "       [16, 17, 18]])"
      ]
     },
     "execution_count": 26,
     "metadata": {},
     "output_type": "execute_result"
    }
   ],
   "source": [
    "# quitar el contorno de la matriz con slicing:\n",
    "m[1:-1, 1:-1]"
   ]
  },
  {
   "cell_type": "code",
   "execution_count": 27,
   "id": "e763f40d-3249-4e06-9634-c8129d2a4ebe",
   "metadata": {},
   "outputs": [
    {
     "data": {
      "text/plain": [
       "array([[ 5,  6,  7,  8,  9],\n",
       "       [10, 11, 12, 13, 14]])"
      ]
     },
     "execution_count": 27,
     "metadata": {},
     "output_type": "execute_result"
    }
   ],
   "source": [
    "m[[1,2]]"
   ]
  },
  {
   "cell_type": "code",
   "execution_count": 28,
   "id": "f33858cd-1589-459e-82d0-f423f4d1b7e6",
   "metadata": {},
   "outputs": [
    {
     "data": {
      "text/plain": [
       "array([[ 0,  1,  2,  3,  4],\n",
       "       [ 5,  6,  7,  8,  9],\n",
       "       [20, 21, 22, 23, 24]])"
      ]
     },
     "execution_count": 28,
     "metadata": {},
     "output_type": "execute_result"
    }
   ],
   "source": [
    "m[[True, True,False, False, True]]"
   ]
  },
  {
   "cell_type": "code",
   "execution_count": 30,
   "id": "ab9dd562-ccf5-4516-befe-3f0292502a8f",
   "metadata": {},
   "outputs": [
    {
     "name": "stdout",
     "output_type": "stream",
     "text": [
      "[10 51 18 14 98 74 39 82  4 39 14 22 28 87 43 56 51 17 73 69 76 46 85  6\n",
      " 20 95 42 86 92 62]\n",
      "\n",
      "[52 22 24 88 57 47 57 71 55 72 51 35  4 78 99  1  9  2 75 70 24 88 54 51\n",
      " 45 63 35 45 70 50]\n"
     ]
    }
   ],
   "source": [
    "col1 = np.random.randint(1,100, 30)\n",
    "col2 = np.random.randint(1,100, 30)\n",
    "print(col1)\n",
    "print()\n",
    "print(col2)"
   ]
  },
  {
   "cell_type": "code",
   "execution_count": 31,
   "id": "afee47f6-4dca-44bb-94d2-6ee4d4223a49",
   "metadata": {},
   "outputs": [
    {
     "data": {
      "text/plain": [
       "array([52, 51, 24, 88, 98, 74, 57, 82, 55, 72, 51, 35, 28, 87, 99, 56, 51,\n",
       "       17, 75, 70, 76, 88, 85, 51, 45, 95, 42, 86, 92, 62])"
      ]
     },
     "execution_count": 31,
     "metadata": {},
     "output_type": "execute_result"
    }
   ],
   "source": [
    "np.maximum(col1, col2)"
   ]
  },
  {
   "cell_type": "code",
   "execution_count": 32,
   "id": "6241e7ec-712b-4ca9-aa51-ce4f5052be37",
   "metadata": {},
   "outputs": [
    {
     "data": {
      "text/plain": [
       "array([10, 22, 18, 14, 57, 47, 39, 71,  4, 39, 14, 22,  4, 78, 43,  1,  9,\n",
       "        2, 73, 69, 24, 46, 54,  6, 20, 63, 35, 45, 70, 50])"
      ]
     },
     "execution_count": 32,
     "metadata": {},
     "output_type": "execute_result"
    }
   ],
   "source": [
    "np.minimum(col1, col2)"
   ]
  },
  {
   "cell_type": "code",
   "execution_count": 33,
   "id": "156ac45f-2a49-438f-bd6c-042a9ff7d6c8",
   "metadata": {},
   "outputs": [
    {
     "data": {
      "text/plain": [
       "array([ 62,  73,  42, 102, 155, 121,  96, 153,  59, 111,  65,  57,  32,\n",
       "       165, 142,  57,  60,  19, 148, 139, 100, 134, 139,  57,  65, 158,\n",
       "        77, 131, 162, 112])"
      ]
     },
     "execution_count": 33,
     "metadata": {},
     "output_type": "execute_result"
    }
   ],
   "source": [
    "col1 + col2"
   ]
  },
  {
   "cell_type": "code",
   "execution_count": 34,
   "id": "36b902e3-efbc-46a3-8de8-c16ed2a4e983",
   "metadata": {},
   "outputs": [
    {
     "data": {
      "text/plain": [
       "array([False,  True, False, False,  True,  True, False,  True, False,\n",
       "       False, False, False,  True,  True, False,  True,  True,  True,\n",
       "       False, False,  True, False,  True, False, False,  True,  True,\n",
       "        True,  True,  True])"
      ]
     },
     "execution_count": 34,
     "metadata": {},
     "output_type": "execute_result"
    }
   ],
   "source": [
    "col1 > col2"
   ]
  },
  {
   "cell_type": "code",
   "execution_count": 35,
   "id": "52866fc6-531a-47b8-9068-2ad789a9fe00",
   "metadata": {},
   "outputs": [
    {
     "data": {
      "text/plain": [
       "array([[ 1.33266099, -0.83602452, -0.44379874,  1.02491745, -0.64809432],\n",
       "       [-2.05482505,  0.54628733, -0.98044649,  0.9556619 ,  0.42074705],\n",
       "       [-1.38549726, -1.28806806, -0.56807396,  1.14577874, -0.03083573],\n",
       "       [ 0.5001852 , -0.00515195, -0.42179108,  1.3932677 , -0.46202511],\n",
       "       [-0.77956875, -0.30466409, -0.15358123, -0.10833786,  0.28341095]])"
      ]
     },
     "execution_count": 35,
     "metadata": {},
     "output_type": "execute_result"
    }
   ],
   "source": [
    "# Función where:\n",
    "m = np.random.randn(5,5)\n",
    "m"
   ]
  },
  {
   "cell_type": "code",
   "execution_count": 36,
   "id": "be30c39d-dce8-4424-8352-a103adf35284",
   "metadata": {},
   "outputs": [
    {
     "data": {
      "text/plain": [
       "array([[ 13.32660993,  -8.3602452 ,  -4.43798739,  10.24917454,\n",
       "         -6.48094316],\n",
       "       [-20.5482505 ,   5.46287327,  -9.80446485,   9.55661899,\n",
       "          4.20747045],\n",
       "       [-13.85497262, -12.88068055,  -5.68073956,  11.45778738,\n",
       "         -0.30835732],\n",
       "       [  5.00185197,  -0.05151946,  -4.21791078,  13.93267701,\n",
       "         -4.62025109],\n",
       "       [ -7.79568754,  -3.04664095,  -1.53581226,  -1.08337864,\n",
       "          2.83410954]])"
      ]
     },
     "execution_count": 36,
     "metadata": {},
     "output_type": "execute_result"
    }
   ],
   "source": [
    "m = m * 10\n",
    "m"
   ]
  },
  {
   "cell_type": "code",
   "execution_count": 38,
   "id": "1a79f4f7-48da-4106-a166-5b9ed39542a3",
   "metadata": {},
   "outputs": [
    {
     "data": {
      "text/plain": [
       "array([[13.32660993,  8.3602452 ,  4.43798739, 10.24917454,  6.48094316],\n",
       "       [20.5482505 ,  5.46287327,  9.80446485,  9.55661899,  4.20747045],\n",
       "       [13.85497262, 12.88068055,  5.68073956, 11.45778738,  0.30835732],\n",
       "       [ 5.00185197,  0.05151946,  4.21791078, 13.93267701,  4.62025109],\n",
       "       [ 7.79568754,  3.04664095,  1.53581226,  1.08337864,  2.83410954]])"
      ]
     },
     "execution_count": 38,
     "metadata": {},
     "output_type": "execute_result"
    }
   ],
   "source": [
    "n = np.where(m > 0, m, m * -1)\n",
    "n\n"
   ]
  },
  {
   "cell_type": "code",
   "execution_count": 39,
   "id": "f08a0756-55b6-4988-a824-4e02e99af3ee",
   "metadata": {},
   "outputs": [
    {
     "name": "stdout",
     "output_type": "stream",
     "text": [
      "[3 4 4 8 6 7 6 3 3 8]\n",
      "[3 1 7 6 1 4 3 5 5 5 1 5]\n"
     ]
    }
   ],
   "source": [
    "arr1 = np.random.randint(1,10,10)\n",
    "arr2 = np.random.randint(1,10,12)\n",
    "print(arr1)\n",
    "print(arr2)\n",
    "\n"
   ]
  },
  {
   "cell_type": "code",
   "execution_count": 40,
   "id": "27beda45-a32d-403f-8969-5ab15f9b031f",
   "metadata": {},
   "outputs": [
    {
     "ename": "ValueError",
     "evalue": "operands could not be broadcast together with shapes (10,) (12,) ",
     "output_type": "error",
     "traceback": [
      "\u001b[1;31m---------------------------------------------------------------------------\u001b[0m",
      "\u001b[1;31mValueError\u001b[0m                                Traceback (most recent call last)",
      "Cell \u001b[1;32mIn[40], line 1\u001b[0m\n\u001b[1;32m----> 1\u001b[0m \u001b[43marr1\u001b[49m\u001b[43m \u001b[49m\u001b[38;5;241;43m+\u001b[39;49m\u001b[43m \u001b[49m\u001b[43marr2\u001b[49m\n",
      "\u001b[1;31mValueError\u001b[0m: operands could not be broadcast together with shapes (10,) (12,) "
     ]
    }
   ],
   "source": [
    "arr1 + arr2"
   ]
  },
  {
   "cell_type": "code",
   "execution_count": 44,
   "id": "66c7d97c-c741-4326-8d7a-0d56a0a07657",
   "metadata": {},
   "outputs": [
    {
     "data": {
      "text/plain": [
       "array([1. , 7. , 3.8, 2.7])"
      ]
     },
     "execution_count": 44,
     "metadata": {},
     "output_type": "execute_result"
    }
   ],
   "source": [
    "arr3 = np.abs((-1, -7, 3.8, -2.7))\n",
    "arr3"
   ]
  },
  {
   "cell_type": "code",
   "execution_count": 45,
   "id": "c9ac276b-3b50-4a52-b1ab-088af37da110",
   "metadata": {},
   "outputs": [
    {
     "data": {
      "text/plain": [
       "array([[21, 14,  2, 11, 10,  8],\n",
       "       [25, 25, 25, 19, 19,  3],\n",
       "       [12, 26,  6, 13, 10,  1],\n",
       "       [ 8, 24, 25,  4, 29,  9]])"
      ]
     },
     "execution_count": 45,
     "metadata": {},
     "output_type": "execute_result"
    }
   ],
   "source": [
    "m = np.random.randint(1,30,(4,6))\n",
    "m"
   ]
  },
  {
   "cell_type": "code",
   "execution_count": 46,
   "id": "778fe18a-70c5-49b8-a6c9-9685c5b8a0c7",
   "metadata": {},
   "outputs": [
    {
     "data": {
      "text/plain": [
       "array([11.        , 19.33333333, 11.33333333, 16.5       ])"
      ]
     },
     "execution_count": 46,
     "metadata": {},
     "output_type": "execute_result"
    }
   ],
   "source": [
    "m.mean(axis=1) # por filas"
   ]
  },
  {
   "cell_type": "code",
   "execution_count": 47,
   "id": "332413fe-088c-4a16-995c-5911ed4a8a91",
   "metadata": {},
   "outputs": [
    {
     "data": {
      "text/plain": [
       "14.541666666666666"
      ]
     },
     "execution_count": 47,
     "metadata": {},
     "output_type": "execute_result"
    }
   ],
   "source": [
    "m.mean()"
   ]
  },
  {
   "cell_type": "code",
   "execution_count": 48,
   "id": "f21f72cb-cbb3-4c26-91f8-c344fa49762c",
   "metadata": {},
   "outputs": [
    {
     "data": {
      "text/plain": [
       "array([16.5 , 22.25, 14.5 , 11.75, 17.  ,  5.25])"
      ]
     },
     "execution_count": 48,
     "metadata": {},
     "output_type": "execute_result"
    }
   ],
   "source": [
    "m.mean(axis=0) # por cols"
   ]
  },
  {
   "cell_type": "code",
   "execution_count": null,
   "id": "662a18d9-a0fe-42c1-99b8-a0cec35e9e8d",
   "metadata": {},
   "outputs": [],
   "source": []
  }
 ],
 "metadata": {
  "kernelspec": {
   "display_name": "Python 3 (ipykernel)",
   "language": "python",
   "name": "python3"
  },
  "language_info": {
   "codemirror_mode": {
    "name": "ipython",
    "version": 3
   },
   "file_extension": ".py",
   "mimetype": "text/x-python",
   "name": "python",
   "nbconvert_exporter": "python",
   "pygments_lexer": "ipython3",
   "version": "3.12.7"
  }
 },
 "nbformat": 4,
 "nbformat_minor": 5
}
