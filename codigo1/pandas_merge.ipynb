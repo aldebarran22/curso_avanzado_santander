{
 "cells": [
  {
   "cell_type": "markdown",
   "id": "45448723-6ca1-4f18-9e16-892ec22ea83f",
   "metadata": {},
   "source": [
    "### Merge entre 3 dataframe"
   ]
  },
  {
   "cell_type": "code",
   "execution_count": 1,
   "id": "34724a65-4502-4ad6-9a7c-5b6145309ec8",
   "metadata": {},
   "outputs": [],
   "source": [
    "import pandas as pd"
   ]
  },
  {
   "cell_type": "code",
   "execution_count": null,
   "id": "f43367a5-f56e-4198-a14e-8ba75de51d93",
   "metadata": {},
   "outputs": [],
   "source": [
    "dfPed = pd.read_csv(\"../ficheros_curso/merge/Pedidos.txt\", sep=\";\")\n",
    "dfEmp = pd.read_csv(\"../ficheros_curso/merge/Empresas.txt\", sep=\";\")\n",
    "dfPed = pd.read_csv(\"../ficheros_curso/merge/Emplead.txt\", sep=\";\")\n"
   ]
  }
 ],
 "metadata": {
  "kernelspec": {
   "display_name": "Python 3 (ipykernel)",
   "language": "python",
   "name": "python3"
  },
  "language_info": {
   "codemirror_mode": {
    "name": "ipython",
    "version": 3
   },
   "file_extension": ".py",
   "mimetype": "text/x-python",
   "name": "python",
   "nbconvert_exporter": "python",
   "pygments_lexer": "ipython3",
   "version": "3.12.7"
  }
 },
 "nbformat": 4,
 "nbformat_minor": 5
}
