{
 "cells": [
  {
   "cell_type": "markdown",
   "id": "8165ec50-cf11-442f-bd61-3b483aa1719b",
   "metadata": {},
   "source": [
    "### Limpiar datos con pandas"
   ]
  },
  {
   "cell_type": "code",
   "execution_count": 11,
   "id": "26e17938-49fa-44fd-bb16-aae608f01358",
   "metadata": {},
   "outputs": [],
   "source": [
    "import pandas as pd\n",
    "import numpy as np"
   ]
  },
  {
   "cell_type": "code",
   "execution_count": 2,
   "id": "17cfc279-89ac-4d2b-8446-31a39306dafd",
   "metadata": {},
   "outputs": [
    {
     "data": {
      "text/html": [
       "<div>\n",
       "<style scoped>\n",
       "    .dataframe tbody tr th:only-of-type {\n",
       "        vertical-align: middle;\n",
       "    }\n",
       "\n",
       "    .dataframe tbody tr th {\n",
       "        vertical-align: top;\n",
       "    }\n",
       "\n",
       "    .dataframe thead th {\n",
       "        text-align: right;\n",
       "    }\n",
       "</style>\n",
       "<table border=\"1\" class=\"dataframe\">\n",
       "  <thead>\n",
       "    <tr style=\"text-align: right;\">\n",
       "      <th></th>\n",
       "      <th>Date</th>\n",
       "      <th>Time</th>\n",
       "      <th>Lat</th>\n",
       "      <th>Lon</th>\n",
       "      <th>Wind</th>\n",
       "      <th>Pressure</th>\n",
       "      <th>Storm Type</th>\n",
       "      <th>Category</th>\n",
       "    </tr>\n",
       "  </thead>\n",
       "  <tbody>\n",
       "    <tr>\n",
       "      <th>0</th>\n",
       "      <td>sep-16</td>\n",
       "      <td>15:00 GMT</td>\n",
       "      <td>12.2</td>\n",
       "      <td>-50.5°</td>\n",
       "      <td>35 mph</td>\n",
       "      <td>1008 mb</td>\n",
       "      <td>Potential Tropical Cyclone</td>\n",
       "      <td>-</td>\n",
       "    </tr>\n",
       "    <tr>\n",
       "      <th>1</th>\n",
       "      <td>sep-16</td>\n",
       "      <td>18:00 GMT</td>\n",
       "      <td>11.9</td>\n",
       "      <td>-51.6°</td>\n",
       "      <td>35 mph</td>\n",
       "      <td>1006 mb</td>\n",
       "      <td>Tropical Depression</td>\n",
       "      <td>-</td>\n",
       "    </tr>\n",
       "    <tr>\n",
       "      <th>2</th>\n",
       "      <td>sep-16</td>\n",
       "      <td>21:00 GMT</td>\n",
       "      <td>12.3</td>\n",
       "      <td>-52.6°</td>\n",
       "      <td>50 mph</td>\n",
       "      <td>1002 mb</td>\n",
       "      <td>Tropical Storm</td>\n",
       "      <td>-</td>\n",
       "    </tr>\n",
       "    <tr>\n",
       "      <th>3</th>\n",
       "      <td>sep-17</td>\n",
       "      <td>00:00 GMT</td>\n",
       "      <td>12.4°</td>\n",
       "      <td>-53.0°</td>\n",
       "      <td>50 mph</td>\n",
       "      <td>1002 mb</td>\n",
       "      <td>Tropical Storm</td>\n",
       "      <td>-</td>\n",
       "    </tr>\n",
       "    <tr>\n",
       "      <th>4</th>\n",
       "      <td>sep-17</td>\n",
       "      <td>03:00 GMT</td>\n",
       "      <td>12.5°</td>\n",
       "      <td>-53.7°</td>\n",
       "      <td>50 mph</td>\n",
       "      <td>1002 mb</td>\n",
       "      <td>Tropical Storm</td>\n",
       "      <td>-</td>\n",
       "    </tr>\n",
       "  </tbody>\n",
       "</table>\n",
       "</div>"
      ],
      "text/plain": [
       "    Date       Time    Lat     Lon     Wind  Pressure   \\\n",
       "0  sep-16  15:00 GMT   12.2  -50.5°  35 mph   1008 mb    \n",
       "1  sep-16  18:00 GMT   11.9  -51.6°  35 mph   1006 mb    \n",
       "2  sep-16  21:00 GMT   12.3  -52.6°  50 mph   1002 mb    \n",
       "3  sep-17  00:00 GMT  12.4°  -53.0°  50 mph   1002 mb    \n",
       "4  sep-17  03:00 GMT  12.5°  -53.7°  50 mph   1002 mb    \n",
       "\n",
       "                  Storm Type  Category   \n",
       "0  Potential Tropical Cyclone         -  \n",
       "1         Tropical Depression         -  \n",
       "2              Tropical Storm         -  \n",
       "3              Tropical Storm         -  \n",
       "4              Tropical Storm         -  "
      ]
     },
     "execution_count": 2,
     "metadata": {},
     "output_type": "execute_result"
    }
   ],
   "source": [
    "df = pd.read_csv(\"../ficheros_curso/csv/MARIA.csv\", sep=';')\n",
    "df.head()"
   ]
  },
  {
   "cell_type": "code",
   "execution_count": 3,
   "id": "75d7611a-8c45-437a-9755-22bc29035000",
   "metadata": {},
   "outputs": [
    {
     "name": "stdout",
     "output_type": "stream",
     "text": [
      "<class 'pandas.core.frame.DataFrame'>\n",
      "RangeIndex: 120 entries, 0 to 119\n",
      "Data columns (total 8 columns):\n",
      " #   Column       Non-Null Count  Dtype \n",
      "---  ------       --------------  ----- \n",
      " 0   Date         120 non-null    object\n",
      " 1   Time         120 non-null    object\n",
      " 2   Lat          120 non-null    object\n",
      " 3   Lon          120 non-null    object\n",
      " 4   Wind         120 non-null    object\n",
      " 5   Pressure     120 non-null    object\n",
      " 6   Storm Type   120 non-null    object\n",
      " 7   Category     120 non-null    object\n",
      "dtypes: object(8)\n",
      "memory usage: 7.6+ KB\n"
     ]
    }
   ],
   "source": [
    "df.info()"
   ]
  },
  {
   "cell_type": "code",
   "execution_count": 5,
   "id": "895ea5c5-80dc-4e14-a6a8-82955ea198ce",
   "metadata": {},
   "outputs": [],
   "source": [
    "df.columns = [col.strip() for col in df.columns]"
   ]
  },
  {
   "cell_type": "code",
   "execution_count": 6,
   "id": "ec00a9c6-b2e9-404d-89c1-619237ee6f9d",
   "metadata": {},
   "outputs": [],
   "source": [
    "df['Lon'] = pd.to_numeric(df.Lon.str[:-1], downcast=\"float\")"
   ]
  },
  {
   "cell_type": "code",
   "execution_count": 7,
   "id": "5bee548f-631c-46d4-b3c9-3bae50bea76a",
   "metadata": {},
   "outputs": [
    {
     "name": "stdout",
     "output_type": "stream",
     "text": [
      "<class 'pandas.core.frame.DataFrame'>\n",
      "RangeIndex: 120 entries, 0 to 119\n",
      "Data columns (total 8 columns):\n",
      " #   Column      Non-Null Count  Dtype  \n",
      "---  ------      --------------  -----  \n",
      " 0   Date        120 non-null    object \n",
      " 1   Time        120 non-null    object \n",
      " 2   Lat         120 non-null    object \n",
      " 3   Lon         120 non-null    float64\n",
      " 4   Wind        120 non-null    object \n",
      " 5   Pressure    120 non-null    object \n",
      " 6   Storm Type  120 non-null    object \n",
      " 7   Category    120 non-null    object \n",
      "dtypes: float64(1), object(7)\n",
      "memory usage: 7.6+ KB\n"
     ]
    }
   ],
   "source": [
    "df.info()"
   ]
  },
  {
   "cell_type": "code",
   "execution_count": 8,
   "id": "cee46649-b621-45fe-9789-3c24fe4dc08a",
   "metadata": {},
   "outputs": [
    {
     "name": "stdout",
     "output_type": "stream",
     "text": [
      "<class 'pandas.core.frame.DataFrame'>\n",
      "RangeIndex: 120 entries, 0 to 119\n",
      "Data columns (total 8 columns):\n",
      " #   Column      Non-Null Count  Dtype  \n",
      "---  ------      --------------  -----  \n",
      " 0   Date        120 non-null    object \n",
      " 1   Time        120 non-null    object \n",
      " 2   Lat         120 non-null    object \n",
      " 3   Lon         120 non-null    float64\n",
      " 4   Wind        120 non-null    int16  \n",
      " 5   Pressure    120 non-null    int16  \n",
      " 6   Storm Type  120 non-null    object \n",
      " 7   Category    120 non-null    object \n",
      "dtypes: float64(1), int16(2), object(5)\n",
      "memory usage: 6.2+ KB\n"
     ]
    }
   ],
   "source": [
    "df['Wind'] = pd.to_numeric(df.Wind.str.replace(\" mph\", \"\"), downcast=\"integer\")\n",
    "df['Pressure'] = pd.to_numeric(df.Pressure.str.replace(\" mb\", \"\"), downcast=\"integer\")\n",
    "df.info()"
   ]
  },
  {
   "cell_type": "code",
   "execution_count": 10,
   "id": "d8e95850-57da-4258-b273-040bd86ca212",
   "metadata": {},
   "outputs": [
    {
     "ename": "ValueError",
     "evalue": "The truth value of a Series is ambiguous. Use a.empty, a.bool(), a.item(), a.any() or a.all().",
     "output_type": "error",
     "traceback": [
      "\u001b[1;31m---------------------------------------------------------------------------\u001b[0m",
      "\u001b[1;31mValueError\u001b[0m                                Traceback (most recent call last)",
      "\u001b[1;32m~\\AppData\\Local\\Temp\\ipykernel_1976\\523099320.py\u001b[0m in \u001b[0;36m?\u001b[1;34m()\u001b[0m\n\u001b[1;32m----> 1\u001b[1;33m \u001b[0mdf\u001b[0m\u001b[1;33m[\u001b[0m\u001b[1;34m'Lat'\u001b[0m\u001b[1;33m]\u001b[0m \u001b[1;33m=\u001b[0m \u001b[0mpd\u001b[0m\u001b[1;33m.\u001b[0m\u001b[0mto_numeric\u001b[0m\u001b[1;33m(\u001b[0m\u001b[1;33m(\u001b[0m\u001b[0mdf\u001b[0m\u001b[1;33m.\u001b[0m\u001b[0mLat\u001b[0m\u001b[1;33m.\u001b[0m\u001b[0mstr\u001b[0m\u001b[1;33m[\u001b[0m\u001b[1;33m:\u001b[0m\u001b[1;33m-\u001b[0m\u001b[1;36m1\u001b[0m\u001b[1;33m]\u001b[0m \u001b[1;32mif\u001b[0m \u001b[1;32mnot\u001b[0m \u001b[0mdf\u001b[0m\u001b[1;33m.\u001b[0m\u001b[0mLat\u001b[0m\u001b[1;33m.\u001b[0m\u001b[0mstr\u001b[0m\u001b[1;33m.\u001b[0m\u001b[0misnumeric\u001b[0m\u001b[1;33m(\u001b[0m\u001b[1;33m)\u001b[0m \u001b[1;32melse\u001b[0m \u001b[0mdf\u001b[0m\u001b[1;33m.\u001b[0m\u001b[0mLat\u001b[0m\u001b[1;33m.\u001b[0m\u001b[0mstr\u001b[0m\u001b[1;33m[\u001b[0m\u001b[1;33m:\u001b[0m\u001b[1;33m]\u001b[0m\u001b[1;33m)\u001b[0m\u001b[1;33m,\u001b[0m \u001b[0mdowncast\u001b[0m\u001b[1;33m=\u001b[0m\u001b[1;34m\"float\"\u001b[0m\u001b[1;33m)\u001b[0m\u001b[1;33m\u001b[0m\u001b[1;33m\u001b[0m\u001b[0m\n\u001b[0m",
      "\u001b[1;32mD:\\Program Files\\Python312\\Lib\\site-packages\\pandas\\core\\generic.py\u001b[0m in \u001b[0;36m?\u001b[1;34m(self)\u001b[0m\n\u001b[0;32m   1575\u001b[0m     \u001b[1;33m@\u001b[0m\u001b[0mfinal\u001b[0m\u001b[1;33m\u001b[0m\u001b[1;33m\u001b[0m\u001b[0m\n\u001b[0;32m   1576\u001b[0m     \u001b[1;32mdef\u001b[0m \u001b[0m__nonzero__\u001b[0m\u001b[1;33m(\u001b[0m\u001b[0mself\u001b[0m\u001b[1;33m)\u001b[0m \u001b[1;33m->\u001b[0m \u001b[0mNoReturn\u001b[0m\u001b[1;33m:\u001b[0m\u001b[1;33m\u001b[0m\u001b[1;33m\u001b[0m\u001b[0m\n\u001b[1;32m-> 1577\u001b[1;33m         raise ValueError(\n\u001b[0m\u001b[0;32m   1578\u001b[0m             \u001b[1;33mf\"\u001b[0m\u001b[1;33mThe truth value of a \u001b[0m\u001b[1;33m{\u001b[0m\u001b[0mtype\u001b[0m\u001b[1;33m(\u001b[0m\u001b[0mself\u001b[0m\u001b[1;33m)\u001b[0m\u001b[1;33m.\u001b[0m\u001b[0m__name__\u001b[0m\u001b[1;33m}\u001b[0m\u001b[1;33m is ambiguous. \u001b[0m\u001b[1;33m\"\u001b[0m\u001b[1;33m\u001b[0m\u001b[1;33m\u001b[0m\u001b[0m\n\u001b[0;32m   1579\u001b[0m             \u001b[1;34m\"Use a.empty, a.bool(), a.item(), a.any() or a.all().\"\u001b[0m\u001b[1;33m\u001b[0m\u001b[1;33m\u001b[0m\u001b[0m\n\u001b[0;32m   1580\u001b[0m         \u001b[1;33m)\u001b[0m\u001b[1;33m\u001b[0m\u001b[1;33m\u001b[0m\u001b[0m\n",
      "\u001b[1;31mValueError\u001b[0m: The truth value of a Series is ambiguous. Use a.empty, a.bool(), a.item(), a.any() or a.all()."
     ]
    }
   ],
   "source": [
    "df['Lat'] = pd.to_numeric((df.Lat.str[:-1] if not df.Lat.str.isnumeric() else df.Lat.str[:]), downcast=\"float\")"
   ]
  },
  {
   "cell_type": "code",
   "execution_count": 13,
   "id": "2188c8da-9ead-4dd9-a2d8-716bef744d80",
   "metadata": {},
   "outputs": [
    {
     "data": {
      "text/plain": [
       "array([[ 1.        , -0.95481815],\n",
       "       [-0.95481815,  1.        ]])"
      ]
     },
     "execution_count": 13,
     "metadata": {},
     "output_type": "execute_result"
    }
   ],
   "source": [
    "t = np.corrcoef(df.Wind, df.Pressure)\n",
    "t"
   ]
  },
  {
   "cell_type": "code",
   "execution_count": 17,
   "id": "d7c96f81-ceaf-46c2-8be8-52d6b14afc6a",
   "metadata": {},
   "outputs": [],
   "source": [
    "df['date_time'] = pd.to_datetime(\"2005 \" + df.Date + \" \" + df.Time.str.replace(\" GMT\", \"\"), format=\"%Y %b-%d %H:%M\")"
   ]
  },
  {
   "cell_type": "code",
   "execution_count": 18,
   "id": "a679332e-cd74-4f0e-b102-e4f2131aee8d",
   "metadata": {},
   "outputs": [
    {
     "data": {
      "text/html": [
       "<div>\n",
       "<style scoped>\n",
       "    .dataframe tbody tr th:only-of-type {\n",
       "        vertical-align: middle;\n",
       "    }\n",
       "\n",
       "    .dataframe tbody tr th {\n",
       "        vertical-align: top;\n",
       "    }\n",
       "\n",
       "    .dataframe thead th {\n",
       "        text-align: right;\n",
       "    }\n",
       "</style>\n",
       "<table border=\"1\" class=\"dataframe\">\n",
       "  <thead>\n",
       "    <tr style=\"text-align: right;\">\n",
       "      <th></th>\n",
       "      <th>Lat</th>\n",
       "      <th>Lon</th>\n",
       "      <th>Wind</th>\n",
       "      <th>Pressure</th>\n",
       "      <th>Storm Type</th>\n",
       "      <th>Category</th>\n",
       "      <th>date_time</th>\n",
       "    </tr>\n",
       "  </thead>\n",
       "  <tbody>\n",
       "    <tr>\n",
       "      <th>0</th>\n",
       "      <td>12.2</td>\n",
       "      <td>-50.5</td>\n",
       "      <td>35</td>\n",
       "      <td>1008</td>\n",
       "      <td>Potential Tropical Cyclone</td>\n",
       "      <td>-</td>\n",
       "      <td>2005-09-16 15:00:00</td>\n",
       "    </tr>\n",
       "    <tr>\n",
       "      <th>1</th>\n",
       "      <td>11.9</td>\n",
       "      <td>-51.6</td>\n",
       "      <td>35</td>\n",
       "      <td>1006</td>\n",
       "      <td>Tropical Depression</td>\n",
       "      <td>-</td>\n",
       "      <td>2005-09-16 18:00:00</td>\n",
       "    </tr>\n",
       "    <tr>\n",
       "      <th>2</th>\n",
       "      <td>12.3</td>\n",
       "      <td>-52.6</td>\n",
       "      <td>50</td>\n",
       "      <td>1002</td>\n",
       "      <td>Tropical Storm</td>\n",
       "      <td>-</td>\n",
       "      <td>2005-09-16 21:00:00</td>\n",
       "    </tr>\n",
       "    <tr>\n",
       "      <th>3</th>\n",
       "      <td>12.4°</td>\n",
       "      <td>-53.0</td>\n",
       "      <td>50</td>\n",
       "      <td>1002</td>\n",
       "      <td>Tropical Storm</td>\n",
       "      <td>-</td>\n",
       "      <td>2005-09-17 00:00:00</td>\n",
       "    </tr>\n",
       "    <tr>\n",
       "      <th>4</th>\n",
       "      <td>12.5°</td>\n",
       "      <td>-53.7</td>\n",
       "      <td>50</td>\n",
       "      <td>1002</td>\n",
       "      <td>Tropical Storm</td>\n",
       "      <td>-</td>\n",
       "      <td>2005-09-17 03:00:00</td>\n",
       "    </tr>\n",
       "  </tbody>\n",
       "</table>\n",
       "</div>"
      ],
      "text/plain": [
       "     Lat   Lon  Wind  Pressure                  Storm Type Category  \\\n",
       "0   12.2 -50.5    35      1008  Potential Tropical Cyclone        -   \n",
       "1   11.9 -51.6    35      1006         Tropical Depression        -   \n",
       "2   12.3 -52.6    50      1002              Tropical Storm        -   \n",
       "3  12.4° -53.0    50      1002              Tropical Storm        -   \n",
       "4  12.5° -53.7    50      1002              Tropical Storm        -   \n",
       "\n",
       "            date_time  \n",
       "0 2005-09-16 15:00:00  \n",
       "1 2005-09-16 18:00:00  \n",
       "2 2005-09-16 21:00:00  \n",
       "3 2005-09-17 00:00:00  \n",
       "4 2005-09-17 03:00:00  "
      ]
     },
     "execution_count": 18,
     "metadata": {},
     "output_type": "execute_result"
    }
   ],
   "source": [
    "df.drop(columns=[\"Date\", \"Time\"], inplace=True)\n",
    "df.head()"
   ]
  },
  {
   "cell_type": "code",
   "execution_count": null,
   "id": "947acf56-d205-47f8-bf80-664a449a4de9",
   "metadata": {},
   "outputs": [],
   "source": []
  }
 ],
 "metadata": {
  "kernelspec": {
   "display_name": "Python 3 (ipykernel)",
   "language": "python",
   "name": "python3"
  },
  "language_info": {
   "codemirror_mode": {
    "name": "ipython",
    "version": 3
   },
   "file_extension": ".py",
   "mimetype": "text/x-python",
   "name": "python",
   "nbconvert_exporter": "python",
   "pygments_lexer": "ipython3",
   "version": "3.12.7"
  }
 },
 "nbformat": 4,
 "nbformat_minor": 5
}
