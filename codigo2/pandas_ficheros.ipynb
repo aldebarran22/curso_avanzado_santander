{
 "cells": [
  {
   "cell_type": "code",
   "execution_count": 1,
   "id": "b36271b2-166a-4a85-8bd5-5fe6bed5f347",
   "metadata": {},
   "outputs": [],
   "source": [
    "import pandas as pd"
   ]
  },
  {
   "cell_type": "code",
   "execution_count": 2,
   "id": "dbfc97e8-064e-4449-b0fd-5465079359b4",
   "metadata": {},
   "outputs": [
    {
     "data": {
      "text/html": [
       "<div>\n",
       "<style scoped>\n",
       "    .dataframe tbody tr th:only-of-type {\n",
       "        vertical-align: middle;\n",
       "    }\n",
       "\n",
       "    .dataframe tbody tr th {\n",
       "        vertical-align: top;\n",
       "    }\n",
       "\n",
       "    .dataframe thead th {\n",
       "        text-align: right;\n",
       "    }\n",
       "</style>\n",
       "<table border=\"1\" class=\"dataframe\">\n",
       "  <thead>\n",
       "    <tr style=\"text-align: right;\">\n",
       "      <th></th>\n",
       "      <th>idpedido</th>\n",
       "      <th>cliente</th>\n",
       "      <th>idempleado</th>\n",
       "      <th>idempresa</th>\n",
       "      <th>importe</th>\n",
       "      <th>pais</th>\n",
       "    </tr>\n",
       "  </thead>\n",
       "  <tbody>\n",
       "    <tr>\n",
       "      <th>0</th>\n",
       "      <td>10248</td>\n",
       "      <td>WILMK</td>\n",
       "      <td>5</td>\n",
       "      <td>3</td>\n",
       "      <td>32.38</td>\n",
       "      <td>Finlandia</td>\n",
       "    </tr>\n",
       "    <tr>\n",
       "      <th>1</th>\n",
       "      <td>10249</td>\n",
       "      <td>TOMSP</td>\n",
       "      <td>6</td>\n",
       "      <td>1</td>\n",
       "      <td>11.61</td>\n",
       "      <td>Alemania</td>\n",
       "    </tr>\n",
       "    <tr>\n",
       "      <th>2</th>\n",
       "      <td>10250</td>\n",
       "      <td>HANAR</td>\n",
       "      <td>4</td>\n",
       "      <td>2</td>\n",
       "      <td>65.83</td>\n",
       "      <td>Brasil</td>\n",
       "    </tr>\n",
       "    <tr>\n",
       "      <th>3</th>\n",
       "      <td>10251</td>\n",
       "      <td>VICTE</td>\n",
       "      <td>3</td>\n",
       "      <td>1</td>\n",
       "      <td>41.34</td>\n",
       "      <td>Francia</td>\n",
       "    </tr>\n",
       "    <tr>\n",
       "      <th>4</th>\n",
       "      <td>10252</td>\n",
       "      <td>SUPRD</td>\n",
       "      <td>4</td>\n",
       "      <td>2</td>\n",
       "      <td>51.30</td>\n",
       "      <td>Belgica</td>\n",
       "    </tr>\n",
       "  </tbody>\n",
       "</table>\n",
       "</div>"
      ],
      "text/plain": [
       "   idpedido cliente  idempleado  idempresa  importe       pais\n",
       "0     10248   WILMK           5          3    32.38  Finlandia\n",
       "1     10249   TOMSP           6          1    11.61   Alemania\n",
       "2     10250   HANAR           4          2    65.83     Brasil\n",
       "3     10251   VICTE           3          1    41.34    Francia\n",
       "4     10252   SUPRD           4          2    51.30    Belgica"
      ]
     },
     "execution_count": 2,
     "metadata": {},
     "output_type": "execute_result"
    }
   ],
   "source": [
    "dfPedidos = pd.read_csv(\"../ficheros_curso/merge/Pedidos.txt\", sep=';')\n",
    "dfPedidos.head()"
   ]
  },
  {
   "cell_type": "code",
   "execution_count": 3,
   "id": "f5ebbf33-95fe-4390-b7eb-ab941c31d31a",
   "metadata": {},
   "outputs": [
    {
     "data": {
      "text/html": [
       "<div>\n",
       "<style scoped>\n",
       "    .dataframe tbody tr th:only-of-type {\n",
       "        vertical-align: middle;\n",
       "    }\n",
       "\n",
       "    .dataframe tbody tr th {\n",
       "        vertical-align: top;\n",
       "    }\n",
       "\n",
       "    .dataframe thead th {\n",
       "        text-align: right;\n",
       "    }\n",
       "</style>\n",
       "<table border=\"1\" class=\"dataframe\">\n",
       "  <thead>\n",
       "    <tr style=\"text-align: right;\">\n",
       "      <th></th>\n",
       "      <th>idpedido</th>\n",
       "      <th>cliente</th>\n",
       "      <th>idempleado</th>\n",
       "      <th>idempresa</th>\n",
       "      <th>importe</th>\n",
       "      <th>pais</th>\n",
       "    </tr>\n",
       "  </thead>\n",
       "  <tbody>\n",
       "    <tr>\n",
       "      <th>827</th>\n",
       "      <td>11075</td>\n",
       "      <td>RICSU</td>\n",
       "      <td>8</td>\n",
       "      <td>2</td>\n",
       "      <td>6.19</td>\n",
       "      <td>Suiza</td>\n",
       "    </tr>\n",
       "    <tr>\n",
       "      <th>828</th>\n",
       "      <td>11076</td>\n",
       "      <td>BONAP</td>\n",
       "      <td>4</td>\n",
       "      <td>2</td>\n",
       "      <td>38.28</td>\n",
       "      <td>Francia</td>\n",
       "    </tr>\n",
       "    <tr>\n",
       "      <th>829</th>\n",
       "      <td>11077</td>\n",
       "      <td>RATTC</td>\n",
       "      <td>1</td>\n",
       "      <td>2</td>\n",
       "      <td>8.53</td>\n",
       "      <td>Estados Unidos</td>\n",
       "    </tr>\n",
       "  </tbody>\n",
       "</table>\n",
       "</div>"
      ],
      "text/plain": [
       "     idpedido cliente  idempleado  idempresa  importe            pais\n",
       "827     11075   RICSU           8          2     6.19           Suiza\n",
       "828     11076   BONAP           4          2    38.28         Francia\n",
       "829     11077   RATTC           1          2     8.53  Estados Unidos"
      ]
     },
     "execution_count": 3,
     "metadata": {},
     "output_type": "execute_result"
    }
   ],
   "source": [
    "dfPedidos.tail(3)"
   ]
  },
  {
   "cell_type": "code",
   "execution_count": 4,
   "id": "1d365354-9260-406a-a202-0cb637e75300",
   "metadata": {},
   "outputs": [
    {
     "data": {
      "text/plain": [
       "(830, 6)"
      ]
     },
     "execution_count": 4,
     "metadata": {},
     "output_type": "execute_result"
    }
   ],
   "source": [
    "dfPedidos.shape"
   ]
  },
  {
   "cell_type": "code",
   "execution_count": 5,
   "id": "83999f1f-8e7f-49a8-bc58-121281905378",
   "metadata": {},
   "outputs": [
    {
     "name": "stdout",
     "output_type": "stream",
     "text": [
      "<class 'pandas.core.frame.DataFrame'>\n",
      "RangeIndex: 830 entries, 0 to 829\n",
      "Data columns (total 6 columns):\n",
      " #   Column      Non-Null Count  Dtype  \n",
      "---  ------      --------------  -----  \n",
      " 0   idpedido    830 non-null    int64  \n",
      " 1   cliente     830 non-null    object \n",
      " 2   idempleado  830 non-null    int64  \n",
      " 3   idempresa   830 non-null    int64  \n",
      " 4   importe     830 non-null    float64\n",
      " 5   pais        830 non-null    object \n",
      "dtypes: float64(1), int64(3), object(2)\n",
      "memory usage: 39.0+ KB\n"
     ]
    }
   ],
   "source": [
    "dfPedidos.info()"
   ]
  },
  {
   "cell_type": "code",
   "execution_count": 6,
   "id": "ba0b42d9-0683-48d6-9876-56867034b8df",
   "metadata": {},
   "outputs": [
    {
     "data": {
      "text/html": [
       "<div>\n",
       "<style scoped>\n",
       "    .dataframe tbody tr th:only-of-type {\n",
       "        vertical-align: middle;\n",
       "    }\n",
       "\n",
       "    .dataframe tbody tr th {\n",
       "        vertical-align: top;\n",
       "    }\n",
       "\n",
       "    .dataframe thead th {\n",
       "        text-align: right;\n",
       "    }\n",
       "</style>\n",
       "<table border=\"1\" class=\"dataframe\">\n",
       "  <thead>\n",
       "    <tr style=\"text-align: right;\">\n",
       "      <th></th>\n",
       "      <th>idpedido</th>\n",
       "      <th>idempleado</th>\n",
       "      <th>idempresa</th>\n",
       "      <th>importe</th>\n",
       "    </tr>\n",
       "  </thead>\n",
       "  <tbody>\n",
       "    <tr>\n",
       "      <th>count</th>\n",
       "      <td>830.000000</td>\n",
       "      <td>830.000000</td>\n",
       "      <td>830.000000</td>\n",
       "      <td>830.000000</td>\n",
       "    </tr>\n",
       "    <tr>\n",
       "      <th>mean</th>\n",
       "      <td>10662.500000</td>\n",
       "      <td>4.403614</td>\n",
       "      <td>2.008434</td>\n",
       "      <td>78.244205</td>\n",
       "    </tr>\n",
       "    <tr>\n",
       "      <th>std</th>\n",
       "      <td>239.744656</td>\n",
       "      <td>2.499648</td>\n",
       "      <td>0.778899</td>\n",
       "      <td>116.779294</td>\n",
       "    </tr>\n",
       "    <tr>\n",
       "      <th>min</th>\n",
       "      <td>10248.000000</td>\n",
       "      <td>1.000000</td>\n",
       "      <td>1.000000</td>\n",
       "      <td>0.020000</td>\n",
       "    </tr>\n",
       "    <tr>\n",
       "      <th>25%</th>\n",
       "      <td>10455.250000</td>\n",
       "      <td>2.000000</td>\n",
       "      <td>1.000000</td>\n",
       "      <td>13.380000</td>\n",
       "    </tr>\n",
       "    <tr>\n",
       "      <th>50%</th>\n",
       "      <td>10662.500000</td>\n",
       "      <td>4.000000</td>\n",
       "      <td>2.000000</td>\n",
       "      <td>41.360000</td>\n",
       "    </tr>\n",
       "    <tr>\n",
       "      <th>75%</th>\n",
       "      <td>10869.750000</td>\n",
       "      <td>7.000000</td>\n",
       "      <td>3.000000</td>\n",
       "      <td>91.430000</td>\n",
       "    </tr>\n",
       "    <tr>\n",
       "      <th>max</th>\n",
       "      <td>11077.000000</td>\n",
       "      <td>9.000000</td>\n",
       "      <td>3.000000</td>\n",
       "      <td>1007.640000</td>\n",
       "    </tr>\n",
       "  </tbody>\n",
       "</table>\n",
       "</div>"
      ],
      "text/plain": [
       "           idpedido  idempleado   idempresa      importe\n",
       "count    830.000000  830.000000  830.000000   830.000000\n",
       "mean   10662.500000    4.403614    2.008434    78.244205\n",
       "std      239.744656    2.499648    0.778899   116.779294\n",
       "min    10248.000000    1.000000    1.000000     0.020000\n",
       "25%    10455.250000    2.000000    1.000000    13.380000\n",
       "50%    10662.500000    4.000000    2.000000    41.360000\n",
       "75%    10869.750000    7.000000    3.000000    91.430000\n",
       "max    11077.000000    9.000000    3.000000  1007.640000"
      ]
     },
     "execution_count": 6,
     "metadata": {},
     "output_type": "execute_result"
    }
   ],
   "source": [
    "dfPedidos.describe()"
   ]
  },
  {
   "cell_type": "code",
   "execution_count": null,
   "id": "fa3aa6bf-7e2d-4d7a-83cb-7da4189943f4",
   "metadata": {},
   "outputs": [],
   "source": []
  }
 ],
 "metadata": {
  "kernelspec": {
   "display_name": "Python 3 (ipykernel)",
   "language": "python",
   "name": "python3"
  },
  "language_info": {
   "codemirror_mode": {
    "name": "ipython",
    "version": 3
   },
   "file_extension": ".py",
   "mimetype": "text/x-python",
   "name": "python",
   "nbconvert_exporter": "python",
   "pygments_lexer": "ipython3",
   "version": "3.12.7"
  }
 },
 "nbformat": 4,
 "nbformat_minor": 5
}
