{
 "cells": [
  {
   "cell_type": "code",
   "execution_count": 51,
   "id": "c8933b0e-5b14-4c7d-8c34-1fc0ade05c22",
   "metadata": {},
   "outputs": [],
   "source": [
    "import numpy as np\n",
    "import matplotlib.pyplot as plt"
   ]
  },
  {
   "cell_type": "code",
   "execution_count": 2,
   "id": "a8945d80-bcee-4be9-81cc-4b24119878df",
   "metadata": {},
   "outputs": [
    {
     "data": {
      "text/plain": [
       "'1.26.4'"
      ]
     },
     "execution_count": 2,
     "metadata": {},
     "output_type": "execute_result"
    }
   ],
   "source": [
    "np.__version__"
   ]
  },
  {
   "cell_type": "code",
   "execution_count": 3,
   "id": "a3a8e882-fd07-4b5e-a633-afb6b5805681",
   "metadata": {},
   "outputs": [
    {
     "name": "stdout",
     "output_type": "stream",
     "text": [
      "681 ms ± 26.7 ms per loop (mean ± std. dev. of 7 runs, 1 loop each)\n"
     ]
    }
   ],
   "source": [
    "%%timeit\n",
    "L = list(range(1000000))\n",
    "for _ in range(10): L2 = [x * 2 for x in L]"
   ]
  },
  {
   "cell_type": "code",
   "execution_count": 5,
   "id": "52c3c551-d6eb-4f94-9b22-4caab3d975d3",
   "metadata": {},
   "outputs": [
    {
     "name": "stdout",
     "output_type": "stream",
     "text": [
      "16 ms ± 210 μs per loop (mean ± std. dev. of 7 runs, 100 loops each)\n"
     ]
    }
   ],
   "source": [
    "%%timeit\n",
    "arr = np.arange(1000000)\n",
    "for _ in range(10): arr2 = arr * 2"
   ]
  },
  {
   "cell_type": "code",
   "execution_count": 6,
   "id": "7de4a611-c39f-45c4-86b9-a3a51a841c02",
   "metadata": {},
   "outputs": [
    {
     "name": "stdout",
     "output_type": "stream",
     "text": [
      "[1.  5.  3.  2.  7.7]\n",
      "float64\n"
     ]
    }
   ],
   "source": [
    "arr1 = np.array([1, 5, 3, 2, 7.7])\n",
    "print(arr1)\n",
    "print(arr1.dtype)\n"
   ]
  },
  {
   "cell_type": "code",
   "execution_count": 10,
   "id": "4fb4efe4-17d3-4b4e-988d-a4ea5d0bfd21",
   "metadata": {},
   "outputs": [
    {
     "name": "stdout",
     "output_type": "stream",
     "text": [
      "[1 5 3 2 7]\n",
      "uint8\n"
     ]
    }
   ],
   "source": [
    "#arr1 = np.array([\"1\", \"5\", \"3\", \"2\", \"7\"], dtype=\"u1\")\n",
    "arr1 = np.array([\"1\", \"5\", \"3\", \"2\", \"7\"], dtype=np.uint8)\n",
    "print(arr1)\n",
    "print(arr1.dtype)"
   ]
  },
  {
   "cell_type": "code",
   "execution_count": 11,
   "id": "31eeaeab-69bd-4d73-90fd-02a657567f4a",
   "metadata": {},
   "outputs": [
    {
     "data": {
      "text/plain": [
       "(5,)"
      ]
     },
     "execution_count": 11,
     "metadata": {},
     "output_type": "execute_result"
    }
   ],
   "source": [
    "arr1.shape"
   ]
  },
  {
   "cell_type": "code",
   "execution_count": 14,
   "id": "8d36836e-e01a-458e-b904-caa117d2049d",
   "metadata": {},
   "outputs": [
    {
     "data": {
      "text/plain": [
       "array([[[ 0,  1,  2,  3,  4],\n",
       "        [ 5,  6,  7,  8,  9],\n",
       "        [10, 11, 12, 13, 14],\n",
       "        [15, 16, 17, 18, 19],\n",
       "        [20, 21, 22, 23, 24]],\n",
       "\n",
       "       [[25, 26, 27, 28, 29],\n",
       "        [30, 31, 32, 33, 34],\n",
       "        [35, 36, 37, 38, 39],\n",
       "        [40, 41, 42, 43, 44],\n",
       "        [45, 46, 47, 48, 49]]])"
      ]
     },
     "execution_count": 14,
     "metadata": {},
     "output_type": "execute_result"
    }
   ],
   "source": [
    "arr2 = np.arange(50).reshape(2,5,5)\n",
    "arr2"
   ]
  },
  {
   "cell_type": "code",
   "execution_count": 15,
   "id": "7a932586-d410-4d64-a6b1-cfa22286b2a6",
   "metadata": {},
   "outputs": [
    {
     "data": {
      "text/plain": [
       "array([[[ 0.,  1.,  2.,  3.,  4.],\n",
       "        [ 5.,  6.,  7.,  8.,  9.],\n",
       "        [10., 11., 12., 13., 14.],\n",
       "        [15., 16., 17., 18., 19.],\n",
       "        [20., 21., 22., 23., 24.]],\n",
       "\n",
       "       [[25., 26., 27., 28., 29.],\n",
       "        [30., 31., 32., 33., 34.],\n",
       "        [35., 36., 37., 38., 39.],\n",
       "        [40., 41., 42., 43., 44.],\n",
       "        [45., 46., 47., 48., 49.]]])"
      ]
     },
     "execution_count": 15,
     "metadata": {},
     "output_type": "execute_result"
    }
   ],
   "source": [
    "arr3 = arr2.astype(np.float64)\n",
    "arr3"
   ]
  },
  {
   "cell_type": "code",
   "execution_count": 19,
   "id": "586008d6-00e9-430a-85b9-dd4327a5fc65",
   "metadata": {},
   "outputs": [
    {
     "data": {
      "text/plain": [
       "array([1, 2, 3, 4, 5])"
      ]
     },
     "execution_count": 19,
     "metadata": {},
     "output_type": "execute_result"
    }
   ],
   "source": [
    "arr4 = np.array((1,2,3,4,5))\n",
    "arr4"
   ]
  },
  {
   "cell_type": "code",
   "execution_count": 20,
   "id": "faeb7547-9e34-44de-87a7-cec34a65c187",
   "metadata": {},
   "outputs": [
    {
     "data": {
      "text/plain": [
       "array([[0., 0., 0., 0., 0., 0., 0.],\n",
       "       [0., 0., 0., 0., 0., 0., 0.],\n",
       "       [0., 0., 0., 0., 0., 0., 0.],\n",
       "       [0., 0., 0., 0., 0., 0., 0.],\n",
       "       [0., 0., 0., 0., 0., 0., 0.]])"
      ]
     },
     "execution_count": 20,
     "metadata": {},
     "output_type": "execute_result"
    }
   ],
   "source": [
    "ceros = np.zeros((5,7))\n",
    "ceros"
   ]
  },
  {
   "cell_type": "code",
   "execution_count": 22,
   "id": "25e30d35-35a7-4951-a91f-bfb282bc3f56",
   "metadata": {},
   "outputs": [
    {
     "data": {
      "text/plain": [
       "array([[1., 1., 1., 1., 1., 1., 1.],\n",
       "       [1., 1., 1., 1., 1., 1., 1.],\n",
       "       [1., 1., 1., 1., 1., 1., 1.],\n",
       "       [1., 1., 1., 1., 1., 1., 1.],\n",
       "       [1., 1., 1., 1., 1., 1., 1.]])"
      ]
     },
     "execution_count": 22,
     "metadata": {},
     "output_type": "execute_result"
    }
   ],
   "source": [
    "unos = np.ones_like(ceros)\n",
    "unos"
   ]
  },
  {
   "cell_type": "markdown",
   "id": "20102d83-a250-4a36-8db6-4a0971156d73",
   "metadata": {},
   "source": [
    "Operadores aritméticos y relacionales"
   ]
  },
  {
   "cell_type": "code",
   "execution_count": 23,
   "id": "5db96002-14b7-46cd-94b2-57247cab200c",
   "metadata": {},
   "outputs": [
    {
     "data": {
      "text/plain": [
       "array([13, 19, 21, 24, 17, 16,  1, 16,  7, 13,  8, 18, 23, 19,  1])"
      ]
     },
     "execution_count": 23,
     "metadata": {},
     "output_type": "execute_result"
    }
   ],
   "source": [
    "arr1 = np.random.randint(1,25,15)\n",
    "arr1"
   ]
  },
  {
   "cell_type": "code",
   "execution_count": 24,
   "id": "7ce26ad7-ae3d-4f97-8e0e-eb2f1577771f",
   "metadata": {},
   "outputs": [
    {
     "data": {
      "text/plain": [
       "array([13, 10, 11, 15, 14, 15, 17,  1,  3, 20, 16,  6, 24,  2,  4])"
      ]
     },
     "execution_count": 24,
     "metadata": {},
     "output_type": "execute_result"
    }
   ],
   "source": [
    "arr2 = np.random.randint(1,25,15)\n",
    "arr2"
   ]
  },
  {
   "cell_type": "code",
   "execution_count": 25,
   "id": "6aa45b4f-cfc4-4630-9b4a-b63ed9617e90",
   "metadata": {},
   "outputs": [
    {
     "data": {
      "text/plain": [
       "array([26, 29, 32, 39, 31, 31, 18, 17, 10, 33, 24, 24, 47, 21,  5])"
      ]
     },
     "execution_count": 25,
     "metadata": {},
     "output_type": "execute_result"
    }
   ],
   "source": [
    "arr1 + arr2"
   ]
  },
  {
   "cell_type": "code",
   "execution_count": 26,
   "id": "a116b2ca-952c-4146-a00a-f9c9b31b38c0",
   "metadata": {},
   "outputs": [
    {
     "data": {
      "text/plain": [
       "array([ True,  True,  True,  True,  True,  True, False,  True, False,\n",
       "        True, False,  True,  True,  True, False])"
      ]
     },
     "execution_count": 26,
     "metadata": {},
     "output_type": "execute_result"
    }
   ],
   "source": [
    "arr1 > 10"
   ]
  },
  {
   "cell_type": "code",
   "execution_count": 28,
   "id": "2a5fd005-b612-4342-b17b-9ce51e095a71",
   "metadata": {},
   "outputs": [
    {
     "data": {
      "text/plain": [
       "11"
      ]
     },
     "execution_count": 28,
     "metadata": {},
     "output_type": "execute_result"
    }
   ],
   "source": [
    "(arr1 > 10).sum()"
   ]
  },
  {
   "cell_type": "markdown",
   "id": "7075978f-e6d7-4681-806e-00413eec69a4",
   "metadata": {},
   "source": [
    "Filtrar, slicing, modificar"
   ]
  },
  {
   "cell_type": "code",
   "execution_count": 29,
   "id": "03a9f9b7-2388-48e0-9d47-423e08c136f9",
   "metadata": {},
   "outputs": [
    {
     "data": {
      "text/plain": [
       "array([13, 19, 21, 24, 17, 16, 16, 13, 18, 23, 19])"
      ]
     },
     "execution_count": 29,
     "metadata": {},
     "output_type": "execute_result"
    }
   ],
   "source": [
    "arr1[arr1 > 10]"
   ]
  },
  {
   "cell_type": "code",
   "execution_count": 30,
   "id": "a3b612da-b4f4-403b-9909-f21debba8687",
   "metadata": {},
   "outputs": [
    {
     "data": {
      "text/plain": [
       "array([1, 7, 8, 1])"
      ]
     },
     "execution_count": 30,
     "metadata": {},
     "output_type": "execute_result"
    }
   ],
   "source": [
    "arr1[arr1 <= 10]"
   ]
  },
  {
   "cell_type": "code",
   "execution_count": 31,
   "id": "8e1841aa-eaf1-428e-808c-a8818cbc0073",
   "metadata": {},
   "outputs": [
    {
     "data": {
      "text/plain": [
       "array([13, 19, 24,  8])"
      ]
     },
     "execution_count": 31,
     "metadata": {},
     "output_type": "execute_result"
    }
   ],
   "source": [
    "arr1[[0,1,3,10]]"
   ]
  },
  {
   "cell_type": "code",
   "execution_count": 32,
   "id": "840e18d8-9145-43c5-87d1-e1fbe781909b",
   "metadata": {},
   "outputs": [
    {
     "data": {
      "text/plain": [
       "array([13, 19, 21, 24, 17, 16,  1, 16,  7, 13,  8, 18, 23, 19,  1])"
      ]
     },
     "execution_count": 32,
     "metadata": {},
     "output_type": "execute_result"
    }
   ],
   "source": [
    "arr1"
   ]
  },
  {
   "cell_type": "code",
   "execution_count": 33,
   "id": "6879ce9e-e57c-4023-9c0c-cf513fc49552",
   "metadata": {},
   "outputs": [
    {
     "data": {
      "text/plain": [
       "array([13, 19, 20, 20, 17, 16,  1, 16,  7, 13,  8, 18, 20, 19,  1])"
      ]
     },
     "execution_count": 33,
     "metadata": {},
     "output_type": "execute_result"
    }
   ],
   "source": [
    "arr1[arr1 > 20] = 20\n",
    "arr1"
   ]
  },
  {
   "cell_type": "code",
   "execution_count": 35,
   "id": "99917b03-1112-417e-801c-229644908ee9",
   "metadata": {},
   "outputs": [
    {
     "data": {
      "text/plain": [
       "array([13, 16, 16, 13])"
      ]
     },
     "execution_count": 35,
     "metadata": {},
     "output_type": "execute_result"
    }
   ],
   "source": [
    "arr1[(arr1 >= 10) & (arr1 <= 16)]"
   ]
  },
  {
   "cell_type": "code",
   "execution_count": 36,
   "id": "643befd8-60fc-4960-be1e-d8db936ac83f",
   "metadata": {},
   "outputs": [
    {
     "data": {
      "text/plain": [
       "array([[33, 41, 45,  4, 15],\n",
       "       [ 6, 20, 24,  5, 45],\n",
       "       [34,  5, 38, 47, 39],\n",
       "       [11, 42,  4, 35, 15],\n",
       "       [31, 18, 15, 41, 35]])"
      ]
     },
     "execution_count": 36,
     "metadata": {},
     "output_type": "execute_result"
    }
   ],
   "source": [
    "m = np.random.randint(1,50, (5,5))\n",
    "m"
   ]
  },
  {
   "cell_type": "code",
   "execution_count": 37,
   "id": "df399a8d-d05e-4a9d-9e6b-610c32e5e095",
   "metadata": {},
   "outputs": [
    {
     "data": {
      "text/plain": [
       "array([[20, 24,  5],\n",
       "       [ 5, 38, 47],\n",
       "       [42,  4, 35]])"
      ]
     },
     "execution_count": 37,
     "metadata": {},
     "output_type": "execute_result"
    }
   ],
   "source": [
    "# Quitar la primera y última fila y columna:\n",
    "m[1:-1, 1:-1]"
   ]
  },
  {
   "cell_type": "code",
   "execution_count": 39,
   "id": "4da4119b-b04d-4c9c-846a-79f37d5064d5",
   "metadata": {},
   "outputs": [
    {
     "data": {
      "text/plain": [
       "array([[31, 18, 15, 41, 35],\n",
       "       [33, 41, 45,  4, 15],\n",
       "       [11, 42,  4, 35, 15]])"
      ]
     },
     "execution_count": 39,
     "metadata": {},
     "output_type": "execute_result"
    }
   ],
   "source": [
    "m[[4,0,3]]"
   ]
  },
  {
   "cell_type": "code",
   "execution_count": 40,
   "id": "9130ccab-f5a2-45fe-9300-a1a95599a619",
   "metadata": {},
   "outputs": [
    {
     "data": {
      "text/plain": [
       "array([[33, 41, 45,  4, 15],\n",
       "       [11, 42,  4, 35, 15]])"
      ]
     },
     "execution_count": 40,
     "metadata": {},
     "output_type": "execute_result"
    }
   ],
   "source": [
    "ind = np.array([33,4,1,55,3])\n",
    "m[ind > 10]\n"
   ]
  },
  {
   "cell_type": "code",
   "execution_count": 41,
   "id": "b78de6df-1bf6-4855-8f91-3747ea75237e",
   "metadata": {},
   "outputs": [
    {
     "name": "stdout",
     "output_type": "stream",
     "text": [
      "[13 19 20 20 17 16  1 16  7 13  8 18 20 19  1]\n",
      "[13 10 11 15 14 15 17  1  3 20 16  6 24  2  4]\n"
     ]
    }
   ],
   "source": [
    "print(arr1)\n",
    "print(arr2)"
   ]
  },
  {
   "cell_type": "code",
   "execution_count": 42,
   "id": "5b59ed93-9dd1-4977-a738-5c3336e22c8d",
   "metadata": {},
   "outputs": [
    {
     "data": {
      "text/plain": [
       "array([13, 19, 20, 20, 17, 16, 17, 16,  7, 20, 16, 18, 24, 19,  4])"
      ]
     },
     "execution_count": 42,
     "metadata": {},
     "output_type": "execute_result"
    }
   ],
   "source": [
    "np.maximum(arr1, arr2)"
   ]
  },
  {
   "cell_type": "code",
   "execution_count": 43,
   "id": "65d2fee6-6af4-467d-9a50-247cbac9be8c",
   "metadata": {},
   "outputs": [
    {
     "data": {
      "text/plain": [
       "array([13, 10, 11, 15, 14, 15,  1,  1,  3, 13,  8,  6, 20,  2,  1])"
      ]
     },
     "execution_count": 43,
     "metadata": {},
     "output_type": "execute_result"
    }
   ],
   "source": [
    "np.minimum(arr1, arr2)"
   ]
  },
  {
   "cell_type": "code",
   "execution_count": 44,
   "id": "bbf7a3c5-d112-4398-aff9-6fa36c7700a1",
   "metadata": {},
   "outputs": [
    {
     "data": {
      "text/plain": [
       "20"
      ]
     },
     "execution_count": 44,
     "metadata": {},
     "output_type": "execute_result"
    }
   ],
   "source": [
    "np.max(arr1)"
   ]
  },
  {
   "cell_type": "code",
   "execution_count": 45,
   "id": "5a4df6d8-2458-4b4f-ab11-4db5f875053b",
   "metadata": {},
   "outputs": [
    {
     "data": {
      "text/plain": [
       "array([0, 0, 0, 0, 0, 0, 0, 0, 7, 0, 8, 0, 0, 0, 0])"
      ]
     },
     "execution_count": 45,
     "metadata": {},
     "output_type": "execute_result"
    }
   ],
   "source": [
    "resul = np.where((arr1 > 5) & (arr1 < 10), arr1, 0)\n",
    "resul"
   ]
  },
  {
   "cell_type": "code",
   "execution_count": 46,
   "id": "daf37b71-8128-4f01-8959-e6699021be8a",
   "metadata": {},
   "outputs": [
    {
     "data": {
      "text/plain": [
       "array([[36,  5, 35, 27, 27, 41],\n",
       "       [ 4, 19,  3, 23, 46, 10],\n",
       "       [42,  8, 13,  8,  4, 15],\n",
       "       [43,  1, 36, 16, 18, 45]])"
      ]
     },
     "execution_count": 46,
     "metadata": {},
     "output_type": "execute_result"
    }
   ],
   "source": [
    "m = np.random.randint(1,50, (4,6))\n",
    "m"
   ]
  },
  {
   "cell_type": "code",
   "execution_count": 47,
   "id": "ef570d31-c976-40b8-ac36-69674115bcce",
   "metadata": {},
   "outputs": [
    {
     "data": {
      "text/plain": [
       "array([125,  33,  87,  74,  95, 111])"
      ]
     },
     "execution_count": 47,
     "metadata": {},
     "output_type": "execute_result"
    }
   ],
   "source": [
    "m.sum(axis=0)"
   ]
  },
  {
   "cell_type": "code",
   "execution_count": 48,
   "id": "386f28e6-f5e5-46e8-a1bb-a0f154b2119a",
   "metadata": {},
   "outputs": [
    {
     "data": {
      "text/plain": [
       "array([171, 105,  90, 159])"
      ]
     },
     "execution_count": 48,
     "metadata": {},
     "output_type": "execute_result"
    }
   ],
   "source": [
    "m.sum(axis=1)"
   ]
  },
  {
   "cell_type": "code",
   "execution_count": 49,
   "id": "d845e9d3-9be1-4f29-b1de-f32fa09718cc",
   "metadata": {},
   "outputs": [
    {
     "data": {
      "text/plain": [
       "525"
      ]
     },
     "execution_count": 49,
     "metadata": {},
     "output_type": "execute_result"
    }
   ],
   "source": [
    "m.sum()"
   ]
  },
  {
   "cell_type": "code",
   "execution_count": 50,
   "id": "bff31a54-c98e-428f-acde-2cbb0a22cd76",
   "metadata": {},
   "outputs": [
    {
     "data": {
      "text/plain": [
       "array([ 36,  41,  76, 103, 130, 171, 175, 194, 197, 220, 266, 276, 318,\n",
       "       326, 339, 347, 351, 366, 409, 410, 446, 462, 480, 525])"
      ]
     },
     "execution_count": 50,
     "metadata": {},
     "output_type": "execute_result"
    }
   ],
   "source": [
    "m.cumsum()"
   ]
  },
  {
   "cell_type": "code",
   "execution_count": 53,
   "id": "8b7042c2-51d0-4461-9087-0aca71c3f6a0",
   "metadata": {},
   "outputs": [
    {
     "data": {
      "image/png": "[encoded data removed]",
      "text/plain": [
       "<Figure size 640x480 with 1 Axes>"
      ]
     },
     "metadata": {},
     "output_type": "display_data"
    }
   ],
   "source": [
    "np.random.seed(1)\n",
    "# 1000 random integers between 0 and 50\n",
    "x = np.random.randint (0, 50,1000)\n",
    "# Positive Correlation with some noise\n",
    "y = x + np.random.normal (0, 10,1000)\n",
    "plt.scatter(x,y);\n"
   ]
  },
  {
   "cell_type": "code",
   "execution_count": 54,
   "id": "e3212810-6f6e-47cb-867b-b5229307efbd",
   "metadata": {},
   "outputs": [
    {
     "data": {
      "text/plain": [
       "array([[1.        , 0.81543901],\n",
       "       [0.81543901, 1.        ]])"
      ]
     },
     "execution_count": 54,
     "metadata": {},
     "output_type": "execute_result"
    }
   ],
   "source": [
    "c = np.corrcoef (x,y)\n",
    "c"
   ]
  },
  {
   "cell_type": "code",
   "execution_count": 56,
   "id": "fe013c6c-2780-4401-bb8c-c218c5a12de5",
   "metadata": {},
   "outputs": [
    {
     "data": {
      "text/plain": [
       "81.54"
      ]
     },
     "execution_count": 56,
     "metadata": {},
     "output_type": "execute_result"
    }
   ],
   "source": [
    "por = round(c[0][1] * 100, 2)\n",
    "por"
   ]
  },
  {
   "cell_type": "code",
   "execution_count": 57,
   "id": "208f6028-a0d9-4b4f-a7f4-d9389921afcd",
   "metadata": {},
   "outputs": [
    {
     "data": {
      "text/plain": [
       "array([13, 19, 20, 20, 17, 16,  1, 16,  7, 13,  8, 18, 20, 19,  1])"
      ]
     },
     "execution_count": 57,
     "metadata": {},
     "output_type": "execute_result"
    }
   ],
   "source": [
    "arr1"
   ]
  },
  {
   "cell_type": "code",
   "execution_count": 58,
   "id": "ac08496e-2fde-4700-8010-a483cb9d9361",
   "metadata": {},
   "outputs": [
    {
     "data": {
      "text/plain": [
       "True"
      ]
     },
     "execution_count": 58,
     "metadata": {},
     "output_type": "execute_result"
    }
   ],
   "source": [
    "# hay algún valor superior a 15?\n",
    "(arr1 > 15).any()"
   ]
  },
  {
   "cell_type": "code",
   "execution_count": 59,
   "id": "823eed8f-153a-4557-b9ba-d6cef2da35f9",
   "metadata": {},
   "outputs": [
    {
     "data": {
      "text/plain": [
       "True"
      ]
     },
     "execution_count": 59,
     "metadata": {},
     "output_type": "execute_result"
    }
   ],
   "source": [
    "(arr1 > 0).all()"
   ]
  },
  {
   "cell_type": "code",
   "execution_count": 62,
   "id": "a70347c6-527b-4b8d-aba8-2b117fef3140",
   "metadata": {},
   "outputs": [],
   "source": [
    "m1 = np.random.randint(1,50, (10, 15))\n",
    "np.savetxt(\"../ficheros/matriz.csv\", m1, fmt=\"%d\", delimiter=';')\n"
   ]
  },
  {
   "cell_type": "code",
   "execution_count": 67,
   "id": "8b0ffc5a-d639-4aa4-97da-648d3f35faa5",
   "metadata": {},
   "outputs": [
    {
     "data": {
      "text/plain": [
       "array([[ 1, 15, 24,  8, 23, 19, 43,  1, 43, 35, 43,  3, 44, 37, 29],\n",
       "       [ 7,  7,  3, 13, 27,  5,  1, 35, 13,  9, 24, 28, 16, 12, 48],\n",
       "       [22, 27, 48, 48, 25, 30, 20,  6, 39, 20, 11, 32, 48,  6, 12],\n",
       "       [44, 36, 21, 10, 13, 36, 17, 10, 21, 40, 49, 22, 48,  8,  4],\n",
       "       [ 4, 29, 24, 48, 16, 45, 29, 44, 40, 17, 19, 19,  3, 31, 43],\n",
       "       [22, 41, 48,  2, 44, 42, 42, 16, 45, 37, 31, 16, 23, 34, 16],\n",
       "       [28, 38,  6,  1, 35, 48, 43, 24, 45, 41, 27, 43, 45, 25, 17],\n",
       "       [ 3,  1, 10, 38, 32, 32, 32, 42, 40, 15,  3, 48, 36, 33, 33],\n",
       "       [42, 43, 32, 17, 20, 29, 32, 28, 12, 38, 44, 39, 24, 17, 10],\n",
       "       [46,  1, 20, 27,  3, 39, 22, 31, 23, 32, 31, 37, 16, 22, 29]],\n",
       "      dtype=uint64)"
      ]
     },
     "execution_count": 67,
     "metadata": {},
     "output_type": "execute_result"
    }
   ],
   "source": [
    "m2 = np.loadtxt(\"../ficheros/matriz.csv\", delimiter=\";\", dtype=\"u8\")\n",
    "m2"
   ]
  },
  {
   "cell_type": "code",
   "execution_count": 68,
   "id": "da064464-6b3e-48a3-89b3-7823d5ef8c21",
   "metadata": {},
   "outputs": [],
   "source": [
    "m2 = np.random.randint(1,50, (4, 5))\n",
    "m3 = np.random.randint(1,50, (3, 6))\n",
    "\n",
    "np.savez_compressed(\"../ficheros/matriz.npz\", a=m1, b=m2, c=m3)\n"
   ]
  },
  {
   "cell_type": "code",
   "execution_count": 69,
   "id": "fa24b4d5-afcd-43ec-be23-107f0084bb7e",
   "metadata": {},
   "outputs": [
    {
     "data": {
      "text/plain": [
       "array([[48, 10, 45,  5,  3],\n",
       "       [44, 49, 40, 48, 19],\n",
       "       [49, 27, 30, 14, 10],\n",
       "       [24, 27, 37,  9, 28]])"
      ]
     },
     "execution_count": 69,
     "metadata": {},
     "output_type": "execute_result"
    }
   ],
   "source": [
    "dicc = np.load(\"../ficheros/matriz.npz\")\n",
    "dicc['b']"
   ]
  },
  {
   "cell_type": "code",
   "execution_count": 70,
   "id": "d1ac8819-ffb5-4dda-be9b-aa1d6f96f961",
   "metadata": {},
   "outputs": [
    {
     "data": {
      "text/plain": [
       "array([[15, 24, 48,  9, 38, 42],\n",
       "       [26, 31, 40,  6, 34, 11],\n",
       "       [20, 46, 30, 38, 41, 26]])"
      ]
     },
     "execution_count": 70,
     "metadata": {},
     "output_type": "execute_result"
    }
   ],
   "source": [
    "dicc['c']"
   ]
  },
  {
   "cell_type": "code",
   "execution_count": null,
   "id": "a59a4257-f8a2-4b2d-ad57-ff56d56183da",
   "metadata": {},
   "outputs": [],
   "source": []
  }
 ],
 "metadata": {
  "kernelspec": {
   "display_name": "Python 3 (ipykernel)",
   "language": "python",
   "name": "python3"
  },
  "language_info": {
   "codemirror_mode": {
    "name": "ipython",
    "version": 3
   },
   "file_extension": ".py",
   "mimetype": "text/x-python",
   "name": "python",
   "nbconvert_exporter": "python",
   "pygments_lexer": "ipython3",
   "version": "3.12.7"
  }
 },
 "nbformat": 4,
 "nbformat_minor": 5
}
