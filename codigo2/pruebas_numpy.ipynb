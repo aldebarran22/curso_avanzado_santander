{
 "cells": [
  {
   "cell_type": "code",
   "execution_count": 1,
   "id": "c8933b0e-5b14-4c7d-8c34-1fc0ade05c22",
   "metadata": {},
   "outputs": [],
   "source": [
    "import numpy as np"
   ]
  },
  {
   "cell_type": "code",
   "execution_count": 2,
   "id": "a8945d80-bcee-4be9-81cc-4b24119878df",
   "metadata": {},
   "outputs": [
    {
     "data": {
      "text/plain": [
       "'1.26.4'"
      ]
     },
     "execution_count": 2,
     "metadata": {},
     "output_type": "execute_result"
    }
   ],
   "source": [
    "np.__version__"
   ]
  },
  {
   "cell_type": "code",
   "execution_count": 3,
   "id": "a3a8e882-fd07-4b5e-a633-afb6b5805681",
   "metadata": {},
   "outputs": [
    {
     "name": "stdout",
     "output_type": "stream",
     "text": [
      "681 ms ± 26.7 ms per loop (mean ± std. dev. of 7 runs, 1 loop each)\n"
     ]
    }
   ],
   "source": [
    "%%timeit\n",
    "L = list(range(1000000))\n",
    "for _ in range(10): L2 = [x * 2 for x in L]"
   ]
  },
  {
   "cell_type": "code",
   "execution_count": 5,
   "id": "52c3c551-d6eb-4f94-9b22-4caab3d975d3",
   "metadata": {},
   "outputs": [
    {
     "name": "stdout",
     "output_type": "stream",
     "text": [
      "16 ms ± 210 μs per loop (mean ± std. dev. of 7 runs, 100 loops each)\n"
     ]
    }
   ],
   "source": [
    "%%timeit\n",
    "arr = np.arange(1000000)\n",
    "for _ in range(10): arr2 = arr * 2"
   ]
  },
  {
   "cell_type": "code",
   "execution_count": 6,
   "id": "7de4a611-c39f-45c4-86b9-a3a51a841c02",
   "metadata": {},
   "outputs": [
    {
     "name": "stdout",
     "output_type": "stream",
     "text": [
      "[1.  5.  3.  2.  7.7]\n",
      "float64\n"
     ]
    }
   ],
   "source": [
    "arr1 = np.array([1, 5, 3, 2, 7.7])\n",
    "print(arr1)\n",
    "print(arr1.dtype)\n"
   ]
  },
  {
   "cell_type": "code",
   "execution_count": 10,
   "id": "4fb4efe4-17d3-4b4e-988d-a4ea5d0bfd21",
   "metadata": {},
   "outputs": [
    {
     "name": "stdout",
     "output_type": "stream",
     "text": [
      "[1 5 3 2 7]\n",
      "uint8\n"
     ]
    }
   ],
   "source": [
    "#arr1 = np.array([\"1\", \"5\", \"3\", \"2\", \"7\"], dtype=\"u1\")\n",
    "arr1 = np.array([\"1\", \"5\", \"3\", \"2\", \"7\"], dtype=np.uint8)\n",
    "print(arr1)\n",
    "print(arr1.dtype)"
   ]
  },
  {
   "cell_type": "code",
   "execution_count": 11,
   "id": "31eeaeab-69bd-4d73-90fd-02a657567f4a",
   "metadata": {},
   "outputs": [
    {
     "data": {
      "text/plain": [
       "(5,)"
      ]
     },
     "execution_count": 11,
     "metadata": {},
     "output_type": "execute_result"
    }
   ],
   "source": [
    "arr1.shape"
   ]
  },
  {
   "cell_type": "code",
   "execution_count": 14,
   "id": "8d36836e-e01a-458e-b904-caa117d2049d",
   "metadata": {},
   "outputs": [
    {
     "data": {
      "text/plain": [
       "array([[[ 0,  1,  2,  3,  4],\n",
       "        [ 5,  6,  7,  8,  9],\n",
       "        [10, 11, 12, 13, 14],\n",
       "        [15, 16, 17, 18, 19],\n",
       "        [20, 21, 22, 23, 24]],\n",
       "\n",
       "       [[25, 26, 27, 28, 29],\n",
       "        [30, 31, 32, 33, 34],\n",
       "        [35, 36, 37, 38, 39],\n",
       "        [40, 41, 42, 43, 44],\n",
       "        [45, 46, 47, 48, 49]]])"
      ]
     },
     "execution_count": 14,
     "metadata": {},
     "output_type": "execute_result"
    }
   ],
   "source": [
    "arr2 = np.arange(50).reshape(2,5,5)\n",
    "arr2"
   ]
  },
  {
   "cell_type": "code",
   "execution_count": 15,
   "id": "7a932586-d410-4d64-a6b1-cfa22286b2a6",
   "metadata": {},
   "outputs": [
    {
     "data": {
      "text/plain": [
       "array([[[ 0.,  1.,  2.,  3.,  4.],\n",
       "        [ 5.,  6.,  7.,  8.,  9.],\n",
       "        [10., 11., 12., 13., 14.],\n",
       "        [15., 16., 17., 18., 19.],\n",
       "        [20., 21., 22., 23., 24.]],\n",
       "\n",
       "       [[25., 26., 27., 28., 29.],\n",
       "        [30., 31., 32., 33., 34.],\n",
       "        [35., 36., 37., 38., 39.],\n",
       "        [40., 41., 42., 43., 44.],\n",
       "        [45., 46., 47., 48., 49.]]])"
      ]
     },
     "execution_count": 15,
     "metadata": {},
     "output_type": "execute_result"
    }
   ],
   "source": [
    "arr3 = arr2.astype(np.float64)\n",
    "arr3"
   ]
  },
  {
   "cell_type": "code",
   "execution_count": 19,
   "id": "586008d6-00e9-430a-85b9-dd4327a5fc65",
   "metadata": {},
   "outputs": [
    {
     "data": {
      "text/plain": [
       "array([1, 2, 3, 4, 5])"
      ]
     },
     "execution_count": 19,
     "metadata": {},
     "output_type": "execute_result"
    }
   ],
   "source": [
    "arr4 = np.array((1,2,3,4,5))\n",
    "arr4"
   ]
  },
  {
   "cell_type": "code",
   "execution_count": 20,
   "id": "faeb7547-9e34-44de-87a7-cec34a65c187",
   "metadata": {},
   "outputs": [
    {
     "data": {
      "text/plain": [
       "array([[0., 0., 0., 0., 0., 0., 0.],\n",
       "       [0., 0., 0., 0., 0., 0., 0.],\n",
       "       [0., 0., 0., 0., 0., 0., 0.],\n",
       "       [0., 0., 0., 0., 0., 0., 0.],\n",
       "       [0., 0., 0., 0., 0., 0., 0.]])"
      ]
     },
     "execution_count": 20,
     "metadata": {},
     "output_type": "execute_result"
    }
   ],
   "source": [
    "ceros = np.zeros((5,7))\n",
    "ceros"
   ]
  },
  {
   "cell_type": "code",
   "execution_count": 22,
   "id": "25e30d35-35a7-4951-a91f-bfb282bc3f56",
   "metadata": {},
   "outputs": [
    {
     "data": {
      "text/plain": [
       "array([[1., 1., 1., 1., 1., 1., 1.],\n",
       "       [1., 1., 1., 1., 1., 1., 1.],\n",
       "       [1., 1., 1., 1., 1., 1., 1.],\n",
       "       [1., 1., 1., 1., 1., 1., 1.],\n",
       "       [1., 1., 1., 1., 1., 1., 1.]])"
      ]
     },
     "execution_count": 22,
     "metadata": {},
     "output_type": "execute_result"
    }
   ],
   "source": [
    "unos = np.ones_like(ceros)\n",
    "unos"
   ]
  },
  {
   "cell_type": "markdown",
   "id": "20102d83-a250-4a36-8db6-4a0971156d73",
   "metadata": {},
   "source": [
    "Operadores aritméticos y relacionales"
   ]
  },
  {
   "cell_type": "code",
   "execution_count": 23,
   "id": "5db96002-14b7-46cd-94b2-57247cab200c",
   "metadata": {},
   "outputs": [
    {
     "data": {
      "text/plain": [
       "array([13, 19, 21, 24, 17, 16,  1, 16,  7, 13,  8, 18, 23, 19,  1])"
      ]
     },
     "execution_count": 23,
     "metadata": {},
     "output_type": "execute_result"
    }
   ],
   "source": [
    "arr1 = np.random.randint(1,25,15)\n",
    "arr1"
   ]
  },
  {
   "cell_type": "code",
   "execution_count": 24,
   "id": "7ce26ad7-ae3d-4f97-8e0e-eb2f1577771f",
   "metadata": {},
   "outputs": [
    {
     "data": {
      "text/plain": [
       "array([13, 10, 11, 15, 14, 15, 17,  1,  3, 20, 16,  6, 24,  2,  4])"
      ]
     },
     "execution_count": 24,
     "metadata": {},
     "output_type": "execute_result"
    }
   ],
   "source": [
    "arr2 = np.random.randint(1,25,15)\n",
    "arr2"
   ]
  },
  {
   "cell_type": "code",
   "execution_count": 25,
   "id": "6aa45b4f-cfc4-4630-9b4a-b63ed9617e90",
   "metadata": {},
   "outputs": [
    {
     "data": {
      "text/plain": [
       "array([26, 29, 32, 39, 31, 31, 18, 17, 10, 33, 24, 24, 47, 21,  5])"
      ]
     },
     "execution_count": 25,
     "metadata": {},
     "output_type": "execute_result"
    }
   ],
   "source": [
    "arr1 + arr2"
   ]
  },
  {
   "cell_type": "code",
   "execution_count": 26,
   "id": "a116b2ca-952c-4146-a00a-f9c9b31b38c0",
   "metadata": {},
   "outputs": [
    {
     "data": {
      "text/plain": [
       "array([ True,  True,  True,  True,  True,  True, False,  True, False,\n",
       "        True, False,  True,  True,  True, False])"
      ]
     },
     "execution_count": 26,
     "metadata": {},
     "output_type": "execute_result"
    }
   ],
   "source": [
    "arr1 > 10"
   ]
  },
  {
   "cell_type": "code",
   "execution_count": 28,
   "id": "2a5fd005-b612-4342-b17b-9ce51e095a71",
   "metadata": {},
   "outputs": [
    {
     "data": {
      "text/plain": [
       "11"
      ]
     },
     "execution_count": 28,
     "metadata": {},
     "output_type": "execute_result"
    }
   ],
   "source": [
    "(arr1 > 10).sum()"
   ]
  },
  {
   "cell_type": "markdown",
   "id": "7075978f-e6d7-4681-806e-00413eec69a4",
   "metadata": {},
   "source": [
    "Filtrar, slicing, modificar"
   ]
  },
  {
   "cell_type": "code",
   "execution_count": 29,
   "id": "03a9f9b7-2388-48e0-9d47-423e08c136f9",
   "metadata": {},
   "outputs": [
    {
     "data": {
      "text/plain": [
       "array([13, 19, 21, 24, 17, 16, 16, 13, 18, 23, 19])"
      ]
     },
     "execution_count": 29,
     "metadata": {},
     "output_type": "execute_result"
    }
   ],
   "source": [
    "arr1[arr1 > 10]"
   ]
  },
  {
   "cell_type": "code",
   "execution_count": 30,
   "id": "a3b612da-b4f4-403b-9909-f21debba8687",
   "metadata": {},
   "outputs": [
    {
     "data": {
      "text/plain": [
       "array([1, 7, 8, 1])"
      ]
     },
     "execution_count": 30,
     "metadata": {},
     "output_type": "execute_result"
    }
   ],
   "source": [
    "arr1[arr1 <= 10]"
   ]
  },
  {
   "cell_type": "code",
   "execution_count": 31,
   "id": "8e1841aa-eaf1-428e-808c-a8818cbc0073",
   "metadata": {},
   "outputs": [
    {
     "data": {
      "text/plain": [
       "array([13, 19, 24,  8])"
      ]
     },
     "execution_count": 31,
     "metadata": {},
     "output_type": "execute_result"
    }
   ],
   "source": [
    "arr1[[0,1,3,10]]"
   ]
  },
  {
   "cell_type": "code",
   "execution_count": 32,
   "id": "840e18d8-9145-43c5-87d1-e1fbe781909b",
   "metadata": {},
   "outputs": [
    {
     "data": {
      "text/plain": [
       "array([13, 19, 21, 24, 17, 16,  1, 16,  7, 13,  8, 18, 23, 19,  1])"
      ]
     },
     "execution_count": 32,
     "metadata": {},
     "output_type": "execute_result"
    }
   ],
   "source": [
    "arr1"
   ]
  },
  {
   "cell_type": "code",
   "execution_count": 33,
   "id": "6879ce9e-e57c-4023-9c0c-cf513fc49552",
   "metadata": {},
   "outputs": [
    {
     "data": {
      "text/plain": [
       "array([13, 19, 20, 20, 17, 16,  1, 16,  7, 13,  8, 18, 20, 19,  1])"
      ]
     },
     "execution_count": 33,
     "metadata": {},
     "output_type": "execute_result"
    }
   ],
   "source": [
    "arr1[arr1 > 20] = 20\n",
    "arr1"
   ]
  },
  {
   "cell_type": "code",
   "execution_count": 35,
   "id": "99917b03-1112-417e-801c-229644908ee9",
   "metadata": {},
   "outputs": [
    {
     "data": {
      "text/plain": [
       "array([13, 16, 16, 13])"
      ]
     },
     "execution_count": 35,
     "metadata": {},
     "output_type": "execute_result"
    }
   ],
   "source": [
    "arr1[(arr1 >= 10) & (arr1 <= 16)]"
   ]
  },
  {
   "cell_type": "code",
   "execution_count": 36,
   "id": "643befd8-60fc-4960-be1e-d8db936ac83f",
   "metadata": {},
   "outputs": [
    {
     "data": {
      "text/plain": [
       "array([[33, 41, 45,  4, 15],\n",
       "       [ 6, 20, 24,  5, 45],\n",
       "       [34,  5, 38, 47, 39],\n",
       "       [11, 42,  4, 35, 15],\n",
       "       [31, 18, 15, 41, 35]])"
      ]
     },
     "execution_count": 36,
     "metadata": {},
     "output_type": "execute_result"
    }
   ],
   "source": [
    "m = np.random.randint(1,50, (5,5))\n",
    "m"
   ]
  },
  {
   "cell_type": "code",
   "execution_count": 37,
   "id": "df399a8d-d05e-4a9d-9e6b-610c32e5e095",
   "metadata": {},
   "outputs": [
    {
     "data": {
      "text/plain": [
       "array([[20, 24,  5],\n",
       "       [ 5, 38, 47],\n",
       "       [42,  4, 35]])"
      ]
     },
     "execution_count": 37,
     "metadata": {},
     "output_type": "execute_result"
    }
   ],
   "source": [
    "# Quitar la primera y última fila y columna:\n",
    "m[1:-1, 1:-1]"
   ]
  },
  {
   "cell_type": "code",
   "execution_count": 39,
   "id": "4da4119b-b04d-4c9c-846a-79f37d5064d5",
   "metadata": {},
   "outputs": [
    {
     "data": {
      "text/plain": [
       "array([[31, 18, 15, 41, 35],\n",
       "       [33, 41, 45,  4, 15],\n",
       "       [11, 42,  4, 35, 15]])"
      ]
     },
     "execution_count": 39,
     "metadata": {},
     "output_type": "execute_result"
    }
   ],
   "source": [
    "m[[4,0,3]]"
   ]
  },
  {
   "cell_type": "code",
   "execution_count": 40,
   "id": "9130ccab-f5a2-45fe-9300-a1a95599a619",
   "metadata": {},
   "outputs": [
    {
     "data": {
      "text/plain": [
       "array([[33, 41, 45,  4, 15],\n",
       "       [11, 42,  4, 35, 15]])"
      ]
     },
     "execution_count": 40,
     "metadata": {},
     "output_type": "execute_result"
    }
   ],
   "source": [
    "ind = np.array([33,4,1,55,3])\n",
    "m[ind > 10]\n"
   ]
  },
  {
   "cell_type": "code",
   "execution_count": null,
   "id": "b78de6df-1bf6-4855-8f91-3747ea75237e",
   "metadata": {},
   "outputs": [],
   "source": []
  }
 ],
 "metadata": {
  "kernelspec": {
   "display_name": "Python 3 (ipykernel)",
   "language": "python",
   "name": "python3"
  },
  "language_info": {
   "codemirror_mode": {
    "name": "ipython",
    "version": 3
   },
   "file_extension": ".py",
   "mimetype": "text/x-python",
   "name": "python",
   "nbconvert_exporter": "python",
   "pygments_lexer": "ipython3",
   "version": "3.12.7"
  }
 },
 "nbformat": 4,
 "nbformat_minor": 5
}
