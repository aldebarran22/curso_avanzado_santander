{
 "cells": [
  {
   "cell_type": "markdown",
   "id": "bcbab370-e3b7-464e-a330-0c76f46ae95c",
   "metadata": {},
   "source": [
    "### Cambios de tipo en cols de un DataFrame. Estudio de la correlación de dos variables"
   ]
  },
  {
   "cell_type": "code",
   "execution_count": 1,
   "id": "99fe299b-3fba-4d76-a38d-36d944da6642",
   "metadata": {},
   "outputs": [],
   "source": [
    "import pandas as pd\n",
    "import numpy as np"
   ]
  },
  {
   "cell_type": "code",
   "execution_count": 2,
   "id": "acba6bbd-d488-4faa-bfdc-37baf748f07d",
   "metadata": {},
   "outputs": [
    {
     "data": {
      "text/html": [
       "<div>\n",
       "<style scoped>\n",
       "    .dataframe tbody tr th:only-of-type {\n",
       "        vertical-align: middle;\n",
       "    }\n",
       "\n",
       "    .dataframe tbody tr th {\n",
       "        vertical-align: top;\n",
       "    }\n",
       "\n",
       "    .dataframe thead th {\n",
       "        text-align: right;\n",
       "    }\n",
       "</style>\n",
       "<table border=\"1\" class=\"dataframe\">\n",
       "  <thead>\n",
       "    <tr style=\"text-align: right;\">\n",
       "      <th></th>\n",
       "      <th>Date</th>\n",
       "      <th>Time</th>\n",
       "      <th>Lat</th>\n",
       "      <th>Lon</th>\n",
       "      <th>Wind</th>\n",
       "      <th>Pressure</th>\n",
       "      <th>Storm Type</th>\n",
       "      <th>Category</th>\n",
       "    </tr>\n",
       "  </thead>\n",
       "  <tbody>\n",
       "    <tr>\n",
       "      <th>0</th>\n",
       "      <td>sep-16</td>\n",
       "      <td>15:00 GMT</td>\n",
       "      <td>12.2º</td>\n",
       "      <td>-50.5°</td>\n",
       "      <td>35 mph</td>\n",
       "      <td>1008 mb</td>\n",
       "      <td>Potential Tropical Cyclone</td>\n",
       "      <td>-</td>\n",
       "    </tr>\n",
       "    <tr>\n",
       "      <th>1</th>\n",
       "      <td>sep-16</td>\n",
       "      <td>18:00 GMT</td>\n",
       "      <td>11.9º</td>\n",
       "      <td>-51.6°</td>\n",
       "      <td>35 mph</td>\n",
       "      <td>1006 mb</td>\n",
       "      <td>Tropical Depression</td>\n",
       "      <td>-</td>\n",
       "    </tr>\n",
       "    <tr>\n",
       "      <th>2</th>\n",
       "      <td>sep-16</td>\n",
       "      <td>21:00 GMT</td>\n",
       "      <td>12.3º</td>\n",
       "      <td>-52.6°</td>\n",
       "      <td>50 mph</td>\n",
       "      <td>1002 mb</td>\n",
       "      <td>Tropical Storm</td>\n",
       "      <td>-</td>\n",
       "    </tr>\n",
       "    <tr>\n",
       "      <th>3</th>\n",
       "      <td>sep-17</td>\n",
       "      <td>00:00 GMT</td>\n",
       "      <td>12.4°</td>\n",
       "      <td>-53.0°</td>\n",
       "      <td>50 mph</td>\n",
       "      <td>1002 mb</td>\n",
       "      <td>Tropical Storm</td>\n",
       "      <td>-</td>\n",
       "    </tr>\n",
       "    <tr>\n",
       "      <th>4</th>\n",
       "      <td>sep-17</td>\n",
       "      <td>03:00 GMT</td>\n",
       "      <td>12.5°</td>\n",
       "      <td>-53.7°</td>\n",
       "      <td>50 mph</td>\n",
       "      <td>1002 mb</td>\n",
       "      <td>Tropical Storm</td>\n",
       "      <td>-</td>\n",
       "    </tr>\n",
       "  </tbody>\n",
       "</table>\n",
       "</div>"
      ],
      "text/plain": [
       "    Date       Time    Lat     Lon     Wind  Pressure   \\\n",
       "0  sep-16  15:00 GMT  12.2º  -50.5°  35 mph   1008 mb    \n",
       "1  sep-16  18:00 GMT  11.9º  -51.6°  35 mph   1006 mb    \n",
       "2  sep-16  21:00 GMT  12.3º  -52.6°  50 mph   1002 mb    \n",
       "3  sep-17  00:00 GMT  12.4°  -53.0°  50 mph   1002 mb    \n",
       "4  sep-17  03:00 GMT  12.5°  -53.7°  50 mph   1002 mb    \n",
       "\n",
       "                  Storm Type  Category   \n",
       "0  Potential Tropical Cyclone         -  \n",
       "1         Tropical Depression         -  \n",
       "2              Tropical Storm         -  \n",
       "3              Tropical Storm         -  \n",
       "4              Tropical Storm         -  "
      ]
     },
     "execution_count": 2,
     "metadata": {},
     "output_type": "execute_result"
    }
   ],
   "source": [
    "df = pd.read_csv(\"../ficheros_curso/csv/MARIA.csv\", sep=';')\n",
    "df.head()"
   ]
  },
  {
   "cell_type": "code",
   "execution_count": 3,
   "id": "1579de11-9312-400e-8374-86f6818cdbf4",
   "metadata": {},
   "outputs": [
    {
     "name": "stdout",
     "output_type": "stream",
     "text": [
      "<class 'pandas.core.frame.DataFrame'>\n",
      "RangeIndex: 120 entries, 0 to 119\n",
      "Data columns (total 8 columns):\n",
      " #   Column       Non-Null Count  Dtype \n",
      "---  ------       --------------  ----- \n",
      " 0   Date         120 non-null    object\n",
      " 1   Time         120 non-null    object\n",
      " 2   Lat          120 non-null    object\n",
      " 3   Lon          120 non-null    object\n",
      " 4   Wind         120 non-null    object\n",
      " 5   Pressure     120 non-null    object\n",
      " 6   Storm Type   120 non-null    object\n",
      " 7   Category     120 non-null    object\n",
      "dtypes: object(8)\n",
      "memory usage: 7.6+ KB\n"
     ]
    }
   ],
   "source": [
    "df.info()"
   ]
  },
  {
   "cell_type": "code",
   "execution_count": 5,
   "id": "650e59b7-1555-437b-abe8-6a64448e5810",
   "metadata": {},
   "outputs": [
    {
     "data": {
      "text/plain": [
       "Index(['Date', 'Time', 'Lat', 'Lon', 'Wind', 'Pressure', 'Storm Type',\n",
       "       'Category'],\n",
       "      dtype='object')"
      ]
     },
     "execution_count": 5,
     "metadata": {},
     "output_type": "execute_result"
    }
   ],
   "source": [
    "df.columns = [col.strip() for col in df.columns]\n",
    "df.columns"
   ]
  },
  {
   "cell_type": "code",
   "execution_count": null,
   "id": "42ed7416-cc76-46da-b5c9-4d738a486d58",
   "metadata": {},
   "outputs": [],
   "source": [
    "df['Lat'] = pd.to_numeric(df.Lat.str[:-1], downcast='float')\n",
    "df['Lon'] = pd.to_numeric(df.Lon.str[:-1], downcast='float')\n",
    "df.info()"
   ]
  }
 ],
 "metadata": {
  "kernelspec": {
   "display_name": "Python 3 (ipykernel)",
   "language": "python",
   "name": "python3"
  },
  "language_info": {
   "codemirror_mode": {
    "name": "ipython",
    "version": 3
   },
   "file_extension": ".py",
   "mimetype": "text/x-python",
   "name": "python",
   "nbconvert_exporter": "python",
   "pygments_lexer": "ipython3",
   "version": "3.12.7"
  }
 },
 "nbformat": 4,
 "nbformat_minor": 5
}
