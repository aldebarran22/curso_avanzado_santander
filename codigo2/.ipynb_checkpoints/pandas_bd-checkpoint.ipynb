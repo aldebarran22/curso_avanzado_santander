{
 "cells": [
  {
   "cell_type": "markdown",
   "id": "e03beea1-1332-4f3c-9e65-338c50d87c12",
   "metadata": {},
   "source": [
    "### Conectar pandas a la BD y crear columnas calculadas en el DataFrame"
   ]
  },
  {
   "cell_type": "code",
   "execution_count": 1,
   "id": "57592604-d867-44dc-a082-7ed52e869220",
   "metadata": {},
   "outputs": [],
   "source": [
    "from base_datos import BaseDatos\n",
    "import pandas as pd"
   ]
  },
  {
   "cell_type": "code",
   "execution_count": 6,
   "id": "d6c6ff72-f94b-40b2-9ed3-322f73640196",
   "metadata": {},
   "outputs": [
    {
     "name": "stdout",
     "output_type": "stream",
     "text": [
      "Cerrando conexión ...\n"
     ]
    }
   ],
   "source": [
    "# La conexión a la BD:\n",
    "bd = BaseDatos(\"../BBDD/empresa3.db\")"
   ]
  },
  {
   "cell_type": "code",
   "execution_count": 7,
   "id": "3ef91ff4-a8a3-44ad-866c-860788c8c573",
   "metadata": {},
   "outputs": [
    {
     "data": {
      "text/plain": [
       "<sqlite3.Connection at 0x1f91c38e020>"
      ]
     },
     "execution_count": 7,
     "metadata": {},
     "output_type": "execute_result"
    }
   ],
   "source": [
    "bd.con"
   ]
  },
  {
   "cell_type": "code",
   "execution_count": 8,
   "id": "811cbe99-d063-4093-b38c-2a1e8282f0ea",
   "metadata": {},
   "outputs": [],
   "source": [
    "sql = \"\"\"select p.idpedido, p.idcliente, e.nombre as empresa, emp.nombre as empleado, p.pais,\n",
    "p.importe from pedidos \n",
    "p inner join empresasenvios e on p.idempresaenvio = e.id\n",
    "inner join empleados emp on p.idempleado = emp.id\"\"\""
   ]
  },
  {
   "cell_type": "code",
   "execution_count": 9,
   "id": "0a179117-1eab-4992-9d0e-283b8a466984",
   "metadata": {},
   "outputs": [
    {
     "data": {
      "text/html": [
       "<div>\n",
       "<style scoped>\n",
       "    .dataframe tbody tr th:only-of-type {\n",
       "        vertical-align: middle;\n",
       "    }\n",
       "\n",
       "    .dataframe tbody tr th {\n",
       "        vertical-align: top;\n",
       "    }\n",
       "\n",
       "    .dataframe thead th {\n",
       "        text-align: right;\n",
       "    }\n",
       "</style>\n",
       "<table border=\"1\" class=\"dataframe\">\n",
       "  <thead>\n",
       "    <tr style=\"text-align: right;\">\n",
       "      <th></th>\n",
       "      <th>idpedido</th>\n",
       "      <th>idcliente</th>\n",
       "      <th>empresa</th>\n",
       "      <th>empleado</th>\n",
       "      <th>pais</th>\n",
       "      <th>importe</th>\n",
       "    </tr>\n",
       "  </thead>\n",
       "  <tbody>\n",
       "    <tr>\n",
       "      <th>0</th>\n",
       "      <td>9999</td>\n",
       "      <td>A1234</td>\n",
       "      <td>Speedy Express</td>\n",
       "      <td>Davolio</td>\n",
       "      <td>Estados Unidos</td>\n",
       "      <td>99.00</td>\n",
       "    </tr>\n",
       "    <tr>\n",
       "      <th>1</th>\n",
       "      <td>10248</td>\n",
       "      <td>WILMK</td>\n",
       "      <td>Federal Shipping</td>\n",
       "      <td>Buchanan</td>\n",
       "      <td>Finlandia</td>\n",
       "      <td>32.38</td>\n",
       "    </tr>\n",
       "    <tr>\n",
       "      <th>2</th>\n",
       "      <td>10249</td>\n",
       "      <td>TOMSP</td>\n",
       "      <td>Speedy Express</td>\n",
       "      <td>Suyama</td>\n",
       "      <td>Alemania</td>\n",
       "      <td>11.61</td>\n",
       "    </tr>\n",
       "    <tr>\n",
       "      <th>3</th>\n",
       "      <td>10250</td>\n",
       "      <td>HANAR</td>\n",
       "      <td>United Package</td>\n",
       "      <td>Peacock</td>\n",
       "      <td>Brasil</td>\n",
       "      <td>65.83</td>\n",
       "    </tr>\n",
       "    <tr>\n",
       "      <th>4</th>\n",
       "      <td>10251</td>\n",
       "      <td>VICTE</td>\n",
       "      <td>Speedy Express</td>\n",
       "      <td>Leverling</td>\n",
       "      <td>Francia</td>\n",
       "      <td>41.34</td>\n",
       "    </tr>\n",
       "  </tbody>\n",
       "</table>\n",
       "</div>"
      ],
      "text/plain": [
       "   idpedido idcliente           empresa   empleado            pais  importe\n",
       "0      9999     A1234    Speedy Express    Davolio  Estados Unidos    99.00\n",
       "1     10248     WILMK  Federal Shipping   Buchanan       Finlandia    32.38\n",
       "2     10249     TOMSP    Speedy Express     Suyama        Alemania    11.61\n",
       "3     10250     HANAR    United Package    Peacock          Brasil    65.83\n",
       "4     10251     VICTE    Speedy Express  Leverling         Francia    41.34"
      ]
     },
     "execution_count": 9,
     "metadata": {},
     "output_type": "execute_result"
    }
   ],
   "source": [
    "df = pd.read_sql(sql, bd.con)\n",
    "df.head()"
   ]
  },
  {
   "cell_type": "code",
   "execution_count": null,
   "id": "33c4a893-e167-47f6-94ea-88fc47a3dc5c",
   "metadata": {},
   "outputs": [],
   "source": []
  }
 ],
 "metadata": {
  "kernelspec": {
   "display_name": "Python 3 (ipykernel)",
   "language": "python",
   "name": "python3"
  },
  "language_info": {
   "codemirror_mode": {
    "name": "ipython",
    "version": 3
   },
   "file_extension": ".py",
   "mimetype": "text/x-python",
   "name": "python",
   "nbconvert_exporter": "python",
   "pygments_lexer": "ipython3",
   "version": "3.12.7"
  }
 },
 "nbformat": 4,
 "nbformat_minor": 5
}
