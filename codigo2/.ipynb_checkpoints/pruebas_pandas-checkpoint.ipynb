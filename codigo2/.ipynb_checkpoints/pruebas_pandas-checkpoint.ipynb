{
 "cells": [
  {
   "cell_type": "markdown",
   "id": "a3fd5048-c4cc-4800-8f3f-565be537b5a1",
   "metadata": {},
   "source": [
    "### Pruebas con pandas: Series y DataFrame"
   ]
  },
  {
   "cell_type": "code",
   "execution_count": 3,
   "id": "99a5fc35-afa0-40ec-a4e0-1ab5ddc8cf01",
   "metadata": {},
   "outputs": [],
   "source": [
    "import pandas as pd\n",
    "import numpy as np\n",
    "from pandas import Series, DataFrame"
   ]
  },
  {
   "cell_type": "code",
   "execution_count": 2,
   "id": "cc2bb4e7-85af-4141-92a2-23cf04471157",
   "metadata": {},
   "outputs": [
    {
     "data": {
      "text/plain": [
       "0     1\n",
       "1     4\n",
       "2     5\n",
       "3     2\n",
       "4    10\n",
       "dtype: int64"
      ]
     },
     "execution_count": 2,
     "metadata": {},
     "output_type": "execute_result"
    }
   ],
   "source": [
    "s1 = Series([1,4,5,2,10])\n",
    "s1"
   ]
  },
  {
   "cell_type": "code",
   "execution_count": 5,
   "id": "3dbda115-e1b3-4479-8e04-939040461fdd",
   "metadata": {},
   "outputs": [
    {
     "data": {
      "text/plain": [
       "a    38\n",
       "b    16\n",
       "c    33\n",
       "d    33\n",
       "e    18\n",
       "dtype: int32"
      ]
     },
     "execution_count": 5,
     "metadata": {},
     "output_type": "execute_result"
    }
   ],
   "source": [
    "s2 = Series(np.random.randint(1,50, 5), index=list('abcde'))\n",
    "s2"
   ]
  },
  {
   "cell_type": "code",
   "execution_count": 7,
   "id": "98008712-d6c4-4fef-b993-c673c7d35434",
   "metadata": {},
   "outputs": [
    {
     "name": "stdout",
     "output_type": "stream",
     "text": [
      "38\n",
      "38\n"
     ]
    }
   ],
   "source": [
    "print(s2.iloc[0])\n",
    "print(s2['a'])"
   ]
  },
  {
   "cell_type": "code",
   "execution_count": 8,
   "id": "10abe0a1-4db0-475b-92c0-9623ec2d2f80",
   "metadata": {},
   "outputs": [
    {
     "data": {
      "text/plain": [
       "3"
      ]
     },
     "execution_count": 8,
     "metadata": {},
     "output_type": "execute_result"
    }
   ],
   "source": [
    "(s2 > 30).sum()"
   ]
  },
  {
   "cell_type": "code",
   "execution_count": 9,
   "id": "d4d54d66-4809-474e-86e9-abef9bb6cb33",
   "metadata": {},
   "outputs": [
    {
     "data": {
      "text/plain": [
       "a     True\n",
       "b    False\n",
       "c     True\n",
       "d     True\n",
       "e    False\n",
       "dtype: bool"
      ]
     },
     "execution_count": 9,
     "metadata": {},
     "output_type": "execute_result"
    }
   ],
   "source": [
    "s2 > 30"
   ]
  },
  {
   "cell_type": "code",
   "execution_count": 10,
   "id": "73eb4d0f-800e-4d3f-b209-e00328ebcdd5",
   "metadata": {},
   "outputs": [
    {
     "data": {
      "text/plain": [
       "a     8\n",
       "e    21\n",
       "i    32\n",
       "o    29\n",
       "u    24\n",
       "dtype: int32"
      ]
     },
     "execution_count": 10,
     "metadata": {},
     "output_type": "execute_result"
    }
   ],
   "source": [
    "s3 = Series(np.random.randint(1,40,5), index=list(\"aeiou\"))\n",
    "s3"
   ]
  },
  {
   "cell_type": "code",
   "execution_count": 11,
   "id": "20a36592-3fe1-4f10-944d-482999aca366",
   "metadata": {},
   "outputs": [
    {
     "data": {
      "text/plain": [
       "a    38\n",
       "b    16\n",
       "c    33\n",
       "d    33\n",
       "e    18\n",
       "dtype: int32"
      ]
     },
     "execution_count": 11,
     "metadata": {},
     "output_type": "execute_result"
    }
   ],
   "source": [
    "s2"
   ]
  },
  {
   "cell_type": "code",
   "execution_count": null,
   "id": "e7c542d2-5f4d-47fe-8bc6-9ec3a13f4c0f",
   "metadata": {},
   "outputs": [],
   "source": []
  }
 ],
 "metadata": {
  "kernelspec": {
   "display_name": "Python 3 (ipykernel)",
   "language": "python",
   "name": "python3"
  },
  "language_info": {
   "codemirror_mode": {
    "name": "ipython",
    "version": 3
   },
   "file_extension": ".py",
   "mimetype": "text/x-python",
   "name": "python",
   "nbconvert_exporter": "python",
   "pygments_lexer": "ipython3",
   "version": "3.12.7"
  }
 },
 "nbformat": 4,
 "nbformat_minor": 5
}
