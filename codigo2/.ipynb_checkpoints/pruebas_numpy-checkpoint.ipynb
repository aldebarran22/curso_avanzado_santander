{
 "cells": [
  {
   "cell_type": "code",
   "execution_count": 1,
   "id": "c8933b0e-5b14-4c7d-8c34-1fc0ade05c22",
   "metadata": {},
   "outputs": [],
   "source": [
    "import numpy as np"
   ]
  },
  {
   "cell_type": "code",
   "execution_count": 2,
   "id": "a8945d80-bcee-4be9-81cc-4b24119878df",
   "metadata": {},
   "outputs": [
    {
     "data": {
      "text/plain": [
       "'1.26.4'"
      ]
     },
     "execution_count": 2,
     "metadata": {},
     "output_type": "execute_result"
    }
   ],
   "source": [
    "np.__version__"
   ]
  },
  {
   "cell_type": "code",
   "execution_count": 3,
   "id": "a3a8e882-fd07-4b5e-a633-afb6b5805681",
   "metadata": {},
   "outputs": [
    {
     "name": "stdout",
     "output_type": "stream",
     "text": [
      "681 ms ± 26.7 ms per loop (mean ± std. dev. of 7 runs, 1 loop each)\n"
     ]
    }
   ],
   "source": [
    "%%timeit\n",
    "L = list(range(1000000))\n",
    "for _ in range(10): L2 = [x * 2 for x in L]"
   ]
  },
  {
   "cell_type": "code",
   "execution_count": 5,
   "id": "52c3c551-d6eb-4f94-9b22-4caab3d975d3",
   "metadata": {},
   "outputs": [
    {
     "name": "stdout",
     "output_type": "stream",
     "text": [
      "16 ms ± 210 μs per loop (mean ± std. dev. of 7 runs, 100 loops each)\n"
     ]
    }
   ],
   "source": [
    "%%timeit\n",
    "arr = np.arange(1000000)\n",
    "for _ in range(10): arr2 = arr * 2"
   ]
  },
  {
   "cell_type": "code",
   "execution_count": 6,
   "id": "7de4a611-c39f-45c4-86b9-a3a51a841c02",
   "metadata": {},
   "outputs": [
    {
     "name": "stdout",
     "output_type": "stream",
     "text": [
      "[1.  5.  3.  2.  7.7]\n",
      "float64\n"
     ]
    }
   ],
   "source": [
    "arr1 = np.array([1, 5, 3, 2, 7.7])\n",
    "print(arr1)\n",
    "print(arr1.dtype)\n"
   ]
  },
  {
   "cell_type": "code",
   "execution_count": 10,
   "id": "4fb4efe4-17d3-4b4e-988d-a4ea5d0bfd21",
   "metadata": {},
   "outputs": [
    {
     "name": "stdout",
     "output_type": "stream",
     "text": [
      "[1 5 3 2 7]\n",
      "uint8\n"
     ]
    }
   ],
   "source": [
    "#arr1 = np.array([\"1\", \"5\", \"3\", \"2\", \"7\"], dtype=\"u1\")\n",
    "arr1 = np.array([\"1\", \"5\", \"3\", \"2\", \"7\"], dtype=np.uint8)\n",
    "print(arr1)\n",
    "print(arr1.dtype)"
   ]
  },
  {
   "cell_type": "code",
   "execution_count": 11,
   "id": "31eeaeab-69bd-4d73-90fd-02a657567f4a",
   "metadata": {},
   "outputs": [
    {
     "data": {
      "text/plain": [
       "(5,)"
      ]
     },
     "execution_count": 11,
     "metadata": {},
     "output_type": "execute_result"
    }
   ],
   "source": [
    "arr1.shape"
   ]
  },
  {
   "cell_type": "code",
   "execution_count": 14,
   "id": "8d36836e-e01a-458e-b904-caa117d2049d",
   "metadata": {},
   "outputs": [
    {
     "data": {
      "text/plain": [
       "array([[[ 0,  1,  2,  3,  4],\n",
       "        [ 5,  6,  7,  8,  9],\n",
       "        [10, 11, 12, 13, 14],\n",
       "        [15, 16, 17, 18, 19],\n",
       "        [20, 21, 22, 23, 24]],\n",
       "\n",
       "       [[25, 26, 27, 28, 29],\n",
       "        [30, 31, 32, 33, 34],\n",
       "        [35, 36, 37, 38, 39],\n",
       "        [40, 41, 42, 43, 44],\n",
       "        [45, 46, 47, 48, 49]]])"
      ]
     },
     "execution_count": 14,
     "metadata": {},
     "output_type": "execute_result"
    }
   ],
   "source": [
    "arr2 = np.arange(50).reshape(2,5,5)\n",
    "arr2"
   ]
  },
  {
   "cell_type": "code",
   "execution_count": null,
   "id": "7a932586-d410-4d64-a6b1-cfa22286b2a6",
   "metadata": {},
   "outputs": [],
   "source": []
  }
 ],
 "metadata": {
  "kernelspec": {
   "display_name": "Python 3 (ipykernel)",
   "language": "python",
   "name": "python3"
  },
  "language_info": {
   "codemirror_mode": {
    "name": "ipython",
    "version": 3
   },
   "file_extension": ".py",
   "mimetype": "text/x-python",
   "name": "python",
   "nbconvert_exporter": "python",
   "pygments_lexer": "ipython3",
   "version": "3.12.7"
  }
 },
 "nbformat": 4,
 "nbformat_minor": 5
}
