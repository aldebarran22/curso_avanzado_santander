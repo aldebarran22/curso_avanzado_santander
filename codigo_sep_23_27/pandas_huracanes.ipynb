{
 "cells": [
  {
   "cell_type": "markdown",
   "id": "11f2f00f",
   "metadata": {},
   "source": [
    "### Pandas Huracanes"
   ]
  },
  {
   "cell_type": "markdown",
   "id": "3e14bd5b",
   "metadata": {},
   "source": [
    "Limpieza y conversión de tipos de datos con pandas"
   ]
  },
  {
   "cell_type": "code",
   "execution_count": 1,
   "id": "c0415f0b",
   "metadata": {},
   "outputs": [],
   "source": [
    "import pandas as pd\n",
    "import numpy as np"
   ]
  },
  {
   "cell_type": "code",
   "execution_count": 2,
   "id": "fb1c3c8e",
   "metadata": {},
   "outputs": [
    {
     "data": {
      "text/html": [
       "<div>\n",
       "<style scoped>\n",
       "    .dataframe tbody tr th:only-of-type {\n",
       "        vertical-align: middle;\n",
       "    }\n",
       "\n",
       "    .dataframe tbody tr th {\n",
       "        vertical-align: top;\n",
       "    }\n",
       "\n",
       "    .dataframe thead th {\n",
       "        text-align: right;\n",
       "    }\n",
       "</style>\n",
       "<table border=\"1\" class=\"dataframe\">\n",
       "  <thead>\n",
       "    <tr style=\"text-align: right;\">\n",
       "      <th></th>\n",
       "      <th>Date</th>\n",
       "      <th>Time</th>\n",
       "      <th>Lat</th>\n",
       "      <th>Lon</th>\n",
       "      <th>Wind</th>\n",
       "      <th>Pressure</th>\n",
       "      <th>Storm Type</th>\n",
       "      <th>Category</th>\n",
       "    </tr>\n",
       "  </thead>\n",
       "  <tbody>\n",
       "    <tr>\n",
       "      <th>0</th>\n",
       "      <td>Aug 30</td>\n",
       "      <td>15:00 GMT</td>\n",
       "      <td>16.4°</td>\n",
       "      <td>-30.3°</td>\n",
       "      <td>50 mph</td>\n",
       "      <td>1004 mb</td>\n",
       "      <td>Tropical Storm</td>\n",
       "      <td>-</td>\n",
       "    </tr>\n",
       "    <tr>\n",
       "      <th>1</th>\n",
       "      <td>Aug 30</td>\n",
       "      <td>21:00 GMT</td>\n",
       "      <td>16.4°</td>\n",
       "      <td>-31.2°</td>\n",
       "      <td>60 mph</td>\n",
       "      <td>1001 mb</td>\n",
       "      <td>Tropical Storm</td>\n",
       "      <td>-</td>\n",
       "    </tr>\n",
       "    <tr>\n",
       "      <th>2</th>\n",
       "      <td>Aug 31</td>\n",
       "      <td>03:00 GMT</td>\n",
       "      <td>16.4°</td>\n",
       "      <td>-32.2°</td>\n",
       "      <td>65 mph</td>\n",
       "      <td>999 mb</td>\n",
       "      <td>Tropical Storm</td>\n",
       "      <td>-</td>\n",
       "    </tr>\n",
       "    <tr>\n",
       "      <th>3</th>\n",
       "      <td>Aug 31</td>\n",
       "      <td>09:00 GMT</td>\n",
       "      <td>16.5°</td>\n",
       "      <td>-32.9°</td>\n",
       "      <td>70 mph</td>\n",
       "      <td>997 mb</td>\n",
       "      <td>Tropical Storm</td>\n",
       "      <td>-</td>\n",
       "    </tr>\n",
       "    <tr>\n",
       "      <th>4</th>\n",
       "      <td>Aug 31</td>\n",
       "      <td>15:00 GMT</td>\n",
       "      <td>16.9°</td>\n",
       "      <td>-33.8°</td>\n",
       "      <td>100 mph</td>\n",
       "      <td>979 mb</td>\n",
       "      <td>Hurricane</td>\n",
       "      <td>2</td>\n",
       "    </tr>\n",
       "  </tbody>\n",
       "</table>\n",
       "</div>"
      ],
      "text/plain": [
       "    Date       Time    Lat     Lon      Wind  Pressure      Storm Type   \\\n",
       "0  Aug 30  15:00 GMT  16.4°  -30.3°   50 mph   1004 mb   Tropical Storm   \n",
       "1  Aug 30  21:00 GMT  16.4°  -31.2°   60 mph   1001 mb   Tropical Storm   \n",
       "2  Aug 31  03:00 GMT  16.4°  -32.2°   65 mph    999 mb   Tropical Storm   \n",
       "3  Aug 31  09:00 GMT  16.5°  -32.9°   70 mph    997 mb   Tropical Storm   \n",
       "4  Aug 31  15:00 GMT  16.9°  -33.8°  100 mph    979 mb        Hurricane   \n",
       "\n",
       "  Category   \n",
       "0         -  \n",
       "1         -  \n",
       "2         -  \n",
       "3         -  \n",
       "4         2  "
      ]
     },
     "execution_count": 2,
     "metadata": {},
     "output_type": "execute_result"
    }
   ],
   "source": [
    "df = pd.read_csv(\"../ficheros_curso/csv/IRMA.csv\", sep=\";\")\n",
    "df.head()"
   ]
  },
  {
   "cell_type": "code",
   "execution_count": 3,
   "id": "4de96324",
   "metadata": {},
   "outputs": [
    {
     "name": "stdout",
     "output_type": "stream",
     "text": [
      "<class 'pandas.core.frame.DataFrame'>\n",
      "RangeIndex: 130 entries, 0 to 129\n",
      "Data columns (total 8 columns):\n",
      " #   Column       Non-Null Count  Dtype \n",
      "---  ------       --------------  ----- \n",
      " 0   Date         130 non-null    object\n",
      " 1   Time         130 non-null    object\n",
      " 2   Lat          130 non-null    object\n",
      " 3   Lon          130 non-null    object\n",
      " 4   Wind         130 non-null    object\n",
      " 5   Pressure     130 non-null    object\n",
      " 6   Storm Type   130 non-null    object\n",
      " 7   Category     130 non-null    object\n",
      "dtypes: object(8)\n",
      "memory usage: 8.2+ KB\n"
     ]
    }
   ],
   "source": [
    "df.info()"
   ]
  },
  {
   "cell_type": "code",
   "execution_count": 6,
   "id": "de471f60",
   "metadata": {},
   "outputs": [
    {
     "data": {
      "text/plain": [
       "Index(['Date', 'Time', 'Lat', 'Lon', 'Wind', 'Pressure', 'Storm Type',\n",
       "       'Category'],\n",
       "      dtype='object')"
      ]
     },
     "execution_count": 6,
     "metadata": {},
     "output_type": "execute_result"
    }
   ],
   "source": [
    "df.columns = [col.strip() for col in df.columns]\n",
    "df.columns"
   ]
  },
  {
   "cell_type": "code",
   "execution_count": 7,
   "id": "ddf35554",
   "metadata": {},
   "outputs": [
    {
     "data": {
      "text/plain": [
       "0      Aug 30\n",
       "1      Aug 30\n",
       "2      Aug 31\n",
       "3      Aug 31\n",
       "4      Aug 31\n",
       "        ...  \n",
       "125    Sep 12\n",
       "126    Sep 12\n",
       "127    Sep 12\n",
       "128    Sep 12\n",
       "129    Sep 12\n",
       "Name: Date, Length: 130, dtype: object"
      ]
     },
     "execution_count": 7,
     "metadata": {},
     "output_type": "execute_result"
    }
   ],
   "source": [
    "df.Date"
   ]
  },
  {
   "cell_type": "code",
   "execution_count": null,
   "id": "b7ebb2d9",
   "metadata": {},
   "outputs": [],
   "source": []
  }
 ],
 "metadata": {
  "kernelspec": {
   "display_name": "Python 3 (ipykernel)",
   "language": "python",
   "name": "python3"
  },
  "language_info": {
   "codemirror_mode": {
    "name": "ipython",
    "version": 3
   },
   "file_extension": ".py",
   "mimetype": "text/x-python",
   "name": "python",
   "nbconvert_exporter": "python",
   "pygments_lexer": "ipython3",
   "version": "3.8.5"
  }
 },
 "nbformat": 4,
 "nbformat_minor": 5
}
