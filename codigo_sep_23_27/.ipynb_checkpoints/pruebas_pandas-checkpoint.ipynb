{
 "cells": [
  {
   "cell_type": "markdown",
   "id": "27b440d1",
   "metadata": {},
   "source": [
    "### Pruebas con la librería pandas"
   ]
  },
  {
   "cell_type": "markdown",
   "id": "c4d11b76",
   "metadata": {},
   "source": [
    "#### Objeto Series"
   ]
  },
  {
   "cell_type": "code",
   "execution_count": 1,
   "id": "54617f8c",
   "metadata": {},
   "outputs": [],
   "source": [
    "import pandas as pd\n",
    "import numpy as np\n",
    "from pandas import DataFrame, Series"
   ]
  },
  {
   "cell_type": "code",
   "execution_count": 2,
   "id": "16c747a6",
   "metadata": {},
   "outputs": [],
   "source": [
    "s1 = Series([1,5,6,4,1])\n",
    "s2 = Series([10,20,40,55,4], index=list('adios'))"
   ]
  },
  {
   "cell_type": "code",
   "execution_count": 3,
   "id": "98251ff3",
   "metadata": {},
   "outputs": [
    {
     "data": {
      "text/plain": [
       "0    1\n",
       "1    5\n",
       "2    6\n",
       "3    4\n",
       "4    1\n",
       "dtype: int64"
      ]
     },
     "execution_count": 3,
     "metadata": {},
     "output_type": "execute_result"
    }
   ],
   "source": [
    "s1"
   ]
  },
  {
   "cell_type": "code",
   "execution_count": 4,
   "id": "1669718c",
   "metadata": {},
   "outputs": [
    {
     "data": {
      "text/plain": [
       "a    10\n",
       "d    20\n",
       "i    40\n",
       "o    55\n",
       "s     4\n",
       "dtype: int64"
      ]
     },
     "execution_count": 4,
     "metadata": {},
     "output_type": "execute_result"
    }
   ],
   "source": [
    "s2"
   ]
  },
  {
   "cell_type": "code",
   "execution_count": 5,
   "id": "3b744076",
   "metadata": {},
   "outputs": [
    {
     "name": "stdout",
     "output_type": "stream",
     "text": [
      "10\n",
      "10\n"
     ]
    }
   ],
   "source": [
    "print(s2['a'])\n",
    "print(s2[0])"
   ]
  },
  {
   "cell_type": "code",
   "execution_count": 6,
   "id": "ed9bd832",
   "metadata": {},
   "outputs": [
    {
     "data": {
      "text/plain": [
       "a    False\n",
       "d    False\n",
       "i     True\n",
       "o     True\n",
       "s    False\n",
       "dtype: bool"
      ]
     },
     "execution_count": 6,
     "metadata": {},
     "output_type": "execute_result"
    }
   ],
   "source": [
    "s2 > 30"
   ]
  },
  {
   "cell_type": "code",
   "execution_count": 7,
   "id": "e2ddf3e5",
   "metadata": {},
   "outputs": [
    {
     "data": {
      "text/plain": [
       "i    40\n",
       "o    55\n",
       "dtype: int64"
      ]
     },
     "execution_count": 7,
     "metadata": {},
     "output_type": "execute_result"
    }
   ],
   "source": [
    "s2[s2 > 30]"
   ]
  },
  {
   "cell_type": "code",
   "execution_count": null,
   "id": "15dff65f",
   "metadata": {},
   "outputs": [],
   "source": []
  }
 ],
 "metadata": {
  "kernelspec": {
   "display_name": "Python 3 (ipykernel)",
   "language": "python",
   "name": "python3"
  },
  "language_info": {
   "codemirror_mode": {
    "name": "ipython",
    "version": 3
   },
   "file_extension": ".py",
   "mimetype": "text/x-python",
   "name": "python",
   "nbconvert_exporter": "python",
   "pygments_lexer": "ipython3",
   "version": "3.8.5"
  }
 },
 "nbformat": 4,
 "nbformat_minor": 5
}
