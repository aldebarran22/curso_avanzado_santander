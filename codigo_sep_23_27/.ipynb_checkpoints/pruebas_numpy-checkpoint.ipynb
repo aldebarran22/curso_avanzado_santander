{
 "cells": [
  {
   "cell_type": "markdown",
   "id": "9072558e",
   "metadata": {},
   "source": [
    "## Pruebas con la librería numpy"
   ]
  },
  {
   "cell_type": "code",
   "execution_count": 1,
   "id": "d315f22a",
   "metadata": {},
   "outputs": [],
   "source": [
    "import numpy as np"
   ]
  },
  {
   "cell_type": "code",
   "execution_count": 2,
   "id": "e2fc9569",
   "metadata": {},
   "outputs": [
    {
     "name": "stdout",
     "output_type": "stream",
     "text": [
      "17.4 ms ± 1.25 ms per loop (mean ± std. dev. of 7 runs, 100 loops each)\n"
     ]
    }
   ],
   "source": [
    "%%timeit\n",
    "arr = np.arange(1000000)\n",
    "for _ in range(10): arr = arr * 2"
   ]
  },
  {
   "cell_type": "code",
   "execution_count": 3,
   "id": "9ebb19b3",
   "metadata": {},
   "outputs": [
    {
     "name": "stdout",
     "output_type": "stream",
     "text": [
      "773 ms ± 29.9 ms per loop (mean ± std. dev. of 7 runs, 1 loop each)\n"
     ]
    }
   ],
   "source": [
    "%%timeit\n",
    "L = list(range(1000000))\n",
    "for _ in range(10): L = [x*2 for x in L]"
   ]
  },
  {
   "cell_type": "code",
   "execution_count": 4,
   "id": "5838b7f2",
   "metadata": {},
   "outputs": [
    {
     "name": "stdout",
     "output_type": "stream",
     "text": [
      "[1.  2.  3.  4.  8.5]\n",
      "float64\n"
     ]
    }
   ],
   "source": [
    "arr1 = np.array([1,2,3,4,8.5])\n",
    "print(arr1)\n",
    "print(arr1.dtype)"
   ]
  },
  {
   "cell_type": "code",
   "execution_count": 5,
   "id": "a9c9da78",
   "metadata": {},
   "outputs": [
    {
     "data": {
      "text/plain": [
       "(5,)"
      ]
     },
     "execution_count": 5,
     "metadata": {},
     "output_type": "execute_result"
    }
   ],
   "source": [
    "arr1.shape"
   ]
  },
  {
   "cell_type": "code",
   "execution_count": 6,
   "id": "82fd21c0",
   "metadata": {},
   "outputs": [
    {
     "data": {
      "text/plain": [
       "array([[ 0,  1,  2,  3],\n",
       "       [ 4,  5,  6,  7],\n",
       "       [ 8,  9, 10, 11],\n",
       "       [12, 13, 14, 15],\n",
       "       [16, 17, 18, 19],\n",
       "       [20, 21, 22, 23]])"
      ]
     },
     "execution_count": 6,
     "metadata": {},
     "output_type": "execute_result"
    }
   ],
   "source": [
    "m = np.array(range(24)).reshape(6,-1)\n",
    "m"
   ]
  },
  {
   "cell_type": "code",
   "execution_count": 9,
   "id": "9da6d8d5",
   "metadata": {},
   "outputs": [
    {
     "name": "stdout",
     "output_type": "stream",
     "text": [
      "[1 2 3 4 5 6]\n",
      "[ 1 -2 30  4 15  6]\n"
     ]
    }
   ],
   "source": [
    "arr2 = np.array((1,2,3,4,5,6), dtype=np.uint8)\n",
    "arr3 = np.array((1,-2,30,4,15,6), dtype=\"i1\")\n",
    "print(arr2)\n",
    "print(arr3)\n"
   ]
  },
  {
   "cell_type": "code",
   "execution_count": 12,
   "id": "76bf4104",
   "metadata": {},
   "outputs": [
    {
     "data": {
      "text/plain": [
       "array([1, 3, 5, 8], dtype=int8)"
      ]
     },
     "execution_count": 12,
     "metadata": {},
     "output_type": "execute_result"
    }
   ],
   "source": [
    "arr4 = np.array([\"1\",\"3\",\"5\",\"8\"], dtype=np.int8)\n",
    "arr4"
   ]
  },
  {
   "cell_type": "code",
   "execution_count": 13,
   "id": "22ffe4b0",
   "metadata": {},
   "outputs": [
    {
     "data": {
      "text/plain": [
       "array([1., 3., 5., 8.], dtype=float32)"
      ]
     },
     "execution_count": 13,
     "metadata": {},
     "output_type": "execute_result"
    }
   ],
   "source": [
    "arr5 = arr4.astype(np.float32)\n",
    "arr5"
   ]
  },
  {
   "cell_type": "code",
   "execution_count": 14,
   "id": "d8957900",
   "metadata": {},
   "outputs": [
    {
     "data": {
      "text/plain": [
       "array([1. +0.j, 2. +0.j, 3. +0.j, 6.5+0.j, 6. +8.j])"
      ]
     },
     "execution_count": 14,
     "metadata": {},
     "output_type": "execute_result"
    }
   ],
   "source": [
    "arr6 = np.array([1,2,3,6.5, 6+8j])\n",
    "arr6"
   ]
  },
  {
   "cell_type": "code",
   "execution_count": 15,
   "id": "24c93c93",
   "metadata": {},
   "outputs": [
    {
     "name": "stdout",
     "output_type": "stream",
     "text": [
      "[1 2 3 4 5 6]\n",
      "[ 1 -2 30  4 15  6]\n"
     ]
    }
   ],
   "source": [
    "print(arr2)\n",
    "print(arr3)"
   ]
  },
  {
   "cell_type": "code",
   "execution_count": 16,
   "id": "13371eb5",
   "metadata": {},
   "outputs": [
    {
     "data": {
      "text/plain": [
       "array([ 2,  0, 33,  8, 20, 12], dtype=int16)"
      ]
     },
     "execution_count": 16,
     "metadata": {},
     "output_type": "execute_result"
    }
   ],
   "source": [
    "r = arr2 + arr3\n",
    "r"
   ]
  },
  {
   "cell_type": "code",
   "execution_count": 17,
   "id": "6790b37e",
   "metadata": {},
   "outputs": [
    {
     "data": {
      "text/plain": [
       "array([[[0., 0., 0., 0., 0.],\n",
       "        [0., 0., 0., 0., 0.],\n",
       "        [0., 0., 0., 0., 0.],\n",
       "        [0., 0., 0., 0., 0.]],\n",
       "\n",
       "       [[0., 0., 0., 0., 0.],\n",
       "        [0., 0., 0., 0., 0.],\n",
       "        [0., 0., 0., 0., 0.],\n",
       "        [0., 0., 0., 0., 0.]],\n",
       "\n",
       "       [[0., 0., 0., 0., 0.],\n",
       "        [0., 0., 0., 0., 0.],\n",
       "        [0., 0., 0., 0., 0.],\n",
       "        [0., 0., 0., 0., 0.]]])"
      ]
     },
     "execution_count": 17,
     "metadata": {},
     "output_type": "execute_result"
    }
   ],
   "source": [
    "m = np.zeros((3,4,5))\n",
    "m"
   ]
  },
  {
   "cell_type": "code",
   "execution_count": 19,
   "id": "b2f1918a",
   "metadata": {},
   "outputs": [
    {
     "data": {
      "text/plain": [
       "array([[[1., 1., 1., 1., 1.],\n",
       "        [1., 1., 1., 1., 1.],\n",
       "        [1., 1., 1., 1., 1.],\n",
       "        [1., 1., 1., 1., 1.]],\n",
       "\n",
       "       [[1., 1., 1., 1., 1.],\n",
       "        [1., 1., 1., 1., 1.],\n",
       "        [1., 1., 1., 1., 1.],\n",
       "        [1., 1., 1., 1., 1.]],\n",
       "\n",
       "       [[1., 1., 1., 1., 1.],\n",
       "        [1., 1., 1., 1., 1.],\n",
       "        [1., 1., 1., 1., 1.],\n",
       "        [1., 1., 1., 1., 1.]]])"
      ]
     },
     "execution_count": 19,
     "metadata": {},
     "output_type": "execute_result"
    }
   ],
   "source": [
    "m2 = np.ones_like(m)\n",
    "m2"
   ]
  },
  {
   "cell_type": "code",
   "execution_count": 20,
   "id": "5facc935",
   "metadata": {},
   "outputs": [
    {
     "data": {
      "text/plain": [
       "array([[1., 0., 0., 0., 0., 0.],\n",
       "       [0., 1., 0., 0., 0., 0.],\n",
       "       [0., 0., 1., 0., 0., 0.],\n",
       "       [0., 0., 0., 1., 0., 0.],\n",
       "       [0., 0., 0., 0., 1., 0.],\n",
       "       [0., 0., 0., 0., 0., 1.]])"
      ]
     },
     "execution_count": 20,
     "metadata": {},
     "output_type": "execute_result"
    }
   ],
   "source": [
    "np.eye(6)"
   ]
  },
  {
   "cell_type": "code",
   "execution_count": 21,
   "id": "a3002672",
   "metadata": {},
   "outputs": [
    {
     "data": {
      "text/plain": [
       "array([ 3,  5,  5, 16, 17, 13,  2, 17,  8,  7, 17, 13, 19, 14,  2])"
      ]
     },
     "execution_count": 21,
     "metadata": {},
     "output_type": "execute_result"
    }
   ],
   "source": [
    "arr = np.random.randint(1,20, 15)\n",
    "arr"
   ]
  },
  {
   "cell_type": "code",
   "execution_count": 22,
   "id": "5ff3d6df",
   "metadata": {},
   "outputs": [
    {
     "data": {
      "text/plain": [
       "array([False, False, False,  True,  True,  True, False,  True, False,\n",
       "       False,  True,  True,  True,  True, False])"
      ]
     },
     "execution_count": 22,
     "metadata": {},
     "output_type": "execute_result"
    }
   ],
   "source": [
    "arr > 10"
   ]
  },
  {
   "cell_type": "code",
   "execution_count": 23,
   "id": "1723ef3f",
   "metadata": {},
   "outputs": [
    {
     "data": {
      "text/plain": [
       "8"
      ]
     },
     "execution_count": 23,
     "metadata": {},
     "output_type": "execute_result"
    }
   ],
   "source": [
    "(arr > 10).sum()"
   ]
  },
  {
   "cell_type": "code",
   "execution_count": 24,
   "id": "a64e11e0",
   "metadata": {},
   "outputs": [
    {
     "data": {
      "text/plain": [
       "array([16, 17, 13, 17, 17, 13, 19, 14])"
      ]
     },
     "execution_count": 24,
     "metadata": {},
     "output_type": "execute_result"
    }
   ],
   "source": [
    "arr[arr > 10]"
   ]
  },
  {
   "cell_type": "code",
   "execution_count": 25,
   "id": "da25e81b",
   "metadata": {},
   "outputs": [
    {
     "data": {
      "text/plain": [
       "array([3, 5, 5])"
      ]
     },
     "execution_count": 25,
     "metadata": {},
     "output_type": "execute_result"
    }
   ],
   "source": [
    "arr[[0,1,2]]"
   ]
  },
  {
   "cell_type": "code",
   "execution_count": 26,
   "id": "5fc231ec",
   "metadata": {},
   "outputs": [
    {
     "data": {
      "text/plain": [
       "array([5, 5, 8, 7])"
      ]
     },
     "execution_count": 26,
     "metadata": {},
     "output_type": "execute_result"
    }
   ],
   "source": [
    "arr[(arr >= 5) & (arr <= 10)]"
   ]
  },
  {
   "cell_type": "code",
   "execution_count": 27,
   "id": "26aeaf19",
   "metadata": {},
   "outputs": [
    {
     "data": {
      "text/plain": [
       "array([ 3,  5,  5, 16, 17, 13,  2, 17,  5,  5, 17, 13, 19, 14,  2])"
      ]
     },
     "execution_count": 27,
     "metadata": {},
     "output_type": "execute_result"
    }
   ],
   "source": [
    "arr[(arr > 5) & (arr < 10)] = 5\n",
    "arr"
   ]
  },
  {
   "cell_type": "code",
   "execution_count": 28,
   "id": "b4370ad2",
   "metadata": {},
   "outputs": [
    {
     "data": {
      "text/plain": [
       "array([[ 9, 16,  4,  1, 13],\n",
       "       [18,  3,  2,  4,  9],\n",
       "       [ 5,  4, 18, 12, 19],\n",
       "       [17,  1,  5, 14, 16],\n",
       "       [17, 18, 18,  1, 11]])"
      ]
     },
     "execution_count": 28,
     "metadata": {},
     "output_type": "execute_result"
    }
   ],
   "source": [
    "m2 = np.random.randint(1,20, 25).reshape(5,-1)\n",
    "m2"
   ]
  },
  {
   "cell_type": "code",
   "execution_count": 29,
   "id": "31e8a7cc",
   "metadata": {},
   "outputs": [
    {
     "data": {
      "text/plain": [
       "array([[ 3,  2,  4],\n",
       "       [ 4, 18, 12],\n",
       "       [ 1,  5, 14]])"
      ]
     },
     "execution_count": 29,
     "metadata": {},
     "output_type": "execute_result"
    }
   ],
   "source": [
    "m2[1:-1,1:-1]"
   ]
  },
  {
   "cell_type": "code",
   "execution_count": 30,
   "id": "bf7ae5dd",
   "metadata": {},
   "outputs": [
    {
     "data": {
      "text/plain": [
       "array([ 9, 16,  4,  1, 13])"
      ]
     },
     "execution_count": 30,
     "metadata": {},
     "output_type": "execute_result"
    }
   ],
   "source": [
    "m2[0]"
   ]
  },
  {
   "cell_type": "code",
   "execution_count": 31,
   "id": "33610aea",
   "metadata": {},
   "outputs": [
    {
     "data": {
      "text/plain": [
       "array([[17, 18, 18,  1, 11],\n",
       "       [ 5,  4, 18, 12, 19],\n",
       "       [18,  3,  2,  4,  9]])"
      ]
     },
     "execution_count": 31,
     "metadata": {},
     "output_type": "execute_result"
    }
   ],
   "source": [
    "m2[[4,2,1]]"
   ]
  },
  {
   "cell_type": "code",
   "execution_count": 32,
   "id": "c7ce52ff",
   "metadata": {},
   "outputs": [
    {
     "data": {
      "text/plain": [
       "array([[ 9, 16,  4,  1, 13],\n",
       "       [ 5,  4, 18, 12, 19],\n",
       "       [17,  1,  5, 14, 16]])"
      ]
     },
     "execution_count": 32,
     "metadata": {},
     "output_type": "execute_result"
    }
   ],
   "source": [
    "m2[[True,False,True,True,False]]"
   ]
  },
  {
   "cell_type": "code",
   "execution_count": 33,
   "id": "abcf7dcd",
   "metadata": {},
   "outputs": [
    {
     "name": "stdout",
     "output_type": "stream",
     "text": [
      "[1 2 3 4 5 6]\n",
      "[ 1 -2 30  4 15  6]\n"
     ]
    }
   ],
   "source": [
    "arr2 = np.array((1,2,3,4,5,6), dtype=np.uint8)\n",
    "arr3 = np.array((1,-2,30,4,15,6), dtype=\"i1\")\n",
    "print(arr2)\n",
    "print(arr3)"
   ]
  },
  {
   "cell_type": "code",
   "execution_count": 34,
   "id": "ca24b957",
   "metadata": {},
   "outputs": [
    {
     "name": "stdout",
     "output_type": "stream",
     "text": [
      "[ 1  2 30  4 15  6]\n",
      "[ 1 -2  3  4  5  6]\n"
     ]
    }
   ],
   "source": [
    "print(np.maximum(arr2, arr3))\n",
    "print(np.minimum(arr2, arr3))"
   ]
  },
  {
   "cell_type": "code",
   "execution_count": 35,
   "id": "977d1510",
   "metadata": {},
   "outputs": [
    {
     "data": {
      "text/plain": [
       "array([[0, 1, 2],\n",
       "       [3, 4, 5],\n",
       "       [6, 7, 8]])"
      ]
     },
     "execution_count": 35,
     "metadata": {},
     "output_type": "execute_result"
    }
   ],
   "source": [
    "m1 = np.arange(9).reshape((3,3))\n",
    "m1"
   ]
  },
  {
   "cell_type": "code",
   "execution_count": 39,
   "id": "f7932295",
   "metadata": {},
   "outputs": [
    {
     "data": {
      "text/plain": [
       "array([0, 1, 2])"
      ]
     },
     "execution_count": 39,
     "metadata": {},
     "output_type": "execute_result"
    }
   ],
   "source": [
    "a2 = np.arange(3)\n",
    "a2"
   ]
  },
  {
   "cell_type": "code",
   "execution_count": 40,
   "id": "2e1f4bb3",
   "metadata": {},
   "outputs": [
    {
     "data": {
      "text/plain": [
       "array([[ 0,  2,  4],\n",
       "       [ 3,  5,  7],\n",
       "       [ 6,  8, 10]])"
      ]
     },
     "execution_count": 40,
     "metadata": {},
     "output_type": "execute_result"
    }
   ],
   "source": [
    "m1 + a2"
   ]
  },
  {
   "cell_type": "code",
   "execution_count": 42,
   "id": "f22ca40d",
   "metadata": {},
   "outputs": [
    {
     "data": {
      "text/plain": [
       "array([[18, 19,  2, 10,  5],\n",
       "       [11, 17, 11,  9, 12],\n",
       "       [ 4, 17, 17,  4, 16],\n",
       "       [17, 15, 12, 15,  2],\n",
       "       [ 9, 13, 16,  5,  4]])"
      ]
     },
     "execution_count": 42,
     "metadata": {},
     "output_type": "execute_result"
    }
   ],
   "source": [
    "m2 = np.random.randint(1,20, (5,5))\n",
    "m2"
   ]
  },
  {
   "cell_type": "code",
   "execution_count": 46,
   "id": "e921846e",
   "metadata": {},
   "outputs": [
    {
     "data": {
      "text/plain": [
       "array([[ 0,  0,  0, 10,  5],\n",
       "       [ 0,  0,  0,  9,  0],\n",
       "       [ 0,  0,  0,  0,  0],\n",
       "       [ 0,  0,  0,  0,  0],\n",
       "       [ 9,  0,  0,  5,  0]])"
      ]
     },
     "execution_count": 46,
     "metadata": {},
     "output_type": "execute_result"
    }
   ],
   "source": [
    "m3 = np.where((m2 < 5) | (m2 > 10), 0, m2)\n",
    "m3"
   ]
  },
  {
   "cell_type": "code",
   "execution_count": 47,
   "id": "023a8cab",
   "metadata": {},
   "outputs": [
    {
     "data": {
      "text/plain": [
       "280"
      ]
     },
     "execution_count": 47,
     "metadata": {},
     "output_type": "execute_result"
    }
   ],
   "source": [
    "m2.sum()"
   ]
  },
  {
   "cell_type": "code",
   "execution_count": 48,
   "id": "85f8980f",
   "metadata": {},
   "outputs": [
    {
     "data": {
      "text/plain": [
       "15"
      ]
     },
     "execution_count": 48,
     "metadata": {},
     "output_type": "execute_result"
    }
   ],
   "source": [
    "(m2 > 10).sum()"
   ]
  },
  {
   "cell_type": "code",
   "execution_count": 49,
   "id": "61090170",
   "metadata": {},
   "outputs": [
    {
     "data": {
      "text/plain": [
       "array([18, 19, 11, 17, 11, 12, 17, 17, 16, 17, 15, 12, 15, 13, 16])"
      ]
     },
     "execution_count": 49,
     "metadata": {},
     "output_type": "execute_result"
    }
   ],
   "source": [
    "m2[m2 > 10]"
   ]
  },
  {
   "cell_type": "code",
   "execution_count": 51,
   "id": "9fe6682b",
   "metadata": {},
   "outputs": [
    {
     "data": {
      "text/plain": [
       "226"
      ]
     },
     "execution_count": 51,
     "metadata": {},
     "output_type": "execute_result"
    }
   ],
   "source": [
    "m2[m2 > 10].sum()"
   ]
  },
  {
   "cell_type": "code",
   "execution_count": 52,
   "id": "07035e2d",
   "metadata": {},
   "outputs": [
    {
     "data": {
      "text/plain": [
       "array([59, 81, 58, 43, 39])"
      ]
     },
     "execution_count": 52,
     "metadata": {},
     "output_type": "execute_result"
    }
   ],
   "source": [
    "m2.sum(axis=0)"
   ]
  },
  {
   "cell_type": "code",
   "execution_count": 53,
   "id": "58851296",
   "metadata": {},
   "outputs": [
    {
     "data": {
      "text/plain": [
       "54"
      ]
     },
     "execution_count": 53,
     "metadata": {},
     "output_type": "execute_result"
    }
   ],
   "source": [
    "m2[0].sum()"
   ]
  },
  {
   "cell_type": "code",
   "execution_count": 54,
   "id": "e3de35f9",
   "metadata": {},
   "outputs": [
    {
     "data": {
      "text/plain": [
       "array([54, 60, 58, 61, 47])"
      ]
     },
     "execution_count": 54,
     "metadata": {},
     "output_type": "execute_result"
    }
   ],
   "source": [
    "m2.sum(axis=1)"
   ]
  },
  {
   "cell_type": "code",
   "execution_count": 55,
   "id": "5fecfa80",
   "metadata": {},
   "outputs": [
    {
     "data": {
      "text/plain": [
       "47"
      ]
     },
     "execution_count": 55,
     "metadata": {},
     "output_type": "execute_result"
    }
   ],
   "source": [
    "m2[-1].sum()"
   ]
  },
  {
   "cell_type": "code",
   "execution_count": 56,
   "id": "e55edb62",
   "metadata": {},
   "outputs": [
    {
     "data": {
      "text/plain": [
       "2"
      ]
     },
     "execution_count": 56,
     "metadata": {},
     "output_type": "execute_result"
    }
   ],
   "source": [
    "np.amin(m2)"
   ]
  },
  {
   "cell_type": "code",
   "execution_count": 58,
   "id": "e242fb25",
   "metadata": {},
   "outputs": [
    {
     "data": {
      "text/plain": [
       "19"
      ]
     },
     "execution_count": 58,
     "metadata": {},
     "output_type": "execute_result"
    }
   ],
   "source": [
    "np.amax(m2)"
   ]
  },
  {
   "cell_type": "code",
   "execution_count": 59,
   "id": "152ca4a2",
   "metadata": {},
   "outputs": [
    {
     "data": {
      "text/plain": [
       "1"
      ]
     },
     "execution_count": 59,
     "metadata": {},
     "output_type": "execute_result"
    }
   ],
   "source": [
    "np.argmax(m2)"
   ]
  },
  {
   "cell_type": "code",
   "execution_count": 60,
   "id": "3ed9613b",
   "metadata": {},
   "outputs": [
    {
     "data": {
      "text/plain": [
       "2"
      ]
     },
     "execution_count": 60,
     "metadata": {},
     "output_type": "execute_result"
    }
   ],
   "source": [
    "np.argmin(m2)"
   ]
  },
  {
   "cell_type": "code",
   "execution_count": 61,
   "id": "665bf88b",
   "metadata": {},
   "outputs": [
    {
     "data": {
      "image/png": "[encoded data removed]",
      "text/plain": [
       "<Figure size 432x288 with 1 Axes>"
      ]
     },
     "metadata": {
      "needs_background": "light"
     },
     "output_type": "display_data"
    }
   ],
   "source": [
    "import numpy as np\n",
    "import matplotlib.pyplot as plt\n",
    "np.random.seed(123)\n",
    "\n",
    "x = np.random.randint (0, 50,1000)\n",
    "y = x +np.random.normal (0, 10,1000)\n",
    "\n",
    "plt.scatter(x,y)\n",
    "c =np.corrcoef (x,y)"
   ]
  },
  {
   "cell_type": "code",
   "execution_count": 62,
   "id": "25d09d69",
   "metadata": {},
   "outputs": [
    {
     "data": {
      "text/plain": [
       "array([[1.        , 0.82550537],\n",
       "       [0.82550537, 1.        ]])"
      ]
     },
     "execution_count": 62,
     "metadata": {},
     "output_type": "execute_result"
    }
   ],
   "source": [
    "c"
   ]
  },
  {
   "cell_type": "code",
   "execution_count": 64,
   "id": "42727527",
   "metadata": {},
   "outputs": [
    {
     "name": "stdout",
     "output_type": "stream",
     "text": [
      "correlación x e y:  82.55 %\n"
     ]
    }
   ],
   "source": [
    "print('correlación x e y: ', round(c[0][1]*100,2),'%')"
   ]
  },
  {
   "cell_type": "code",
   "execution_count": 73,
   "id": "2dc4bfdb",
   "metadata": {},
   "outputs": [
    {
     "name": "stdout",
     "output_type": "stream",
     "text": [
      "Counter({19: 60, 4: 58, 12: 57, 11: 56, 18: 54, 2: 54, 15: 54, 6: 53, 0: 53, 13: 50, 16: 50, 3: 50, 1: 48, 7: 47, 5: 47, 10: 45, 8: 44, 14: 44, 17: 38, 9: 38})\n",
      "[ 0  1  2  3  4  5  6  7  8  9 10 11 12 13 14 15 16 17 18 19]\n"
     ]
    }
   ],
   "source": [
    "from collections import Counter\n",
    "\n",
    "x = np.random.randint(0, 20, 1000)\n",
    "c = Counter(x)\n",
    "print(c)\n",
    "print(np.unique(x))"
   ]
  },
  {
   "cell_type": "code",
   "execution_count": 68,
   "id": "97ef0fcb",
   "metadata": {},
   "outputs": [
    {
     "data": {
      "text/plain": [
       "True"
      ]
     },
     "execution_count": 68,
     "metadata": {},
     "output_type": "execute_result"
    }
   ],
   "source": [
    "arr = np.random.randint(1,20,50)\n",
    "(arr < 20).any()"
   ]
  },
  {
   "cell_type": "code",
   "execution_count": 70,
   "id": "56818b81",
   "metadata": {},
   "outputs": [
    {
     "data": {
      "text/plain": [
       "True"
      ]
     },
     "execution_count": 70,
     "metadata": {},
     "output_type": "execute_result"
    }
   ],
   "source": [
    "(arr > 0).all()"
   ]
  },
  {
   "cell_type": "markdown",
   "id": "c2a39cce",
   "metadata": {},
   "source": [
    "### Entrada / Salida con numpy"
   ]
  },
  {
   "cell_type": "code",
   "execution_count": 75,
   "id": "8842230b",
   "metadata": {},
   "outputs": [],
   "source": [
    "m1 = np.random.randint(1,100, (20, 25))\n",
    "np.savetxt(\"../ficheros/matriz.csv\",  m1, fmt='%d', delimiter=';')"
   ]
  },
  {
   "cell_type": "code",
   "execution_count": 77,
   "id": "bbfce257",
   "metadata": {},
   "outputs": [],
   "source": [
    "m2 = np.random.randn(20, 25)\n",
    "np.savetxt(\"../ficheros/matriz2.csv\", m2, fmt='%.2f', delimiter=';')"
   ]
  },
  {
   "cell_type": "code",
   "execution_count": 78,
   "id": "1b71e5ba",
   "metadata": {},
   "outputs": [
    {
     "data": {
      "text/plain": [
       "array([[ 0.82, -0.12, -0.51,  1.58,  0.82,  0.8 , -0.14, -1.16, -1.28,\n",
       "        -0.33, -1.39, -0.47, -0.04, -0.35,  0.2 , -2.29,  0.79, -0.12,\n",
       "         0.57, -0.37, -0.14, -1.11,  0.24, -0.71,  0.25],\n",
       "       [ 0.86,  0.16,  1.96,  0.42, -0.05,  0.2 ,  0.17,  0.64, -0.59,\n",
       "         0.35, -0.93,  0.15,  0.66,  0.88, -0.37,  1.21, -0.21, -1.2 ,\n",
       "         0.12,  0.73, -0.7 , -1.36,  0.  , -0.1 , -0.79],\n",
       "       [ 1.33,  0.82,  1.01, -1.29, -0.28, -0.48, -0.38,  1.02, -0.57,\n",
       "        -0.64,  1.03,  1.8 ,  1.3 , -0.9 , -2.04, -0.77, -0.13,  0.32,\n",
       "        -0.51,  1.15,  0.58,  0.01, -1.41,  1.16, -0.04],\n",
       "       [-1.77,  1.23,  1.9 , -0.22, -1.02,  1.11,  1.43,  0.71, -2.07,\n",
       "        -0.64, -0.91,  0.57,  1.47,  0.01, -0.15, -1.48, -1.33,  0.  ,\n",
       "         1.43, -0.49, -0.58, -1.09, -1.27,  0.96, -0.25],\n",
       "       [ 0.82, -1.84, -0.36,  1.5 , -1.16, -1.02, -0.13, -0.01,  0.29,\n",
       "        -0.12,  0.06,  0.01, -0.92, -0.45, -1.34,  0.19, -0.89,  0.54,\n",
       "         0.52, -2.1 ,  0.83,  0.68,  0.11, -2.19, -1.88],\n",
       "       [ 0.79, -0.51,  0.29, -2.83,  0.48, -0.74, -0.77,  0.98, -0.36,\n",
       "         0.35, -0.86,  1.95, -0.81,  0.79, -0.53,  0.15, -0.2 , -0.26,\n",
       "        -0.31, -0.91,  0.39,  0.22, -0.06,  1.32,  0.83],\n",
       "       [-0.7 ,  0.12,  1.05, -0.13,  0.02, -0.4 , -0.48,  0.87,  0.22,\n",
       "         0.63,  0.16, -0.46, -1.06, -0.34,  0.56,  0.44, -1.6 ,  1.8 ,\n",
       "        -0.64, -0.09,  0.21,  1.67, -0.84, -0.81, -0.99],\n",
       "       [ 0.22,  0.56,  0.17,  1.85, -0.34,  0.21, -1.78, -2.37,  0.52,\n",
       "         0.52, -1.16, -0.06,  0.6 , -0.31, -0.82, -0.07,  1.99,  0.81,\n",
       "        -0.44,  0.9 ,  0.27,  0.08,  0.34,  0.34, -1.31],\n",
       "       [ 0.26, -0.35, -0.05, -0.93,  0.39,  0.2 , -0.03,  0.27,  0.36,\n",
       "         0.92, -1.44,  1.68,  0.07, -0.38,  0.89, -0.06,  1.66,  0.21,\n",
       "         0.98,  0.04, -0.33,  0.7 ,  1.5 ,  1.22,  0.66],\n",
       "       [ 0.85,  1.03,  1.03,  1.13, -1.96, -0.68,  0.79,  0.73, -2.  ,\n",
       "        -0.25, -1.59, -1.28,  0.05, -0.64, -0.49, -0.43,  0.24,  0.82,\n",
       "        -0.95, -0.17,  0.29, -0.3 ,  0.74,  0.04,  1.2 ],\n",
       "       [-1.07,  2.49, -0.6 ,  1.4 ,  1.14,  1.69,  0.8 , -0.7 , -2.96,\n",
       "        -0.74,  1.08,  0.24, -1.03, -1.22, -1.17, -0.48, -0.15,  1.53,\n",
       "         0.29, -0.59,  0.38, -0.8 ,  1.5 , -1.51,  0.59],\n",
       "       [-1.35, -0.42,  0.64,  0.44, -0.21,  0.1 , -1.55, -1.51,  0.55,\n",
       "         1.78,  0.83,  0.25,  1.  ,  0.14,  0.9 ,  0.4 ,  0.12, -1.58,\n",
       "         0.37,  0.36,  0.77, -0.13,  0.33, -0.51,  1.57],\n",
       "       [-0.51, -0.57,  0.05, -1.67, -0.88, -1.61,  1.65,  0.41, -0.54,\n",
       "        -0.98,  2.08, -1.62,  0.02,  1.32, -0.63, -0.99, -1.32,  0.83,\n",
       "        -0.71, -0.96, -1.75, -0.66,  0.79,  0.62, -0.05],\n",
       "       [-0.58, -0.72, -1.49,  0.36,  0.11, -0.09,  0.3 ,  0.78,  0.59,\n",
       "        -1.99, -0.34,  0.3 , -0.06, -0.61, -0.23,  1.78,  1.33,  0.08,\n",
       "        -0.39,  0.52,  0.94,  0.35, -1.06,  0.05,  0.16],\n",
       "       [-1.1 ,  0.15,  0.62,  0.56,  1.34, -1.34,  0.25, -0.5 ,  0.86,\n",
       "         1.02, -1.34, -0.36, -0.97, -0.1 , -0.05,  1.31,  0.49,  1.05,\n",
       "         0.96, -1.05,  0.05,  0.95,  1.39,  0.75, -1.71],\n",
       "       [ 0.45, -0.06,  0.71, -0.7 ,  0.09, -0.32,  1.28,  0.62, -0.25,\n",
       "        -0.62, -0.42,  1.68, -0.2 ,  2.03,  0.18, -1.15,  1.13, -2.05,\n",
       "         0.11,  2.33,  1.69,  1.43,  0.96,  1.21, -0.83],\n",
       "       [ 0.81,  0.38,  1.37,  1.66, -0.45, -1.45,  0.04,  1.51, -1.43,\n",
       "        -0.22, -1.95, -0.67,  0.37, -0.04, -0.84,  1.49, -0.42, -1.91,\n",
       "         1.95,  1.07,  0.31, -0.96, -1.06,  0.13,  0.15],\n",
       "       [-1.44, -1.  ,  0.48, -1.26,  1.1 , -0.39,  1.14, -0.57,  0.68,\n",
       "         0.24,  1.69, -0.65,  2.08,  1.45, -0.67, -0.58,  0.36,  0.76,\n",
       "        -0.97, -1.22, -1.74,  1.53, -0.02, -1.77, -0.28],\n",
       "       [ 0.82,  0.4 ,  1.89,  0.2 , -0.3 ,  0.29,  1.53,  0.66, -0.13,\n",
       "        -1.05, -0.15, -1.31,  0.42,  0.41, -0.99, -0.8 ,  0.83, -0.04,\n",
       "         0.54, -0.59, -0.8 , -0.3 , -1.18, -0.58,  0.95],\n",
       "       [-0.64,  1.57,  0.95,  0.89,  0.34, -0.71, -1.09, -1.14,  0.2 ,\n",
       "         2.4 ,  0.48,  1.5 , -0.15, -0.58,  0.8 , -0.49, -0.29,  0.1 ,\n",
       "        -1.07,  0.26, -0.14, -1.3 ,  0.04,  0.71, -0.81]])"
      ]
     },
     "execution_count": 78,
     "metadata": {},
     "output_type": "execute_result"
    }
   ],
   "source": [
    "m3 = np.loadtxt(\"../ficheros/matriz2.csv\", delimiter=';')\n",
    "m3"
   ]
  },
  {
   "cell_type": "code",
   "execution_count": 79,
   "id": "5376b9c3",
   "metadata": {},
   "outputs": [],
   "source": [
    "np.savez_compressed(\"../ficheros/matriz.npz\", k1=m1, k2=m2)"
   ]
  },
  {
   "cell_type": "code",
   "execution_count": 81,
   "id": "1acde84f",
   "metadata": {},
   "outputs": [
    {
     "name": "stdout",
     "output_type": "stream",
     "text": [
      "['k1', 'k2']\n"
     ]
    }
   ],
   "source": [
    "dicc = np.load(\"../ficheros/matriz.npz\")\n",
    "print(list(dicc.keys()))"
   ]
  },
  {
   "cell_type": "code",
   "execution_count": 82,
   "id": "5d52ffd3",
   "metadata": {},
   "outputs": [
    {
     "data": {
      "text/plain": [
       "array([[ 8.20636862e-01, -1.20398604e-01, -5.08827287e-01,\n",
       "         1.57535072e+00,  8.24531771e-01,  8.04702141e-01,\n",
       "        -1.35092312e-01, -1.16055765e+00, -1.28481684e+00,\n",
       "        -3.26861955e-01, -1.39082694e+00, -4.72846759e-01,\n",
       "        -4.42348677e-02, -3.49898309e-01,  1.97710276e-01,\n",
       "        -2.29294863e+00,  7.92121123e-01, -1.19361438e-01,\n",
       "         5.72508458e-01, -3.69333979e-01, -1.42550714e-01,\n",
       "        -1.11148683e+00,  2.40536830e-01, -7.14061824e-01,\n",
       "         2.52844638e-01],\n",
       "       [ 8.61077623e-01,  1.63126341e-01,  1.96203653e+00,\n",
       "         4.21126783e-01, -5.14211449e-02,  2.01987393e-01,\n",
       "         1.73978151e-01,  6.38073847e-01, -5.86724901e-01,\n",
       "         3.48569026e-01, -9.25704861e-01,  1.45194498e-01,\n",
       "         6.61059266e-01,  8.80420889e-01, -3.67921474e-01,\n",
       "         1.20765018e+00, -2.14610529e-01, -1.19636732e+00,\n",
       "         1.18865883e-01,  7.33034960e-01, -6.98609914e-01,\n",
       "        -1.36392378e+00,  1.16824539e-03, -1.03206682e-01,\n",
       "        -7.87036977e-01],\n",
       "       [ 1.33362070e+00,  8.17370853e-01,  1.00688984e+00,\n",
       "        -1.28817580e+00, -2.83361054e-01, -4.83204073e-01,\n",
       "        -3.75577195e-01,  1.02197703e+00, -5.67505190e-01,\n",
       "        -6.41691769e-01,  1.03204580e+00,  1.79862507e+00,\n",
       "         1.30371339e+00, -9.02156610e-01, -2.03707648e+00,\n",
       "        -7.72719144e-01, -1.29461239e-01,  3.22318779e-01,\n",
       "        -5.05242963e-01,  1.14594573e+00,  5.76318198e-01,\n",
       "         1.22296878e-02, -1.41357054e+00,  1.15908539e+00,\n",
       "        -4.40720242e-02],\n",
       "       [-1.77498582e+00,  1.22743304e+00,  1.89512652e+00,\n",
       "        -2.24029939e-01, -1.02021225e+00,  1.11353251e+00,\n",
       "         1.43122637e+00,  7.08663795e-01, -2.06833658e+00,\n",
       "        -6.41221430e-01, -9.05293785e-01,  5.65369342e-01,\n",
       "         1.47212572e+00,  1.13207895e-02, -1.54788945e-01,\n",
       "        -1.47914598e+00, -1.33069579e+00,  4.35851675e-03,\n",
       "         1.43251885e+00, -4.92613717e-01, -5.81063848e-01,\n",
       "        -1.09153678e+00, -1.27317059e+00,  9.55086031e-01,\n",
       "        -2.53030805e-01],\n",
       "       [ 8.21210582e-01, -1.84118581e+00, -3.58702745e-01,\n",
       "         1.50412867e+00, -1.16200496e+00, -1.02486821e+00,\n",
       "        -1.26812652e-01, -8.66453050e-03,  2.88198454e-01,\n",
       "        -1.18904933e-01,  5.77063623e-02,  7.95361677e-03,\n",
       "        -9.18402661e-01, -4.45241436e-01, -1.34150481e+00,\n",
       "         1.87076505e-01, -8.86069228e-01,  5.39031181e-01,\n",
       "         5.23505059e-01, -2.10460840e+00,  8.34642948e-01,\n",
       "         6.79722952e-01,  1.07699547e-01, -2.19304814e+00,\n",
       "        -1.87515483e+00],\n",
       "       [ 7.94940943e-01, -5.14104275e-01,  2.91403153e-01,\n",
       "        -2.82796468e+00,  4.78010635e-01, -7.36536398e-01,\n",
       "        -7.67162750e-01,  9.75267569e-01, -3.62772390e-01,\n",
       "         3.54360101e-01, -8.55132332e-01,  1.94588392e+00,\n",
       "        -8.11357130e-01,  7.89458851e-01, -5.28355757e-01,\n",
       "         1.48222874e-01, -2.00911493e-01, -2.59727256e-01,\n",
       "        -3.11930672e-01, -9.07823567e-01,  3.87913469e-01,\n",
       "         2.22857907e-01, -6.43806596e-02,  1.31711146e+00,\n",
       "         8.29218022e-01],\n",
       "       [-7.03416276e-01,  1.23940675e-01,  1.05112585e+00,\n",
       "        -1.27610526e-01,  1.55218869e-02, -4.02185633e-01,\n",
       "        -4.77412220e-01,  8.68462831e-01,  2.19680772e-01,\n",
       "         6.32297214e-01,  1.60822745e-01, -4.64742509e-01,\n",
       "        -1.05747438e+00, -3.44343645e-01,  5.57318025e-01,\n",
       "         4.38744761e-01, -1.60196269e+00,  1.80427412e+00,\n",
       "        -6.39402991e-01, -9.04759412e-02,  2.11822797e-01,\n",
       "         1.66750770e+00, -8.37759177e-01, -8.12949117e-01,\n",
       "        -9.86809846e-01],\n",
       "       [ 2.23824267e-01,  5.60246012e-01,  1.72630434e-01,\n",
       "         1.84789034e+00, -3.38710899e-01,  2.12247394e-01,\n",
       "        -1.77990456e+00, -2.37402290e+00,  5.20986094e-01,\n",
       "         5.23597151e-01, -1.15633947e+00, -6.44740889e-02,\n",
       "         6.03434511e-01, -3.09947241e-01, -8.19711959e-01,\n",
       "        -7.31582189e-02,  1.99382878e+00,  8.09184709e-01,\n",
       "        -4.39316987e-01,  8.95044490e-01,  2.70432608e-01,\n",
       "         7.66029145e-02,  3.37068774e-01,  3.41856081e-01,\n",
       "        -1.31397132e+00],\n",
       "       [ 2.59708122e-01, -3.48875886e-01, -4.80327058e-02,\n",
       "        -9.30518147e-01,  3.89671813e-01,  2.00631750e-01,\n",
       "        -2.88016740e-02,  2.66608540e-01,  3.55233139e-01,\n",
       "         9.22638814e-01, -1.44243061e+00,  1.67708379e+00,\n",
       "         6.69326173e-02, -3.81556169e-01,  8.93458417e-01,\n",
       "        -5.95084968e-02,  1.66133095e+00,  2.06860347e-01,\n",
       "         9.78831042e-01,  3.88175654e-02, -3.33245014e-01,\n",
       "         6.96630410e-01,  1.50116011e+00,  1.21758760e+00,\n",
       "         6.56824328e-01],\n",
       "       [ 8.49338622e-01,  1.02898043e+00,  1.03440045e+00,\n",
       "         1.12779682e+00, -1.96427409e+00, -6.79946306e-01,\n",
       "         7.87335408e-01,  7.32800466e-01, -1.99507858e+00,\n",
       "        -2.54571592e-01, -1.59287635e+00, -1.27643434e+00,\n",
       "         5.45079884e-02, -6.35039328e-01, -4.90176178e-01,\n",
       "        -4.33895614e-01,  2.44010580e-01,  8.21709899e-01,\n",
       "        -9.49209922e-01, -1.73985792e-01,  2.93159276e-01,\n",
       "        -2.99721876e-01,  7.35376652e-01,  4.09578863e-02,\n",
       "         1.19785093e+00],\n",
       "       [-1.06712018e+00,  2.49250508e+00, -6.04801827e-01,\n",
       "         1.40163580e+00,  1.14102684e+00,  1.68757764e+00,\n",
       "         7.95933585e-01, -7.00303556e-01, -2.96106430e+00,\n",
       "        -7.43272225e-01,  1.07945316e+00,  2.35824805e-01,\n",
       "        -1.02561471e+00, -1.21628821e+00, -1.16541197e+00,\n",
       "        -4.77567076e-01, -1.51707251e-01,  1.53052938e+00,\n",
       "         2.85828326e-01, -5.90315461e-01,  3.78210126e-01,\n",
       "        -7.96183764e-01,  1.50113035e+00, -1.50503241e+00,\n",
       "         5.88669865e-01],\n",
       "       [-1.34987482e+00, -4.21660815e-01,  6.44299231e-01,\n",
       "         4.44940624e-01, -2.12247171e-01,  9.78814425e-02,\n",
       "        -1.55075189e+00, -1.50635530e+00,  5.45485126e-01,\n",
       "         1.78104496e+00,  8.32227124e-01,  2.52960165e-01,\n",
       "         9.98884020e-01,  1.42778331e-01,  9.04800921e-01,\n",
       "         3.99442275e-01,  1.21126018e-01, -1.57715610e+00,\n",
       "         3.69224305e-01,  3.59693539e-01,  7.68978859e-01,\n",
       "        -1.25225855e-01,  3.28295169e-01, -5.06923554e-01,\n",
       "         1.57089511e+00],\n",
       "       [-5.09356060e-01, -5.68961673e-01,  4.79771935e-02,\n",
       "        -1.67276501e+00, -8.77079302e-01, -1.61112463e+00,\n",
       "         1.65444958e+00,  4.09613524e-01, -5.37408634e-01,\n",
       "        -9.75982218e-01,  2.07814556e+00, -1.61923292e+00,\n",
       "         1.50054800e-02,  1.32400892e+00, -6.26807284e-01,\n",
       "        -9.92719730e-01, -1.31688988e+00,  8.34585373e-01,\n",
       "        -7.11493111e-01, -9.57888958e-01, -1.74785711e+00,\n",
       "        -6.58342616e-01,  7.94333970e-01,  6.17809067e-01,\n",
       "        -5.11505938e-02],\n",
       "       [-5.78571179e-01, -7.18898509e-01, -1.48866085e+00,\n",
       "         3.61990280e-01,  1.08121499e-01, -9.44577783e-02,\n",
       "         3.00310953e-01,  7.77138942e-01,  5.89859379e-01,\n",
       "        -1.98671359e+00, -3.39859023e-01,  3.01224604e-01,\n",
       "        -6.49486039e-02, -6.06402967e-01, -2.28661343e-01,\n",
       "         1.77611215e+00,  1.33024687e+00,  8.03805684e-02,\n",
       "        -3.94105284e-01,  5.18708165e-01,  9.37208533e-01,\n",
       "         3.52979106e-01, -1.06415924e+00,  5.29710250e-02,\n",
       "         1.60785370e-01],\n",
       "       [-1.09500142e+00,  1.51155997e-01,  6.19139510e-01,\n",
       "         5.58608461e-01,  1.33815825e+00, -1.34001407e+00,\n",
       "         2.50375375e-01, -4.95614341e-01,  8.62692945e-01,\n",
       "         1.02046578e+00, -1.33708463e+00, -3.58362998e-01,\n",
       "        -9.73820837e-01, -9.67514125e-02, -5.39418323e-02,\n",
       "         1.30607903e+00,  4.94630047e-01,  1.05415279e+00,\n",
       "         9.59275657e-01, -1.05468436e+00,  5.13952643e-02,\n",
       "         9.51392284e-01,  1.38810297e+00,  7.51830851e-01,\n",
       "        -1.71433279e+00],\n",
       "       [ 4.45251579e-01, -6.44511338e-02,  7.05784324e-01,\n",
       "        -7.02263998e-01,  8.91430188e-02, -3.15254616e-01,\n",
       "         1.27679217e+00,  6.15703325e-01, -2.48609765e-01,\n",
       "        -6.21980160e-01, -4.24057978e-01,  1.67730959e+00,\n",
       "        -1.96244476e-01,  2.02677653e+00,  1.81402015e-01,\n",
       "        -1.15229267e+00,  1.13105737e+00, -2.05175234e+00,\n",
       "         1.05170615e-01,  2.33315465e+00,  1.68858973e+00,\n",
       "         1.42599274e+00,  9.60701180e-01,  1.20810935e+00,\n",
       "        -8.29983442e-01],\n",
       "       [ 8.05969538e-01,  3.83004000e-01,  1.37091716e+00,\n",
       "         1.66382412e+00, -4.51019139e-01, -1.44979028e+00,\n",
       "         4.37013899e-02,  1.50718148e+00, -1.42944380e+00,\n",
       "        -2.22144300e-01, -1.95254108e+00, -6.66542648e-01,\n",
       "         3.70883060e-01, -3.69904128e-02, -8.40725101e-01,\n",
       "         1.48933176e+00, -4.17038829e-01, -1.90580126e+00,\n",
       "         1.94652788e+00,  1.06859152e+00,  3.12548046e-01,\n",
       "        -9.64677289e-01, -1.06027316e+00,  1.25489510e-01,\n",
       "         1.51160663e-01],\n",
       "       [-1.43643281e+00, -9.97822540e-01,  4.84846901e-01,\n",
       "        -1.26039634e+00,  1.10312177e+00, -3.86120563e-01,\n",
       "         1.14084971e+00, -5.71377580e-01,  6.75584718e-01,\n",
       "         2.44924889e-01,  1.69164496e+00, -6.50884256e-01,\n",
       "         2.07957330e+00,  1.44529699e+00, -6.68053583e-01,\n",
       "        -5.81200948e-01,  3.62010438e-01,  7.63143110e-01,\n",
       "        -9.70706458e-01, -1.22437547e+00, -1.73509823e+00,\n",
       "         1.52933540e+00, -2.02106672e-02, -1.76547735e+00,\n",
       "        -2.79694669e-01],\n",
       "       [ 8.18150773e-01,  4.02709398e-01,  1.89346500e+00,\n",
       "         2.02775841e-01, -2.98223512e-01,  2.91790583e-01,\n",
       "         1.52519980e+00,  6.59044835e-01, -1.26045487e-01,\n",
       "        -1.05173856e+00, -1.48832985e-01, -1.30619446e+00,\n",
       "         4.19641252e-01,  4.10196554e-01, -9.91180594e-01,\n",
       "        -7.95118161e-01,  8.33016043e-01, -4.25268534e-02,\n",
       "         5.44474359e-01, -5.93581773e-01, -8.00717337e-01,\n",
       "        -2.96912208e-01, -1.17796938e+00, -5.76543766e-01,\n",
       "         9.49500270e-01],\n",
       "       [-6.36771408e-01,  1.57182395e+00,  9.47236328e-01,\n",
       "         8.88537745e-01,  3.43879284e-01, -7.11316288e-01,\n",
       "        -1.09299820e+00, -1.14014541e+00,  2.03849152e-01,\n",
       "         2.40126141e+00,  4.75032238e-01,  1.50198154e+00,\n",
       "        -1.49770530e-01, -5.78431838e-01,  7.97964839e-01,\n",
       "        -4.92739650e-01, -2.90779576e-01,  9.73135314e-02,\n",
       "        -1.07436423e+00,  2.55447884e-01, -1.38840750e-01,\n",
       "        -1.30306549e+00,  4.38999332e-02,  7.13922244e-01,\n",
       "        -8.08219785e-01]])"
      ]
     },
     "execution_count": 82,
     "metadata": {},
     "output_type": "execute_result"
    }
   ],
   "source": [
    "dicc['k2']"
   ]
  },
  {
   "cell_type": "code",
   "execution_count": null,
   "id": "69f4ada5",
   "metadata": {},
   "outputs": [],
   "source": []
  }
 ],
 "metadata": {
  "kernelspec": {
   "display_name": "Python 3 (ipykernel)",
   "language": "python",
   "name": "python3"
  },
  "language_info": {
   "codemirror_mode": {
    "name": "ipython",
    "version": 3
   },
   "file_extension": ".py",
   "mimetype": "text/x-python",
   "name": "python",
   "nbconvert_exporter": "python",
   "pygments_lexer": "ipython3",
   "version": "3.8.5"
  }
 },
 "nbformat": 4,
 "nbformat_minor": 5
}
