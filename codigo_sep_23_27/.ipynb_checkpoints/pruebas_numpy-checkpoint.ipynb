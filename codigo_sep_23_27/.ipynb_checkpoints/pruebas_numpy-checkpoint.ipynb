{
 "cells": [
  {
   "cell_type": "markdown",
   "id": "ac33afbf",
   "metadata": {},
   "source": [
    "## Pruebas con la librería numpy"
   ]
  },
  {
   "cell_type": "code",
   "execution_count": 1,
   "id": "add86073",
   "metadata": {},
   "outputs": [],
   "source": [
    "import numpy as np"
   ]
  },
  {
   "cell_type": "code",
   "execution_count": 2,
   "id": "16b98d61",
   "metadata": {},
   "outputs": [
    {
     "name": "stdout",
     "output_type": "stream",
     "text": [
      "17.4 ms ± 1.25 ms per loop (mean ± std. dev. of 7 runs, 100 loops each)\n"
     ]
    }
   ],
   "source": [
    "%%timeit\n",
    "arr = np.arange(1000000)\n",
    "for _ in range(10): arr = arr * 2"
   ]
  },
  {
   "cell_type": "code",
   "execution_count": 3,
   "id": "0e02c54f",
   "metadata": {},
   "outputs": [
    {
     "name": "stdout",
     "output_type": "stream",
     "text": [
      "773 ms ± 29.9 ms per loop (mean ± std. dev. of 7 runs, 1 loop each)\n"
     ]
    }
   ],
   "source": [
    "%%timeit\n",
    "L = list(range(1000000))\n",
    "for _ in range(10): L = [x*2 for x in L]"
   ]
  },
  {
   "cell_type": "code",
   "execution_count": 4,
   "id": "3ee97156",
   "metadata": {},
   "outputs": [
    {
     "name": "stdout",
     "output_type": "stream",
     "text": [
      "[1.  2.  3.  4.  8.5]\n",
      "float64\n"
     ]
    }
   ],
   "source": [
    "arr1 = np.array([1,2,3,4,8.5])\n",
    "print(arr1)\n",
    "print(arr1.dtype)"
   ]
  },
  {
   "cell_type": "code",
   "execution_count": 5,
   "id": "dc9cd986",
   "metadata": {},
   "outputs": [
    {
     "data": {
      "text/plain": [
       "(5,)"
      ]
     },
     "execution_count": 5,
     "metadata": {},
     "output_type": "execute_result"
    }
   ],
   "source": [
    "arr1.shape"
   ]
  },
  {
   "cell_type": "code",
   "execution_count": 6,
   "id": "b3ffaf77",
   "metadata": {},
   "outputs": [
    {
     "data": {
      "text/plain": [
       "array([[ 0,  1,  2,  3],\n",
       "       [ 4,  5,  6,  7],\n",
       "       [ 8,  9, 10, 11],\n",
       "       [12, 13, 14, 15],\n",
       "       [16, 17, 18, 19],\n",
       "       [20, 21, 22, 23]])"
      ]
     },
     "execution_count": 6,
     "metadata": {},
     "output_type": "execute_result"
    }
   ],
   "source": [
    "m = np.array(range(24)).reshape(6,-1)\n",
    "m"
   ]
  },
  {
   "cell_type": "code",
   "execution_count": 9,
   "id": "83624d89",
   "metadata": {},
   "outputs": [
    {
     "name": "stdout",
     "output_type": "stream",
     "text": [
      "[1 2 3 4 5 6]\n",
      "[ 1 -2 30  4 15  6]\n"
     ]
    }
   ],
   "source": [
    "arr2 = np.array((1,2,3,4,5,6), dtype=np.uint8)\n",
    "arr3 = np.array((1,-2,30,4,15,6), dtype=\"i1\")\n",
    "print(arr2)\n",
    "print(arr3)\n"
   ]
  },
  {
   "cell_type": "code",
   "execution_count": 12,
   "id": "5417b792",
   "metadata": {},
   "outputs": [
    {
     "data": {
      "text/plain": [
       "array([1, 3, 5, 8], dtype=int8)"
      ]
     },
     "execution_count": 12,
     "metadata": {},
     "output_type": "execute_result"
    }
   ],
   "source": [
    "arr4 = np.array([\"1\",\"3\",\"5\",\"8\"], dtype=np.int8)\n",
    "arr4"
   ]
  },
  {
   "cell_type": "code",
   "execution_count": 13,
   "id": "3e7c48b1",
   "metadata": {},
   "outputs": [
    {
     "data": {
      "text/plain": [
       "array([1., 3., 5., 8.], dtype=float32)"
      ]
     },
     "execution_count": 13,
     "metadata": {},
     "output_type": "execute_result"
    }
   ],
   "source": [
    "arr5 = arr4.astype(np.float32)\n",
    "arr5"
   ]
  },
  {
   "cell_type": "code",
   "execution_count": 14,
   "id": "73595b0a",
   "metadata": {},
   "outputs": [
    {
     "data": {
      "text/plain": [
       "array([1. +0.j, 2. +0.j, 3. +0.j, 6.5+0.j, 6. +8.j])"
      ]
     },
     "execution_count": 14,
     "metadata": {},
     "output_type": "execute_result"
    }
   ],
   "source": [
    "arr6 = np.array([1,2,3,6.5, 6+8j])\n",
    "arr6"
   ]
  },
  {
   "cell_type": "code",
   "execution_count": 15,
   "id": "a77fb911",
   "metadata": {},
   "outputs": [
    {
     "name": "stdout",
     "output_type": "stream",
     "text": [
      "[1 2 3 4 5 6]\n",
      "[ 1 -2 30  4 15  6]\n"
     ]
    }
   ],
   "source": [
    "print(arr2)\n",
    "print(arr3)"
   ]
  },
  {
   "cell_type": "code",
   "execution_count": 16,
   "id": "a4b76026",
   "metadata": {},
   "outputs": [
    {
     "data": {
      "text/plain": [
       "array([ 2,  0, 33,  8, 20, 12], dtype=int16)"
      ]
     },
     "execution_count": 16,
     "metadata": {},
     "output_type": "execute_result"
    }
   ],
   "source": [
    "r = arr2 + arr3\n",
    "r"
   ]
  },
  {
   "cell_type": "code",
   "execution_count": 17,
   "id": "2c0f1013",
   "metadata": {},
   "outputs": [
    {
     "data": {
      "text/plain": [
       "array([[[0., 0., 0., 0., 0.],\n",
       "        [0., 0., 0., 0., 0.],\n",
       "        [0., 0., 0., 0., 0.],\n",
       "        [0., 0., 0., 0., 0.]],\n",
       "\n",
       "       [[0., 0., 0., 0., 0.],\n",
       "        [0., 0., 0., 0., 0.],\n",
       "        [0., 0., 0., 0., 0.],\n",
       "        [0., 0., 0., 0., 0.]],\n",
       "\n",
       "       [[0., 0., 0., 0., 0.],\n",
       "        [0., 0., 0., 0., 0.],\n",
       "        [0., 0., 0., 0., 0.],\n",
       "        [0., 0., 0., 0., 0.]]])"
      ]
     },
     "execution_count": 17,
     "metadata": {},
     "output_type": "execute_result"
    }
   ],
   "source": [
    "m = np.zeros((3,4,5))\n",
    "m"
   ]
  },
  {
   "cell_type": "code",
   "execution_count": 19,
   "id": "3cbacc71",
   "metadata": {},
   "outputs": [
    {
     "data": {
      "text/plain": [
       "array([[[1., 1., 1., 1., 1.],\n",
       "        [1., 1., 1., 1., 1.],\n",
       "        [1., 1., 1., 1., 1.],\n",
       "        [1., 1., 1., 1., 1.]],\n",
       "\n",
       "       [[1., 1., 1., 1., 1.],\n",
       "        [1., 1., 1., 1., 1.],\n",
       "        [1., 1., 1., 1., 1.],\n",
       "        [1., 1., 1., 1., 1.]],\n",
       "\n",
       "       [[1., 1., 1., 1., 1.],\n",
       "        [1., 1., 1., 1., 1.],\n",
       "        [1., 1., 1., 1., 1.],\n",
       "        [1., 1., 1., 1., 1.]]])"
      ]
     },
     "execution_count": 19,
     "metadata": {},
     "output_type": "execute_result"
    }
   ],
   "source": [
    "m2 = np.ones_like(m)\n",
    "m2"
   ]
  },
  {
   "cell_type": "code",
   "execution_count": 20,
   "id": "90ff7101",
   "metadata": {},
   "outputs": [
    {
     "data": {
      "text/plain": [
       "array([[1., 0., 0., 0., 0., 0.],\n",
       "       [0., 1., 0., 0., 0., 0.],\n",
       "       [0., 0., 1., 0., 0., 0.],\n",
       "       [0., 0., 0., 1., 0., 0.],\n",
       "       [0., 0., 0., 0., 1., 0.],\n",
       "       [0., 0., 0., 0., 0., 1.]])"
      ]
     },
     "execution_count": 20,
     "metadata": {},
     "output_type": "execute_result"
    }
   ],
   "source": [
    "np.eye(6)"
   ]
  },
  {
   "cell_type": "code",
   "execution_count": 21,
   "id": "821c3473",
   "metadata": {},
   "outputs": [
    {
     "data": {
      "text/plain": [
       "array([ 3,  5,  5, 16, 17, 13,  2, 17,  8,  7, 17, 13, 19, 14,  2])"
      ]
     },
     "execution_count": 21,
     "metadata": {},
     "output_type": "execute_result"
    }
   ],
   "source": [
    "arr = np.random.randint(1,20, 15)\n",
    "arr"
   ]
  },
  {
   "cell_type": "code",
   "execution_count": 22,
   "id": "7c01b612",
   "metadata": {},
   "outputs": [
    {
     "data": {
      "text/plain": [
       "array([False, False, False,  True,  True,  True, False,  True, False,\n",
       "       False,  True,  True,  True,  True, False])"
      ]
     },
     "execution_count": 22,
     "metadata": {},
     "output_type": "execute_result"
    }
   ],
   "source": [
    "arr > 10"
   ]
  },
  {
   "cell_type": "code",
   "execution_count": 23,
   "id": "cc2da4f7",
   "metadata": {},
   "outputs": [
    {
     "data": {
      "text/plain": [
       "8"
      ]
     },
     "execution_count": 23,
     "metadata": {},
     "output_type": "execute_result"
    }
   ],
   "source": [
    "(arr > 10).sum()"
   ]
  },
  {
   "cell_type": "code",
   "execution_count": 24,
   "id": "a15dbc5e",
   "metadata": {},
   "outputs": [
    {
     "data": {
      "text/plain": [
       "array([16, 17, 13, 17, 17, 13, 19, 14])"
      ]
     },
     "execution_count": 24,
     "metadata": {},
     "output_type": "execute_result"
    }
   ],
   "source": [
    "arr[arr > 10]"
   ]
  },
  {
   "cell_type": "code",
   "execution_count": 25,
   "id": "9a9bba3d",
   "metadata": {},
   "outputs": [
    {
     "data": {
      "text/plain": [
       "array([3, 5, 5])"
      ]
     },
     "execution_count": 25,
     "metadata": {},
     "output_type": "execute_result"
    }
   ],
   "source": [
    "arr[[0,1,2]]"
   ]
  },
  {
   "cell_type": "code",
   "execution_count": 26,
   "id": "0142ea2c",
   "metadata": {},
   "outputs": [
    {
     "data": {
      "text/plain": [
       "array([5, 5, 8, 7])"
      ]
     },
     "execution_count": 26,
     "metadata": {},
     "output_type": "execute_result"
    }
   ],
   "source": [
    "arr[(arr >= 5) & (arr <= 10)]"
   ]
  },
  {
   "cell_type": "code",
   "execution_count": 27,
   "id": "7c1080ed",
   "metadata": {},
   "outputs": [
    {
     "data": {
      "text/plain": [
       "array([ 3,  5,  5, 16, 17, 13,  2, 17,  5,  5, 17, 13, 19, 14,  2])"
      ]
     },
     "execution_count": 27,
     "metadata": {},
     "output_type": "execute_result"
    }
   ],
   "source": [
    "arr[(arr > 5) & (arr < 10)] = 5\n",
    "arr"
   ]
  },
  {
   "cell_type": "code",
   "execution_count": 28,
   "id": "e04979c5",
   "metadata": {},
   "outputs": [
    {
     "data": {
      "text/plain": [
       "array([[ 9, 16,  4,  1, 13],\n",
       "       [18,  3,  2,  4,  9],\n",
       "       [ 5,  4, 18, 12, 19],\n",
       "       [17,  1,  5, 14, 16],\n",
       "       [17, 18, 18,  1, 11]])"
      ]
     },
     "execution_count": 28,
     "metadata": {},
     "output_type": "execute_result"
    }
   ],
   "source": [
    "m2 = np.random.randint(1,20, 25).reshape(5,-1)\n",
    "m2"
   ]
  },
  {
   "cell_type": "code",
   "execution_count": 29,
   "id": "011e02b3",
   "metadata": {},
   "outputs": [
    {
     "data": {
      "text/plain": [
       "array([[ 3,  2,  4],\n",
       "       [ 4, 18, 12],\n",
       "       [ 1,  5, 14]])"
      ]
     },
     "execution_count": 29,
     "metadata": {},
     "output_type": "execute_result"
    }
   ],
   "source": [
    "m2[1:-1,1:-1]"
   ]
  },
  {
   "cell_type": "code",
   "execution_count": 30,
   "id": "590667b8",
   "metadata": {},
   "outputs": [
    {
     "data": {
      "text/plain": [
       "array([ 9, 16,  4,  1, 13])"
      ]
     },
     "execution_count": 30,
     "metadata": {},
     "output_type": "execute_result"
    }
   ],
   "source": [
    "m2[0]"
   ]
  },
  {
   "cell_type": "code",
   "execution_count": 31,
   "id": "497f4a9c",
   "metadata": {},
   "outputs": [
    {
     "data": {
      "text/plain": [
       "array([[17, 18, 18,  1, 11],\n",
       "       [ 5,  4, 18, 12, 19],\n",
       "       [18,  3,  2,  4,  9]])"
      ]
     },
     "execution_count": 31,
     "metadata": {},
     "output_type": "execute_result"
    }
   ],
   "source": [
    "m2[[4,2,1]]"
   ]
  },
  {
   "cell_type": "code",
   "execution_count": 32,
   "id": "37f0f8f2",
   "metadata": {},
   "outputs": [
    {
     "data": {
      "text/plain": [
       "array([[ 9, 16,  4,  1, 13],\n",
       "       [ 5,  4, 18, 12, 19],\n",
       "       [17,  1,  5, 14, 16]])"
      ]
     },
     "execution_count": 32,
     "metadata": {},
     "output_type": "execute_result"
    }
   ],
   "source": [
    "m2[[True,False,True,True,False]]"
   ]
  },
  {
   "cell_type": "code",
   "execution_count": 33,
   "id": "d3641057",
   "metadata": {},
   "outputs": [
    {
     "name": "stdout",
     "output_type": "stream",
     "text": [
      "[1 2 3 4 5 6]\n",
      "[ 1 -2 30  4 15  6]\n"
     ]
    }
   ],
   "source": [
    "arr2 = np.array((1,2,3,4,5,6), dtype=np.uint8)\n",
    "arr3 = np.array((1,-2,30,4,15,6), dtype=\"i1\")\n",
    "print(arr2)\n",
    "print(arr3)"
   ]
  },
  {
   "cell_type": "code",
   "execution_count": 34,
   "id": "6b690b30",
   "metadata": {},
   "outputs": [
    {
     "name": "stdout",
     "output_type": "stream",
     "text": [
      "[ 1  2 30  4 15  6]\n",
      "[ 1 -2  3  4  5  6]\n"
     ]
    }
   ],
   "source": [
    "print(np.maximum(arr2, arr3))\n",
    "print(np.minimum(arr2, arr3))"
   ]
  },
  {
   "cell_type": "code",
   "execution_count": 35,
   "id": "0e940b93",
   "metadata": {},
   "outputs": [
    {
     "data": {
      "text/plain": [
       "array([[0, 1, 2],\n",
       "       [3, 4, 5],\n",
       "       [6, 7, 8]])"
      ]
     },
     "execution_count": 35,
     "metadata": {},
     "output_type": "execute_result"
    }
   ],
   "source": [
    "m1 = np.arange(9).reshape((3,3))\n",
    "m1"
   ]
  },
  {
   "cell_type": "code",
   "execution_count": 39,
   "id": "cfb409b3",
   "metadata": {},
   "outputs": [
    {
     "data": {
      "text/plain": [
       "array([0, 1, 2])"
      ]
     },
     "execution_count": 39,
     "metadata": {},
     "output_type": "execute_result"
    }
   ],
   "source": [
    "a2 = np.arange(3)\n",
    "a2"
   ]
  },
  {
   "cell_type": "code",
   "execution_count": 40,
   "id": "1cf1e3b2",
   "metadata": {},
   "outputs": [
    {
     "data": {
      "text/plain": [
       "array([[ 0,  2,  4],\n",
       "       [ 3,  5,  7],\n",
       "       [ 6,  8, 10]])"
      ]
     },
     "execution_count": 40,
     "metadata": {},
     "output_type": "execute_result"
    }
   ],
   "source": [
    "m1 + a2"
   ]
  },
  {
   "cell_type": "code",
   "execution_count": 42,
   "id": "27d9c326",
   "metadata": {},
   "outputs": [
    {
     "data": {
      "text/plain": [
       "array([[18, 19,  2, 10,  5],\n",
       "       [11, 17, 11,  9, 12],\n",
       "       [ 4, 17, 17,  4, 16],\n",
       "       [17, 15, 12, 15,  2],\n",
       "       [ 9, 13, 16,  5,  4]])"
      ]
     },
     "execution_count": 42,
     "metadata": {},
     "output_type": "execute_result"
    }
   ],
   "source": [
    "m2 = np.random.randint(1,20, (5,5))\n",
    "m2"
   ]
  },
  {
   "cell_type": "code",
   "execution_count": 46,
   "id": "04749905",
   "metadata": {},
   "outputs": [
    {
     "data": {
      "text/plain": [
       "array([[ 0,  0,  0, 10,  5],\n",
       "       [ 0,  0,  0,  9,  0],\n",
       "       [ 0,  0,  0,  0,  0],\n",
       "       [ 0,  0,  0,  0,  0],\n",
       "       [ 9,  0,  0,  5,  0]])"
      ]
     },
     "execution_count": 46,
     "metadata": {},
     "output_type": "execute_result"
    }
   ],
   "source": [
    "m3 = np.where((m2 < 5) | (m2 > 10), 0, m2)\n",
    "m3"
   ]
  },
  {
   "cell_type": "code",
   "execution_count": 47,
   "id": "f7698ade",
   "metadata": {},
   "outputs": [
    {
     "data": {
      "text/plain": [
       "280"
      ]
     },
     "execution_count": 47,
     "metadata": {},
     "output_type": "execute_result"
    }
   ],
   "source": [
    "m2.sum()"
   ]
  },
  {
   "cell_type": "code",
   "execution_count": 48,
   "id": "c638873d",
   "metadata": {},
   "outputs": [
    {
     "data": {
      "text/plain": [
       "15"
      ]
     },
     "execution_count": 48,
     "metadata": {},
     "output_type": "execute_result"
    }
   ],
   "source": [
    "(m2 > 10).sum()"
   ]
  },
  {
   "cell_type": "code",
   "execution_count": 49,
   "id": "fe334704",
   "metadata": {},
   "outputs": [
    {
     "data": {
      "text/plain": [
       "array([18, 19, 11, 17, 11, 12, 17, 17, 16, 17, 15, 12, 15, 13, 16])"
      ]
     },
     "execution_count": 49,
     "metadata": {},
     "output_type": "execute_result"
    }
   ],
   "source": [
    "m2[m2 > 10]"
   ]
  },
  {
   "cell_type": "code",
   "execution_count": 51,
   "id": "f394394d",
   "metadata": {},
   "outputs": [
    {
     "data": {
      "text/plain": [
       "226"
      ]
     },
     "execution_count": 51,
     "metadata": {},
     "output_type": "execute_result"
    }
   ],
   "source": [
    "m2[m2 > 10].sum()"
   ]
  },
  {
   "cell_type": "code",
   "execution_count": 52,
   "id": "10d18c85",
   "metadata": {},
   "outputs": [
    {
     "data": {
      "text/plain": [
       "array([59, 81, 58, 43, 39])"
      ]
     },
     "execution_count": 52,
     "metadata": {},
     "output_type": "execute_result"
    }
   ],
   "source": [
    "m2.sum(axis=0)"
   ]
  },
  {
   "cell_type": "code",
   "execution_count": 53,
   "id": "3168f7c7",
   "metadata": {},
   "outputs": [
    {
     "data": {
      "text/plain": [
       "54"
      ]
     },
     "execution_count": 53,
     "metadata": {},
     "output_type": "execute_result"
    }
   ],
   "source": [
    "m2[0].sum()"
   ]
  },
  {
   "cell_type": "code",
   "execution_count": 54,
   "id": "5e699319",
   "metadata": {},
   "outputs": [
    {
     "data": {
      "text/plain": [
       "array([54, 60, 58, 61, 47])"
      ]
     },
     "execution_count": 54,
     "metadata": {},
     "output_type": "execute_result"
    }
   ],
   "source": [
    "m2.sum(axis=1)"
   ]
  },
  {
   "cell_type": "code",
   "execution_count": 55,
   "id": "c14d3551",
   "metadata": {},
   "outputs": [
    {
     "data": {
      "text/plain": [
       "47"
      ]
     },
     "execution_count": 55,
     "metadata": {},
     "output_type": "execute_result"
    }
   ],
   "source": [
    "m2[-1].sum()"
   ]
  },
  {
   "cell_type": "code",
   "execution_count": 56,
   "id": "5092ed2a",
   "metadata": {},
   "outputs": [
    {
     "data": {
      "text/plain": [
       "2"
      ]
     },
     "execution_count": 56,
     "metadata": {},
     "output_type": "execute_result"
    }
   ],
   "source": [
    "np.amin(m2)"
   ]
  },
  {
   "cell_type": "code",
   "execution_count": 58,
   "id": "372037ac",
   "metadata": {},
   "outputs": [
    {
     "data": {
      "text/plain": [
       "19"
      ]
     },
     "execution_count": 58,
     "metadata": {},
     "output_type": "execute_result"
    }
   ],
   "source": [
    "np.amax(m2)"
   ]
  },
  {
   "cell_type": "code",
   "execution_count": 59,
   "id": "73e21fa3",
   "metadata": {},
   "outputs": [
    {
     "data": {
      "text/plain": [
       "1"
      ]
     },
     "execution_count": 59,
     "metadata": {},
     "output_type": "execute_result"
    }
   ],
   "source": [
    "np.argmax(m2)"
   ]
  },
  {
   "cell_type": "code",
   "execution_count": 60,
   "id": "1a38cfc1",
   "metadata": {},
   "outputs": [
    {
     "data": {
      "text/plain": [
       "2"
      ]
     },
     "execution_count": 60,
     "metadata": {},
     "output_type": "execute_result"
    }
   ],
   "source": [
    "np.argmin(m2)"
   ]
  },
  {
   "cell_type": "code",
   "execution_count": 61,
   "id": "5b3d675a",
   "metadata": {},
   "outputs": [
    {
     "data": {
      "image/png": "[encoded data removed]",
      "text/plain": [
       "<Figure size 432x288 with 1 Axes>"
      ]
     },
     "metadata": {
      "needs_background": "light"
     },
     "output_type": "display_data"
    }
   ],
   "source": [
    "import numpy as np\n",
    "import matplotlib.pyplot as plt\n",
    "np.random.seed(123)\n",
    "\n",
    "x = np.random.randint (0, 50,1000)\n",
    "y = x +np.random.normal (0, 10,1000)\n",
    "\n",
    "plt.scatter(x,y)\n",
    "c =np.corrcoef (x,y)"
   ]
  },
  {
   "cell_type": "code",
   "execution_count": 62,
   "id": "16301f71",
   "metadata": {},
   "outputs": [
    {
     "data": {
      "text/plain": [
       "array([[1.        , 0.82550537],\n",
       "       [0.82550537, 1.        ]])"
      ]
     },
     "execution_count": 62,
     "metadata": {},
     "output_type": "execute_result"
    }
   ],
   "source": [
    "c"
   ]
  },
  {
   "cell_type": "code",
   "execution_count": 64,
   "id": "20e6b42f",
   "metadata": {},
   "outputs": [
    {
     "name": "stdout",
     "output_type": "stream",
     "text": [
      "correlación x e y:  82.55 %\n"
     ]
    }
   ],
   "source": [
    "print('correlación x e y: ', round(c[0][1]*100,2),'%')"
   ]
  },
  {
   "cell_type": "code",
   "execution_count": null,
   "id": "400fe241",
   "metadata": {},
   "outputs": [],
   "source": []
  }
 ],
 "metadata": {
  "kernelspec": {
   "display_name": "Python 3 (ipykernel)",
   "language": "python",
   "name": "python3"
  },
  "language_info": {
   "codemirror_mode": {
    "name": "ipython",
    "version": 3
   },
   "file_extension": ".py",
   "mimetype": "text/x-python",
   "name": "python",
   "nbconvert_exporter": "python",
   "pygments_lexer": "ipython3",
   "version": "3.8.5"
  }
 },
 "nbformat": 4,
 "nbformat_minor": 5
}
